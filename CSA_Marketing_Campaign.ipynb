{
  "nbformat": 4,
  "nbformat_minor": 0,
  "metadata": {
    "colab": {
      "provenance": []
    },
    "kernelspec": {
      "name": "python3",
      "display_name": "Python 3"
    },
    "language_info": {
      "name": "python"
    }
  },
  "cells": [
    {
      "cell_type": "markdown",
      "source": [
        "# Data Preparation"
      ],
      "metadata": {
        "id": "S7ula3f8VdOm"
      }
    },
    {
      "cell_type": "code",
      "execution_count": null,
      "metadata": {
        "id": "Q3b-u8-U60Iq"
      },
      "outputs": [],
      "source": [
        "import pandas as pd\n",
        "from sklearn.linear_model import LogisticRegression\n",
        "from sklearn.cluster import KMeans\n",
        "from sklearn.metrics import accuracy_score, f1_score, confusion_matrix\n",
        "import plotly.express as px\n",
        "import matplotlib.pyplot as plt\n",
        "import seaborn as sns"
      ]
    },
    {
      "cell_type": "code",
      "source": [
        "# Load campaign data\n",
        "df = pd.read_excel('marketing_campaign_v2.xlsx')"
      ],
      "metadata": {
        "id": "GvmyzP-37jj9"
      },
      "execution_count": null,
      "outputs": []
    },
    {
      "cell_type": "code",
      "source": [
        "# Print Head\n",
        "df.head()"
      ],
      "metadata": {
        "colab": {
          "base_uri": "https://localhost:8080/",
          "height": 342
        },
        "id": "sDDybw2c8sbC",
        "outputId": "9d477cd4-6995-4d4c-be08-0e75241a18a0"
      },
      "execution_count": null,
      "outputs": [
        {
          "output_type": "execute_result",
          "data": {
            "text/plain": [
              "     ID  Year_Birth  Age Education Marital_Status   Income  Kidhome  Teenhome  \\\n",
              "0  6663        1940   84       PhD         Single  51141.0        0         0   \n",
              "1  6932        1941   83       PhD        Married  93027.0        0         0   \n",
              "2  2968        1943   81       PhD       Divorced  48948.0        0         0   \n",
              "3  8800        1943   81       PhD       Divorced  48948.0        0         0   \n",
              "4  1453        1943   81       PhD          Widow  57513.0        0         0   \n",
              "\n",
              "  Dt_Customer      dummy  ...  NumCatalogPurchases  NumStorePurchases  \\\n",
              "0  2013-07-08 2024-01-01  ...                    1                  4   \n",
              "1  2013-04-13 2024-01-01  ...                   10                  5   \n",
              "2  2013-02-01 2024-01-01  ...                   10                  5   \n",
              "3  2013-02-01 2024-01-01  ...                   10                  5   \n",
              "4  2013-07-06 2024-01-01  ...                    3                 13   \n",
              "\n",
              "   NumWebVisitsMonth  AcceptedCmp3  AcceptedCmp4  AcceptedCmp5  AcceptedCmp1  \\\n",
              "0                  5             0             0             0             0   \n",
              "1                  2             0             0             1             0   \n",
              "2                  6             1             0             0             0   \n",
              "3                  6             1             0             0             0   \n",
              "4                  6             0             0             0             0   \n",
              "\n",
              "   AcceptedCmp2  Response_actual  Complain  \n",
              "0             0                0         0  \n",
              "1             0                1         0  \n",
              "2             0                1         0  \n",
              "3             0                1         0  \n",
              "4             0                0         0  \n",
              "\n",
              "[5 rows x 30 columns]"
            ],
            "text/html": [
              "\n",
              "  <div id=\"df-dbdc4f10-a70f-477f-92f1-3f566e32f141\" class=\"colab-df-container\">\n",
              "    <div>\n",
              "<style scoped>\n",
              "    .dataframe tbody tr th:only-of-type {\n",
              "        vertical-align: middle;\n",
              "    }\n",
              "\n",
              "    .dataframe tbody tr th {\n",
              "        vertical-align: top;\n",
              "    }\n",
              "\n",
              "    .dataframe thead th {\n",
              "        text-align: right;\n",
              "    }\n",
              "</style>\n",
              "<table border=\"1\" class=\"dataframe\">\n",
              "  <thead>\n",
              "    <tr style=\"text-align: right;\">\n",
              "      <th></th>\n",
              "      <th>ID</th>\n",
              "      <th>Year_Birth</th>\n",
              "      <th>Age</th>\n",
              "      <th>Education</th>\n",
              "      <th>Marital_Status</th>\n",
              "      <th>Income</th>\n",
              "      <th>Kidhome</th>\n",
              "      <th>Teenhome</th>\n",
              "      <th>Dt_Customer</th>\n",
              "      <th>dummy</th>\n",
              "      <th>...</th>\n",
              "      <th>NumCatalogPurchases</th>\n",
              "      <th>NumStorePurchases</th>\n",
              "      <th>NumWebVisitsMonth</th>\n",
              "      <th>AcceptedCmp3</th>\n",
              "      <th>AcceptedCmp4</th>\n",
              "      <th>AcceptedCmp5</th>\n",
              "      <th>AcceptedCmp1</th>\n",
              "      <th>AcceptedCmp2</th>\n",
              "      <th>Response_actual</th>\n",
              "      <th>Complain</th>\n",
              "    </tr>\n",
              "  </thead>\n",
              "  <tbody>\n",
              "    <tr>\n",
              "      <th>0</th>\n",
              "      <td>6663</td>\n",
              "      <td>1940</td>\n",
              "      <td>84</td>\n",
              "      <td>PhD</td>\n",
              "      <td>Single</td>\n",
              "      <td>51141.0</td>\n",
              "      <td>0</td>\n",
              "      <td>0</td>\n",
              "      <td>2013-07-08</td>\n",
              "      <td>2024-01-01</td>\n",
              "      <td>...</td>\n",
              "      <td>1</td>\n",
              "      <td>4</td>\n",
              "      <td>5</td>\n",
              "      <td>0</td>\n",
              "      <td>0</td>\n",
              "      <td>0</td>\n",
              "      <td>0</td>\n",
              "      <td>0</td>\n",
              "      <td>0</td>\n",
              "      <td>0</td>\n",
              "    </tr>\n",
              "    <tr>\n",
              "      <th>1</th>\n",
              "      <td>6932</td>\n",
              "      <td>1941</td>\n",
              "      <td>83</td>\n",
              "      <td>PhD</td>\n",
              "      <td>Married</td>\n",
              "      <td>93027.0</td>\n",
              "      <td>0</td>\n",
              "      <td>0</td>\n",
              "      <td>2013-04-13</td>\n",
              "      <td>2024-01-01</td>\n",
              "      <td>...</td>\n",
              "      <td>10</td>\n",
              "      <td>5</td>\n",
              "      <td>2</td>\n",
              "      <td>0</td>\n",
              "      <td>0</td>\n",
              "      <td>1</td>\n",
              "      <td>0</td>\n",
              "      <td>0</td>\n",
              "      <td>1</td>\n",
              "      <td>0</td>\n",
              "    </tr>\n",
              "    <tr>\n",
              "      <th>2</th>\n",
              "      <td>2968</td>\n",
              "      <td>1943</td>\n",
              "      <td>81</td>\n",
              "      <td>PhD</td>\n",
              "      <td>Divorced</td>\n",
              "      <td>48948.0</td>\n",
              "      <td>0</td>\n",
              "      <td>0</td>\n",
              "      <td>2013-02-01</td>\n",
              "      <td>2024-01-01</td>\n",
              "      <td>...</td>\n",
              "      <td>10</td>\n",
              "      <td>5</td>\n",
              "      <td>6</td>\n",
              "      <td>1</td>\n",
              "      <td>0</td>\n",
              "      <td>0</td>\n",
              "      <td>0</td>\n",
              "      <td>0</td>\n",
              "      <td>1</td>\n",
              "      <td>0</td>\n",
              "    </tr>\n",
              "    <tr>\n",
              "      <th>3</th>\n",
              "      <td>8800</td>\n",
              "      <td>1943</td>\n",
              "      <td>81</td>\n",
              "      <td>PhD</td>\n",
              "      <td>Divorced</td>\n",
              "      <td>48948.0</td>\n",
              "      <td>0</td>\n",
              "      <td>0</td>\n",
              "      <td>2013-02-01</td>\n",
              "      <td>2024-01-01</td>\n",
              "      <td>...</td>\n",
              "      <td>10</td>\n",
              "      <td>5</td>\n",
              "      <td>6</td>\n",
              "      <td>1</td>\n",
              "      <td>0</td>\n",
              "      <td>0</td>\n",
              "      <td>0</td>\n",
              "      <td>0</td>\n",
              "      <td>1</td>\n",
              "      <td>0</td>\n",
              "    </tr>\n",
              "    <tr>\n",
              "      <th>4</th>\n",
              "      <td>1453</td>\n",
              "      <td>1943</td>\n",
              "      <td>81</td>\n",
              "      <td>PhD</td>\n",
              "      <td>Widow</td>\n",
              "      <td>57513.0</td>\n",
              "      <td>0</td>\n",
              "      <td>0</td>\n",
              "      <td>2013-07-06</td>\n",
              "      <td>2024-01-01</td>\n",
              "      <td>...</td>\n",
              "      <td>3</td>\n",
              "      <td>13</td>\n",
              "      <td>6</td>\n",
              "      <td>0</td>\n",
              "      <td>0</td>\n",
              "      <td>0</td>\n",
              "      <td>0</td>\n",
              "      <td>0</td>\n",
              "      <td>0</td>\n",
              "      <td>0</td>\n",
              "    </tr>\n",
              "  </tbody>\n",
              "</table>\n",
              "<p>5 rows × 30 columns</p>\n",
              "</div>\n",
              "    <div class=\"colab-df-buttons\">\n",
              "\n",
              "  <div class=\"colab-df-container\">\n",
              "    <button class=\"colab-df-convert\" onclick=\"convertToInteractive('df-dbdc4f10-a70f-477f-92f1-3f566e32f141')\"\n",
              "            title=\"Convert this dataframe to an interactive table.\"\n",
              "            style=\"display:none;\">\n",
              "\n",
              "  <svg xmlns=\"http://www.w3.org/2000/svg\" height=\"24px\" viewBox=\"0 -960 960 960\">\n",
              "    <path d=\"M120-120v-720h720v720H120Zm60-500h600v-160H180v160Zm220 220h160v-160H400v160Zm0 220h160v-160H400v160ZM180-400h160v-160H180v160Zm440 0h160v-160H620v160ZM180-180h160v-160H180v160Zm440 0h160v-160H620v160Z\"/>\n",
              "  </svg>\n",
              "    </button>\n",
              "\n",
              "  <style>\n",
              "    .colab-df-container {\n",
              "      display:flex;\n",
              "      gap: 12px;\n",
              "    }\n",
              "\n",
              "    .colab-df-convert {\n",
              "      background-color: #E8F0FE;\n",
              "      border: none;\n",
              "      border-radius: 50%;\n",
              "      cursor: pointer;\n",
              "      display: none;\n",
              "      fill: #1967D2;\n",
              "      height: 32px;\n",
              "      padding: 0 0 0 0;\n",
              "      width: 32px;\n",
              "    }\n",
              "\n",
              "    .colab-df-convert:hover {\n",
              "      background-color: #E2EBFA;\n",
              "      box-shadow: 0px 1px 2px rgba(60, 64, 67, 0.3), 0px 1px 3px 1px rgba(60, 64, 67, 0.15);\n",
              "      fill: #174EA6;\n",
              "    }\n",
              "\n",
              "    .colab-df-buttons div {\n",
              "      margin-bottom: 4px;\n",
              "    }\n",
              "\n",
              "    [theme=dark] .colab-df-convert {\n",
              "      background-color: #3B4455;\n",
              "      fill: #D2E3FC;\n",
              "    }\n",
              "\n",
              "    [theme=dark] .colab-df-convert:hover {\n",
              "      background-color: #434B5C;\n",
              "      box-shadow: 0px 1px 3px 1px rgba(0, 0, 0, 0.15);\n",
              "      filter: drop-shadow(0px 1px 2px rgba(0, 0, 0, 0.3));\n",
              "      fill: #FFFFFF;\n",
              "    }\n",
              "  </style>\n",
              "\n",
              "    <script>\n",
              "      const buttonEl =\n",
              "        document.querySelector('#df-dbdc4f10-a70f-477f-92f1-3f566e32f141 button.colab-df-convert');\n",
              "      buttonEl.style.display =\n",
              "        google.colab.kernel.accessAllowed ? 'block' : 'none';\n",
              "\n",
              "      async function convertToInteractive(key) {\n",
              "        const element = document.querySelector('#df-dbdc4f10-a70f-477f-92f1-3f566e32f141');\n",
              "        const dataTable =\n",
              "          await google.colab.kernel.invokeFunction('convertToInteractive',\n",
              "                                                    [key], {});\n",
              "        if (!dataTable) return;\n",
              "\n",
              "        const docLinkHtml = 'Like what you see? Visit the ' +\n",
              "          '<a target=\"_blank\" href=https://colab.research.google.com/notebooks/data_table.ipynb>data table notebook</a>'\n",
              "          + ' to learn more about interactive tables.';\n",
              "        element.innerHTML = '';\n",
              "        dataTable['output_type'] = 'display_data';\n",
              "        await google.colab.output.renderOutput(dataTable, element);\n",
              "        const docLink = document.createElement('div');\n",
              "        docLink.innerHTML = docLinkHtml;\n",
              "        element.appendChild(docLink);\n",
              "      }\n",
              "    </script>\n",
              "  </div>\n",
              "\n",
              "\n",
              "<div id=\"df-3adbce52-0d57-410b-93bf-91103548ae3c\">\n",
              "  <button class=\"colab-df-quickchart\" onclick=\"quickchart('df-3adbce52-0d57-410b-93bf-91103548ae3c')\"\n",
              "            title=\"Suggest charts\"\n",
              "            style=\"display:none;\">\n",
              "\n",
              "<svg xmlns=\"http://www.w3.org/2000/svg\" height=\"24px\"viewBox=\"0 0 24 24\"\n",
              "     width=\"24px\">\n",
              "    <g>\n",
              "        <path d=\"M19 3H5c-1.1 0-2 .9-2 2v14c0 1.1.9 2 2 2h14c1.1 0 2-.9 2-2V5c0-1.1-.9-2-2-2zM9 17H7v-7h2v7zm4 0h-2V7h2v10zm4 0h-2v-4h2v4z\"/>\n",
              "    </g>\n",
              "</svg>\n",
              "  </button>\n",
              "\n",
              "<style>\n",
              "  .colab-df-quickchart {\n",
              "      --bg-color: #E8F0FE;\n",
              "      --fill-color: #1967D2;\n",
              "      --hover-bg-color: #E2EBFA;\n",
              "      --hover-fill-color: #174EA6;\n",
              "      --disabled-fill-color: #AAA;\n",
              "      --disabled-bg-color: #DDD;\n",
              "  }\n",
              "\n",
              "  [theme=dark] .colab-df-quickchart {\n",
              "      --bg-color: #3B4455;\n",
              "      --fill-color: #D2E3FC;\n",
              "      --hover-bg-color: #434B5C;\n",
              "      --hover-fill-color: #FFFFFF;\n",
              "      --disabled-bg-color: #3B4455;\n",
              "      --disabled-fill-color: #666;\n",
              "  }\n",
              "\n",
              "  .colab-df-quickchart {\n",
              "    background-color: var(--bg-color);\n",
              "    border: none;\n",
              "    border-radius: 50%;\n",
              "    cursor: pointer;\n",
              "    display: none;\n",
              "    fill: var(--fill-color);\n",
              "    height: 32px;\n",
              "    padding: 0;\n",
              "    width: 32px;\n",
              "  }\n",
              "\n",
              "  .colab-df-quickchart:hover {\n",
              "    background-color: var(--hover-bg-color);\n",
              "    box-shadow: 0 1px 2px rgba(60, 64, 67, 0.3), 0 1px 3px 1px rgba(60, 64, 67, 0.15);\n",
              "    fill: var(--button-hover-fill-color);\n",
              "  }\n",
              "\n",
              "  .colab-df-quickchart-complete:disabled,\n",
              "  .colab-df-quickchart-complete:disabled:hover {\n",
              "    background-color: var(--disabled-bg-color);\n",
              "    fill: var(--disabled-fill-color);\n",
              "    box-shadow: none;\n",
              "  }\n",
              "\n",
              "  .colab-df-spinner {\n",
              "    border: 2px solid var(--fill-color);\n",
              "    border-color: transparent;\n",
              "    border-bottom-color: var(--fill-color);\n",
              "    animation:\n",
              "      spin 1s steps(1) infinite;\n",
              "  }\n",
              "\n",
              "  @keyframes spin {\n",
              "    0% {\n",
              "      border-color: transparent;\n",
              "      border-bottom-color: var(--fill-color);\n",
              "      border-left-color: var(--fill-color);\n",
              "    }\n",
              "    20% {\n",
              "      border-color: transparent;\n",
              "      border-left-color: var(--fill-color);\n",
              "      border-top-color: var(--fill-color);\n",
              "    }\n",
              "    30% {\n",
              "      border-color: transparent;\n",
              "      border-left-color: var(--fill-color);\n",
              "      border-top-color: var(--fill-color);\n",
              "      border-right-color: var(--fill-color);\n",
              "    }\n",
              "    40% {\n",
              "      border-color: transparent;\n",
              "      border-right-color: var(--fill-color);\n",
              "      border-top-color: var(--fill-color);\n",
              "    }\n",
              "    60% {\n",
              "      border-color: transparent;\n",
              "      border-right-color: var(--fill-color);\n",
              "    }\n",
              "    80% {\n",
              "      border-color: transparent;\n",
              "      border-right-color: var(--fill-color);\n",
              "      border-bottom-color: var(--fill-color);\n",
              "    }\n",
              "    90% {\n",
              "      border-color: transparent;\n",
              "      border-bottom-color: var(--fill-color);\n",
              "    }\n",
              "  }\n",
              "</style>\n",
              "\n",
              "  <script>\n",
              "    async function quickchart(key) {\n",
              "      const quickchartButtonEl =\n",
              "        document.querySelector('#' + key + ' button');\n",
              "      quickchartButtonEl.disabled = true;  // To prevent multiple clicks.\n",
              "      quickchartButtonEl.classList.add('colab-df-spinner');\n",
              "      try {\n",
              "        const charts = await google.colab.kernel.invokeFunction(\n",
              "            'suggestCharts', [key], {});\n",
              "      } catch (error) {\n",
              "        console.error('Error during call to suggestCharts:', error);\n",
              "      }\n",
              "      quickchartButtonEl.classList.remove('colab-df-spinner');\n",
              "      quickchartButtonEl.classList.add('colab-df-quickchart-complete');\n",
              "    }\n",
              "    (() => {\n",
              "      let quickchartButtonEl =\n",
              "        document.querySelector('#df-3adbce52-0d57-410b-93bf-91103548ae3c button');\n",
              "      quickchartButtonEl.style.display =\n",
              "        google.colab.kernel.accessAllowed ? 'block' : 'none';\n",
              "    })();\n",
              "  </script>\n",
              "</div>\n",
              "    </div>\n",
              "  </div>\n"
            ],
            "application/vnd.google.colaboratory.intrinsic+json": {
              "type": "dataframe",
              "variable_name": "df"
            }
          },
          "metadata": {},
          "execution_count": 3
        }
      ]
    },
    {
      "cell_type": "code",
      "source": [
        "# Check for null data\n",
        "df.isnull().sum()"
      ],
      "metadata": {
        "colab": {
          "base_uri": "https://localhost:8080/"
        },
        "id": "sOBs2LBh_HKN",
        "outputId": "d840d3b7-146f-4b68-80bc-765490432266"
      },
      "execution_count": null,
      "outputs": [
        {
          "output_type": "execute_result",
          "data": {
            "text/plain": [
              "ID                      0\n",
              "Year_Birth              0\n",
              "Age                     0\n",
              "Education               0\n",
              "Marital_Status          0\n",
              "Income                 24\n",
              "Kidhome                 0\n",
              "Teenhome                0\n",
              "Dt_Customer             0\n",
              "dummy                   0\n",
              "Years_with_Brand        0\n",
              "Recency                 0\n",
              "MntWines                0\n",
              "MntFruits               0\n",
              "MntMeatProducts         0\n",
              "MntFishProducts         0\n",
              "MntSweetProducts        0\n",
              "MntGoldProds            0\n",
              "NumDealsPurchases       0\n",
              "NumWebPurchases         0\n",
              "NumCatalogPurchases     0\n",
              "NumStorePurchases       0\n",
              "NumWebVisitsMonth       0\n",
              "AcceptedCmp3            0\n",
              "AcceptedCmp4            0\n",
              "AcceptedCmp5            0\n",
              "AcceptedCmp1            0\n",
              "AcceptedCmp2            0\n",
              "Response_actual         0\n",
              "Complain                0\n",
              "dtype: int64"
            ]
          },
          "metadata": {},
          "execution_count": 4
        }
      ]
    },
    {
      "cell_type": "code",
      "source": [
        "# Fill the null values with mean for Income column\n",
        "df['Income'] = df['Income'].fillna(df['Income'].mean())"
      ],
      "metadata": {
        "id": "EAryv3oG_NPq"
      },
      "execution_count": null,
      "outputs": []
    },
    {
      "cell_type": "code",
      "source": [
        "# Create age variable from year of birth\n",
        "df['Age'] = 2024 - df['Year_Birth']  # Assuming current year is 2024"
      ],
      "metadata": {
        "id": "o0bN7QGHMvzJ"
      },
      "execution_count": null,
      "outputs": []
    },
    {
      "cell_type": "code",
      "source": [
        "# Verify null values again\n",
        "df.isnull().sum()"
      ],
      "metadata": {
        "colab": {
          "base_uri": "https://localhost:8080/"
        },
        "id": "rV8mgJ3b_Xm3",
        "outputId": "a2318a46-77c0-4728-c5dc-bb533c303122"
      },
      "execution_count": null,
      "outputs": [
        {
          "output_type": "execute_result",
          "data": {
            "text/plain": [
              "ID                     0\n",
              "Year_Birth             0\n",
              "Age                    0\n",
              "Education              0\n",
              "Marital_Status         0\n",
              "Income                 0\n",
              "Kidhome                0\n",
              "Teenhome               0\n",
              "Dt_Customer            0\n",
              "dummy                  0\n",
              "Years_with_Brand       0\n",
              "Recency                0\n",
              "MntWines               0\n",
              "MntFruits              0\n",
              "MntMeatProducts        0\n",
              "MntFishProducts        0\n",
              "MntSweetProducts       0\n",
              "MntGoldProds           0\n",
              "NumDealsPurchases      0\n",
              "NumWebPurchases        0\n",
              "NumCatalogPurchases    0\n",
              "NumStorePurchases      0\n",
              "NumWebVisitsMonth      0\n",
              "AcceptedCmp3           0\n",
              "AcceptedCmp4           0\n",
              "AcceptedCmp5           0\n",
              "AcceptedCmp1           0\n",
              "AcceptedCmp2           0\n",
              "Response_actual        0\n",
              "Complain               0\n",
              "dtype: int64"
            ]
          },
          "metadata": {},
          "execution_count": 7
        }
      ]
    },
    {
      "cell_type": "markdown",
      "source": [
        "# Exploratory Data Analysis"
      ],
      "metadata": {
        "id": "XwWQWnTNVl65"
      }
    },
    {
      "cell_type": "code",
      "source": [
        "# Percentage of people educated by category\n",
        "x=df.Education.value_counts()\n",
        "fig=px.pie(df,values=x,names=x.index,title='Education')\n",
        "fig.show()"
      ],
      "metadata": {
        "colab": {
          "base_uri": "https://localhost:8080/",
          "height": 542
        },
        "id": "ywy5X__E_aEq",
        "outputId": "75615d23-2354-421c-cc04-f5cf2d6e54e4"
      },
      "execution_count": null,
      "outputs": [
        {
          "output_type": "display_data",
          "data": {
            "text/html": [
              "<html>\n",
              "<head><meta charset=\"utf-8\" /></head>\n",
              "<body>\n",
              "    <div>            <script src=\"https://cdnjs.cloudflare.com/ajax/libs/mathjax/2.7.5/MathJax.js?config=TeX-AMS-MML_SVG\"></script><script type=\"text/javascript\">if (window.MathJax && window.MathJax.Hub && window.MathJax.Hub.Config) {window.MathJax.Hub.Config({SVG: {font: \"STIX-Web\"}});}</script>                <script type=\"text/javascript\">window.PlotlyConfig = {MathJaxConfig: 'local'};</script>\n",
              "        <script charset=\"utf-8\" src=\"https://cdn.plot.ly/plotly-2.24.1.min.js\"></script>                <div id=\"b371ea0d-1702-431b-8329-d9bb78c06df6\" class=\"plotly-graph-div\" style=\"height:525px; width:100%;\"></div>            <script type=\"text/javascript\">                                    window.PLOTLYENV=window.PLOTLYENV || {};                                    if (document.getElementById(\"b371ea0d-1702-431b-8329-d9bb78c06df6\")) {                    Plotly.newPlot(                        \"b371ea0d-1702-431b-8329-d9bb78c06df6\",                        [{\"domain\":{\"x\":[0.0,1.0],\"y\":[0.0,1.0]},\"hovertemplate\":\"label=%{label}\\u003cbr\\u003evalue=%{value}\\u003cextra\\u003e\\u003c\\u002fextra\\u003e\",\"labels\":[\"Graduation\",\"PhD\",\"Master\",\"2n Cycle\",\"Basic\"],\"legendgroup\":\"\",\"name\":\"\",\"showlegend\":true,\"values\":[1126,485,370,201,54],\"type\":\"pie\"}],                        {\"template\":{\"data\":{\"histogram2dcontour\":[{\"type\":\"histogram2dcontour\",\"colorbar\":{\"outlinewidth\":0,\"ticks\":\"\"},\"colorscale\":[[0.0,\"#0d0887\"],[0.1111111111111111,\"#46039f\"],[0.2222222222222222,\"#7201a8\"],[0.3333333333333333,\"#9c179e\"],[0.4444444444444444,\"#bd3786\"],[0.5555555555555556,\"#d8576b\"],[0.6666666666666666,\"#ed7953\"],[0.7777777777777778,\"#fb9f3a\"],[0.8888888888888888,\"#fdca26\"],[1.0,\"#f0f921\"]]}],\"choropleth\":[{\"type\":\"choropleth\",\"colorbar\":{\"outlinewidth\":0,\"ticks\":\"\"}}],\"histogram2d\":[{\"type\":\"histogram2d\",\"colorbar\":{\"outlinewidth\":0,\"ticks\":\"\"},\"colorscale\":[[0.0,\"#0d0887\"],[0.1111111111111111,\"#46039f\"],[0.2222222222222222,\"#7201a8\"],[0.3333333333333333,\"#9c179e\"],[0.4444444444444444,\"#bd3786\"],[0.5555555555555556,\"#d8576b\"],[0.6666666666666666,\"#ed7953\"],[0.7777777777777778,\"#fb9f3a\"],[0.8888888888888888,\"#fdca26\"],[1.0,\"#f0f921\"]]}],\"heatmap\":[{\"type\":\"heatmap\",\"colorbar\":{\"outlinewidth\":0,\"ticks\":\"\"},\"colorscale\":[[0.0,\"#0d0887\"],[0.1111111111111111,\"#46039f\"],[0.2222222222222222,\"#7201a8\"],[0.3333333333333333,\"#9c179e\"],[0.4444444444444444,\"#bd3786\"],[0.5555555555555556,\"#d8576b\"],[0.6666666666666666,\"#ed7953\"],[0.7777777777777778,\"#fb9f3a\"],[0.8888888888888888,\"#fdca26\"],[1.0,\"#f0f921\"]]}],\"heatmapgl\":[{\"type\":\"heatmapgl\",\"colorbar\":{\"outlinewidth\":0,\"ticks\":\"\"},\"colorscale\":[[0.0,\"#0d0887\"],[0.1111111111111111,\"#46039f\"],[0.2222222222222222,\"#7201a8\"],[0.3333333333333333,\"#9c179e\"],[0.4444444444444444,\"#bd3786\"],[0.5555555555555556,\"#d8576b\"],[0.6666666666666666,\"#ed7953\"],[0.7777777777777778,\"#fb9f3a\"],[0.8888888888888888,\"#fdca26\"],[1.0,\"#f0f921\"]]}],\"contourcarpet\":[{\"type\":\"contourcarpet\",\"colorbar\":{\"outlinewidth\":0,\"ticks\":\"\"}}],\"contour\":[{\"type\":\"contour\",\"colorbar\":{\"outlinewidth\":0,\"ticks\":\"\"},\"colorscale\":[[0.0,\"#0d0887\"],[0.1111111111111111,\"#46039f\"],[0.2222222222222222,\"#7201a8\"],[0.3333333333333333,\"#9c179e\"],[0.4444444444444444,\"#bd3786\"],[0.5555555555555556,\"#d8576b\"],[0.6666666666666666,\"#ed7953\"],[0.7777777777777778,\"#fb9f3a\"],[0.8888888888888888,\"#fdca26\"],[1.0,\"#f0f921\"]]}],\"surface\":[{\"type\":\"surface\",\"colorbar\":{\"outlinewidth\":0,\"ticks\":\"\"},\"colorscale\":[[0.0,\"#0d0887\"],[0.1111111111111111,\"#46039f\"],[0.2222222222222222,\"#7201a8\"],[0.3333333333333333,\"#9c179e\"],[0.4444444444444444,\"#bd3786\"],[0.5555555555555556,\"#d8576b\"],[0.6666666666666666,\"#ed7953\"],[0.7777777777777778,\"#fb9f3a\"],[0.8888888888888888,\"#fdca26\"],[1.0,\"#f0f921\"]]}],\"mesh3d\":[{\"type\":\"mesh3d\",\"colorbar\":{\"outlinewidth\":0,\"ticks\":\"\"}}],\"scatter\":[{\"fillpattern\":{\"fillmode\":\"overlay\",\"size\":10,\"solidity\":0.2},\"type\":\"scatter\"}],\"parcoords\":[{\"type\":\"parcoords\",\"line\":{\"colorbar\":{\"outlinewidth\":0,\"ticks\":\"\"}}}],\"scatterpolargl\":[{\"type\":\"scatterpolargl\",\"marker\":{\"colorbar\":{\"outlinewidth\":0,\"ticks\":\"\"}}}],\"bar\":[{\"error_x\":{\"color\":\"#2a3f5f\"},\"error_y\":{\"color\":\"#2a3f5f\"},\"marker\":{\"line\":{\"color\":\"#E5ECF6\",\"width\":0.5},\"pattern\":{\"fillmode\":\"overlay\",\"size\":10,\"solidity\":0.2}},\"type\":\"bar\"}],\"scattergeo\":[{\"type\":\"scattergeo\",\"marker\":{\"colorbar\":{\"outlinewidth\":0,\"ticks\":\"\"}}}],\"scatterpolar\":[{\"type\":\"scatterpolar\",\"marker\":{\"colorbar\":{\"outlinewidth\":0,\"ticks\":\"\"}}}],\"histogram\":[{\"marker\":{\"pattern\":{\"fillmode\":\"overlay\",\"size\":10,\"solidity\":0.2}},\"type\":\"histogram\"}],\"scattergl\":[{\"type\":\"scattergl\",\"marker\":{\"colorbar\":{\"outlinewidth\":0,\"ticks\":\"\"}}}],\"scatter3d\":[{\"type\":\"scatter3d\",\"line\":{\"colorbar\":{\"outlinewidth\":0,\"ticks\":\"\"}},\"marker\":{\"colorbar\":{\"outlinewidth\":0,\"ticks\":\"\"}}}],\"scattermapbox\":[{\"type\":\"scattermapbox\",\"marker\":{\"colorbar\":{\"outlinewidth\":0,\"ticks\":\"\"}}}],\"scatterternary\":[{\"type\":\"scatterternary\",\"marker\":{\"colorbar\":{\"outlinewidth\":0,\"ticks\":\"\"}}}],\"scattercarpet\":[{\"type\":\"scattercarpet\",\"marker\":{\"colorbar\":{\"outlinewidth\":0,\"ticks\":\"\"}}}],\"carpet\":[{\"aaxis\":{\"endlinecolor\":\"#2a3f5f\",\"gridcolor\":\"white\",\"linecolor\":\"white\",\"minorgridcolor\":\"white\",\"startlinecolor\":\"#2a3f5f\"},\"baxis\":{\"endlinecolor\":\"#2a3f5f\",\"gridcolor\":\"white\",\"linecolor\":\"white\",\"minorgridcolor\":\"white\",\"startlinecolor\":\"#2a3f5f\"},\"type\":\"carpet\"}],\"table\":[{\"cells\":{\"fill\":{\"color\":\"#EBF0F8\"},\"line\":{\"color\":\"white\"}},\"header\":{\"fill\":{\"color\":\"#C8D4E3\"},\"line\":{\"color\":\"white\"}},\"type\":\"table\"}],\"barpolar\":[{\"marker\":{\"line\":{\"color\":\"#E5ECF6\",\"width\":0.5},\"pattern\":{\"fillmode\":\"overlay\",\"size\":10,\"solidity\":0.2}},\"type\":\"barpolar\"}],\"pie\":[{\"automargin\":true,\"type\":\"pie\"}]},\"layout\":{\"autotypenumbers\":\"strict\",\"colorway\":[\"#636efa\",\"#EF553B\",\"#00cc96\",\"#ab63fa\",\"#FFA15A\",\"#19d3f3\",\"#FF6692\",\"#B6E880\",\"#FF97FF\",\"#FECB52\"],\"font\":{\"color\":\"#2a3f5f\"},\"hovermode\":\"closest\",\"hoverlabel\":{\"align\":\"left\"},\"paper_bgcolor\":\"white\",\"plot_bgcolor\":\"#E5ECF6\",\"polar\":{\"bgcolor\":\"#E5ECF6\",\"angularaxis\":{\"gridcolor\":\"white\",\"linecolor\":\"white\",\"ticks\":\"\"},\"radialaxis\":{\"gridcolor\":\"white\",\"linecolor\":\"white\",\"ticks\":\"\"}},\"ternary\":{\"bgcolor\":\"#E5ECF6\",\"aaxis\":{\"gridcolor\":\"white\",\"linecolor\":\"white\",\"ticks\":\"\"},\"baxis\":{\"gridcolor\":\"white\",\"linecolor\":\"white\",\"ticks\":\"\"},\"caxis\":{\"gridcolor\":\"white\",\"linecolor\":\"white\",\"ticks\":\"\"}},\"coloraxis\":{\"colorbar\":{\"outlinewidth\":0,\"ticks\":\"\"}},\"colorscale\":{\"sequential\":[[0.0,\"#0d0887\"],[0.1111111111111111,\"#46039f\"],[0.2222222222222222,\"#7201a8\"],[0.3333333333333333,\"#9c179e\"],[0.4444444444444444,\"#bd3786\"],[0.5555555555555556,\"#d8576b\"],[0.6666666666666666,\"#ed7953\"],[0.7777777777777778,\"#fb9f3a\"],[0.8888888888888888,\"#fdca26\"],[1.0,\"#f0f921\"]],\"sequentialminus\":[[0.0,\"#0d0887\"],[0.1111111111111111,\"#46039f\"],[0.2222222222222222,\"#7201a8\"],[0.3333333333333333,\"#9c179e\"],[0.4444444444444444,\"#bd3786\"],[0.5555555555555556,\"#d8576b\"],[0.6666666666666666,\"#ed7953\"],[0.7777777777777778,\"#fb9f3a\"],[0.8888888888888888,\"#fdca26\"],[1.0,\"#f0f921\"]],\"diverging\":[[0,\"#8e0152\"],[0.1,\"#c51b7d\"],[0.2,\"#de77ae\"],[0.3,\"#f1b6da\"],[0.4,\"#fde0ef\"],[0.5,\"#f7f7f7\"],[0.6,\"#e6f5d0\"],[0.7,\"#b8e186\"],[0.8,\"#7fbc41\"],[0.9,\"#4d9221\"],[1,\"#276419\"]]},\"xaxis\":{\"gridcolor\":\"white\",\"linecolor\":\"white\",\"ticks\":\"\",\"title\":{\"standoff\":15},\"zerolinecolor\":\"white\",\"automargin\":true,\"zerolinewidth\":2},\"yaxis\":{\"gridcolor\":\"white\",\"linecolor\":\"white\",\"ticks\":\"\",\"title\":{\"standoff\":15},\"zerolinecolor\":\"white\",\"automargin\":true,\"zerolinewidth\":2},\"scene\":{\"xaxis\":{\"backgroundcolor\":\"#E5ECF6\",\"gridcolor\":\"white\",\"linecolor\":\"white\",\"showbackground\":true,\"ticks\":\"\",\"zerolinecolor\":\"white\",\"gridwidth\":2},\"yaxis\":{\"backgroundcolor\":\"#E5ECF6\",\"gridcolor\":\"white\",\"linecolor\":\"white\",\"showbackground\":true,\"ticks\":\"\",\"zerolinecolor\":\"white\",\"gridwidth\":2},\"zaxis\":{\"backgroundcolor\":\"#E5ECF6\",\"gridcolor\":\"white\",\"linecolor\":\"white\",\"showbackground\":true,\"ticks\":\"\",\"zerolinecolor\":\"white\",\"gridwidth\":2}},\"shapedefaults\":{\"line\":{\"color\":\"#2a3f5f\"}},\"annotationdefaults\":{\"arrowcolor\":\"#2a3f5f\",\"arrowhead\":0,\"arrowwidth\":1},\"geo\":{\"bgcolor\":\"white\",\"landcolor\":\"#E5ECF6\",\"subunitcolor\":\"white\",\"showland\":true,\"showlakes\":true,\"lakecolor\":\"white\"},\"title\":{\"x\":0.05},\"mapbox\":{\"style\":\"light\"}}},\"legend\":{\"tracegroupgap\":0},\"title\":{\"text\":\"Education\"}},                        {\"responsive\": true}                    ).then(function(){\n",
              "                            \n",
              "var gd = document.getElementById('b371ea0d-1702-431b-8329-d9bb78c06df6');\n",
              "var x = new MutationObserver(function (mutations, observer) {{\n",
              "        var display = window.getComputedStyle(gd).display;\n",
              "        if (!display || display === 'none') {{\n",
              "            console.log([gd, 'removed!']);\n",
              "            Plotly.purge(gd);\n",
              "            observer.disconnect();\n",
              "        }}\n",
              "}});\n",
              "\n",
              "// Listen for the removal of the full notebook cells\n",
              "var notebookContainer = gd.closest('#notebook-container');\n",
              "if (notebookContainer) {{\n",
              "    x.observe(notebookContainer, {childList: true});\n",
              "}}\n",
              "\n",
              "// Listen for the clearing of the current output cell\n",
              "var outputEl = gd.closest('.output');\n",
              "if (outputEl) {{\n",
              "    x.observe(outputEl, {childList: true});\n",
              "}}\n",
              "\n",
              "                        })                };                            </script>        </div>\n",
              "</body>\n",
              "</html>"
            ]
          },
          "metadata": {}
        }
      ]
    },
    {
      "cell_type": "code",
      "source": [
        "# Relationship status\n",
        "x=df.Marital_Status.value_counts()\n",
        "fig=px.pie(df,values=x,names=x.index,title='Martial Status')\n",
        "fig.show()"
      ],
      "metadata": {
        "colab": {
          "base_uri": "https://localhost:8080/",
          "height": 542
        },
        "id": "ffNOxJN-AmrC",
        "outputId": "9c48c05d-3e87-423a-fca3-1b055c3cf795"
      },
      "execution_count": null,
      "outputs": [
        {
          "output_type": "display_data",
          "data": {
            "text/html": [
              "<html>\n",
              "<head><meta charset=\"utf-8\" /></head>\n",
              "<body>\n",
              "    <div>            <script src=\"https://cdnjs.cloudflare.com/ajax/libs/mathjax/2.7.5/MathJax.js?config=TeX-AMS-MML_SVG\"></script><script type=\"text/javascript\">if (window.MathJax && window.MathJax.Hub && window.MathJax.Hub.Config) {window.MathJax.Hub.Config({SVG: {font: \"STIX-Web\"}});}</script>                <script type=\"text/javascript\">window.PlotlyConfig = {MathJaxConfig: 'local'};</script>\n",
              "        <script charset=\"utf-8\" src=\"https://cdn.plot.ly/plotly-2.24.1.min.js\"></script>                <div id=\"5d0cb288-6b12-49b2-9027-ad9957dd48b6\" class=\"plotly-graph-div\" style=\"height:525px; width:100%;\"></div>            <script type=\"text/javascript\">                                    window.PLOTLYENV=window.PLOTLYENV || {};                                    if (document.getElementById(\"5d0cb288-6b12-49b2-9027-ad9957dd48b6\")) {                    Plotly.newPlot(                        \"5d0cb288-6b12-49b2-9027-ad9957dd48b6\",                        [{\"domain\":{\"x\":[0.0,1.0],\"y\":[0.0,1.0]},\"hovertemplate\":\"label=%{label}\\u003cbr\\u003evalue=%{value}\\u003cextra\\u003e\\u003c\\u002fextra\\u003e\",\"labels\":[\"Married\",\"Together\",\"Single\",\"Divorced\",\"Widow\",\"Alone\",\"Absurd\",\"YOLO\"],\"legendgroup\":\"\",\"name\":\"\",\"showlegend\":true,\"values\":[864,578,479,231,77,3,2,2],\"type\":\"pie\"}],                        {\"template\":{\"data\":{\"histogram2dcontour\":[{\"type\":\"histogram2dcontour\",\"colorbar\":{\"outlinewidth\":0,\"ticks\":\"\"},\"colorscale\":[[0.0,\"#0d0887\"],[0.1111111111111111,\"#46039f\"],[0.2222222222222222,\"#7201a8\"],[0.3333333333333333,\"#9c179e\"],[0.4444444444444444,\"#bd3786\"],[0.5555555555555556,\"#d8576b\"],[0.6666666666666666,\"#ed7953\"],[0.7777777777777778,\"#fb9f3a\"],[0.8888888888888888,\"#fdca26\"],[1.0,\"#f0f921\"]]}],\"choropleth\":[{\"type\":\"choropleth\",\"colorbar\":{\"outlinewidth\":0,\"ticks\":\"\"}}],\"histogram2d\":[{\"type\":\"histogram2d\",\"colorbar\":{\"outlinewidth\":0,\"ticks\":\"\"},\"colorscale\":[[0.0,\"#0d0887\"],[0.1111111111111111,\"#46039f\"],[0.2222222222222222,\"#7201a8\"],[0.3333333333333333,\"#9c179e\"],[0.4444444444444444,\"#bd3786\"],[0.5555555555555556,\"#d8576b\"],[0.6666666666666666,\"#ed7953\"],[0.7777777777777778,\"#fb9f3a\"],[0.8888888888888888,\"#fdca26\"],[1.0,\"#f0f921\"]]}],\"heatmap\":[{\"type\":\"heatmap\",\"colorbar\":{\"outlinewidth\":0,\"ticks\":\"\"},\"colorscale\":[[0.0,\"#0d0887\"],[0.1111111111111111,\"#46039f\"],[0.2222222222222222,\"#7201a8\"],[0.3333333333333333,\"#9c179e\"],[0.4444444444444444,\"#bd3786\"],[0.5555555555555556,\"#d8576b\"],[0.6666666666666666,\"#ed7953\"],[0.7777777777777778,\"#fb9f3a\"],[0.8888888888888888,\"#fdca26\"],[1.0,\"#f0f921\"]]}],\"heatmapgl\":[{\"type\":\"heatmapgl\",\"colorbar\":{\"outlinewidth\":0,\"ticks\":\"\"},\"colorscale\":[[0.0,\"#0d0887\"],[0.1111111111111111,\"#46039f\"],[0.2222222222222222,\"#7201a8\"],[0.3333333333333333,\"#9c179e\"],[0.4444444444444444,\"#bd3786\"],[0.5555555555555556,\"#d8576b\"],[0.6666666666666666,\"#ed7953\"],[0.7777777777777778,\"#fb9f3a\"],[0.8888888888888888,\"#fdca26\"],[1.0,\"#f0f921\"]]}],\"contourcarpet\":[{\"type\":\"contourcarpet\",\"colorbar\":{\"outlinewidth\":0,\"ticks\":\"\"}}],\"contour\":[{\"type\":\"contour\",\"colorbar\":{\"outlinewidth\":0,\"ticks\":\"\"},\"colorscale\":[[0.0,\"#0d0887\"],[0.1111111111111111,\"#46039f\"],[0.2222222222222222,\"#7201a8\"],[0.3333333333333333,\"#9c179e\"],[0.4444444444444444,\"#bd3786\"],[0.5555555555555556,\"#d8576b\"],[0.6666666666666666,\"#ed7953\"],[0.7777777777777778,\"#fb9f3a\"],[0.8888888888888888,\"#fdca26\"],[1.0,\"#f0f921\"]]}],\"surface\":[{\"type\":\"surface\",\"colorbar\":{\"outlinewidth\":0,\"ticks\":\"\"},\"colorscale\":[[0.0,\"#0d0887\"],[0.1111111111111111,\"#46039f\"],[0.2222222222222222,\"#7201a8\"],[0.3333333333333333,\"#9c179e\"],[0.4444444444444444,\"#bd3786\"],[0.5555555555555556,\"#d8576b\"],[0.6666666666666666,\"#ed7953\"],[0.7777777777777778,\"#fb9f3a\"],[0.8888888888888888,\"#fdca26\"],[1.0,\"#f0f921\"]]}],\"mesh3d\":[{\"type\":\"mesh3d\",\"colorbar\":{\"outlinewidth\":0,\"ticks\":\"\"}}],\"scatter\":[{\"fillpattern\":{\"fillmode\":\"overlay\",\"size\":10,\"solidity\":0.2},\"type\":\"scatter\"}],\"parcoords\":[{\"type\":\"parcoords\",\"line\":{\"colorbar\":{\"outlinewidth\":0,\"ticks\":\"\"}}}],\"scatterpolargl\":[{\"type\":\"scatterpolargl\",\"marker\":{\"colorbar\":{\"outlinewidth\":0,\"ticks\":\"\"}}}],\"bar\":[{\"error_x\":{\"color\":\"#2a3f5f\"},\"error_y\":{\"color\":\"#2a3f5f\"},\"marker\":{\"line\":{\"color\":\"#E5ECF6\",\"width\":0.5},\"pattern\":{\"fillmode\":\"overlay\",\"size\":10,\"solidity\":0.2}},\"type\":\"bar\"}],\"scattergeo\":[{\"type\":\"scattergeo\",\"marker\":{\"colorbar\":{\"outlinewidth\":0,\"ticks\":\"\"}}}],\"scatterpolar\":[{\"type\":\"scatterpolar\",\"marker\":{\"colorbar\":{\"outlinewidth\":0,\"ticks\":\"\"}}}],\"histogram\":[{\"marker\":{\"pattern\":{\"fillmode\":\"overlay\",\"size\":10,\"solidity\":0.2}},\"type\":\"histogram\"}],\"scattergl\":[{\"type\":\"scattergl\",\"marker\":{\"colorbar\":{\"outlinewidth\":0,\"ticks\":\"\"}}}],\"scatter3d\":[{\"type\":\"scatter3d\",\"line\":{\"colorbar\":{\"outlinewidth\":0,\"ticks\":\"\"}},\"marker\":{\"colorbar\":{\"outlinewidth\":0,\"ticks\":\"\"}}}],\"scattermapbox\":[{\"type\":\"scattermapbox\",\"marker\":{\"colorbar\":{\"outlinewidth\":0,\"ticks\":\"\"}}}],\"scatterternary\":[{\"type\":\"scatterternary\",\"marker\":{\"colorbar\":{\"outlinewidth\":0,\"ticks\":\"\"}}}],\"scattercarpet\":[{\"type\":\"scattercarpet\",\"marker\":{\"colorbar\":{\"outlinewidth\":0,\"ticks\":\"\"}}}],\"carpet\":[{\"aaxis\":{\"endlinecolor\":\"#2a3f5f\",\"gridcolor\":\"white\",\"linecolor\":\"white\",\"minorgridcolor\":\"white\",\"startlinecolor\":\"#2a3f5f\"},\"baxis\":{\"endlinecolor\":\"#2a3f5f\",\"gridcolor\":\"white\",\"linecolor\":\"white\",\"minorgridcolor\":\"white\",\"startlinecolor\":\"#2a3f5f\"},\"type\":\"carpet\"}],\"table\":[{\"cells\":{\"fill\":{\"color\":\"#EBF0F8\"},\"line\":{\"color\":\"white\"}},\"header\":{\"fill\":{\"color\":\"#C8D4E3\"},\"line\":{\"color\":\"white\"}},\"type\":\"table\"}],\"barpolar\":[{\"marker\":{\"line\":{\"color\":\"#E5ECF6\",\"width\":0.5},\"pattern\":{\"fillmode\":\"overlay\",\"size\":10,\"solidity\":0.2}},\"type\":\"barpolar\"}],\"pie\":[{\"automargin\":true,\"type\":\"pie\"}]},\"layout\":{\"autotypenumbers\":\"strict\",\"colorway\":[\"#636efa\",\"#EF553B\",\"#00cc96\",\"#ab63fa\",\"#FFA15A\",\"#19d3f3\",\"#FF6692\",\"#B6E880\",\"#FF97FF\",\"#FECB52\"],\"font\":{\"color\":\"#2a3f5f\"},\"hovermode\":\"closest\",\"hoverlabel\":{\"align\":\"left\"},\"paper_bgcolor\":\"white\",\"plot_bgcolor\":\"#E5ECF6\",\"polar\":{\"bgcolor\":\"#E5ECF6\",\"angularaxis\":{\"gridcolor\":\"white\",\"linecolor\":\"white\",\"ticks\":\"\"},\"radialaxis\":{\"gridcolor\":\"white\",\"linecolor\":\"white\",\"ticks\":\"\"}},\"ternary\":{\"bgcolor\":\"#E5ECF6\",\"aaxis\":{\"gridcolor\":\"white\",\"linecolor\":\"white\",\"ticks\":\"\"},\"baxis\":{\"gridcolor\":\"white\",\"linecolor\":\"white\",\"ticks\":\"\"},\"caxis\":{\"gridcolor\":\"white\",\"linecolor\":\"white\",\"ticks\":\"\"}},\"coloraxis\":{\"colorbar\":{\"outlinewidth\":0,\"ticks\":\"\"}},\"colorscale\":{\"sequential\":[[0.0,\"#0d0887\"],[0.1111111111111111,\"#46039f\"],[0.2222222222222222,\"#7201a8\"],[0.3333333333333333,\"#9c179e\"],[0.4444444444444444,\"#bd3786\"],[0.5555555555555556,\"#d8576b\"],[0.6666666666666666,\"#ed7953\"],[0.7777777777777778,\"#fb9f3a\"],[0.8888888888888888,\"#fdca26\"],[1.0,\"#f0f921\"]],\"sequentialminus\":[[0.0,\"#0d0887\"],[0.1111111111111111,\"#46039f\"],[0.2222222222222222,\"#7201a8\"],[0.3333333333333333,\"#9c179e\"],[0.4444444444444444,\"#bd3786\"],[0.5555555555555556,\"#d8576b\"],[0.6666666666666666,\"#ed7953\"],[0.7777777777777778,\"#fb9f3a\"],[0.8888888888888888,\"#fdca26\"],[1.0,\"#f0f921\"]],\"diverging\":[[0,\"#8e0152\"],[0.1,\"#c51b7d\"],[0.2,\"#de77ae\"],[0.3,\"#f1b6da\"],[0.4,\"#fde0ef\"],[0.5,\"#f7f7f7\"],[0.6,\"#e6f5d0\"],[0.7,\"#b8e186\"],[0.8,\"#7fbc41\"],[0.9,\"#4d9221\"],[1,\"#276419\"]]},\"xaxis\":{\"gridcolor\":\"white\",\"linecolor\":\"white\",\"ticks\":\"\",\"title\":{\"standoff\":15},\"zerolinecolor\":\"white\",\"automargin\":true,\"zerolinewidth\":2},\"yaxis\":{\"gridcolor\":\"white\",\"linecolor\":\"white\",\"ticks\":\"\",\"title\":{\"standoff\":15},\"zerolinecolor\":\"white\",\"automargin\":true,\"zerolinewidth\":2},\"scene\":{\"xaxis\":{\"backgroundcolor\":\"#E5ECF6\",\"gridcolor\":\"white\",\"linecolor\":\"white\",\"showbackground\":true,\"ticks\":\"\",\"zerolinecolor\":\"white\",\"gridwidth\":2},\"yaxis\":{\"backgroundcolor\":\"#E5ECF6\",\"gridcolor\":\"white\",\"linecolor\":\"white\",\"showbackground\":true,\"ticks\":\"\",\"zerolinecolor\":\"white\",\"gridwidth\":2},\"zaxis\":{\"backgroundcolor\":\"#E5ECF6\",\"gridcolor\":\"white\",\"linecolor\":\"white\",\"showbackground\":true,\"ticks\":\"\",\"zerolinecolor\":\"white\",\"gridwidth\":2}},\"shapedefaults\":{\"line\":{\"color\":\"#2a3f5f\"}},\"annotationdefaults\":{\"arrowcolor\":\"#2a3f5f\",\"arrowhead\":0,\"arrowwidth\":1},\"geo\":{\"bgcolor\":\"white\",\"landcolor\":\"#E5ECF6\",\"subunitcolor\":\"white\",\"showland\":true,\"showlakes\":true,\"lakecolor\":\"white\"},\"title\":{\"x\":0.05},\"mapbox\":{\"style\":\"light\"}}},\"legend\":{\"tracegroupgap\":0},\"title\":{\"text\":\"Martial Status\"}},                        {\"responsive\": true}                    ).then(function(){\n",
              "                            \n",
              "var gd = document.getElementById('5d0cb288-6b12-49b2-9027-ad9957dd48b6');\n",
              "var x = new MutationObserver(function (mutations, observer) {{\n",
              "        var display = window.getComputedStyle(gd).display;\n",
              "        if (!display || display === 'none') {{\n",
              "            console.log([gd, 'removed!']);\n",
              "            Plotly.purge(gd);\n",
              "            observer.disconnect();\n",
              "        }}\n",
              "}});\n",
              "\n",
              "// Listen for the removal of the full notebook cells\n",
              "var notebookContainer = gd.closest('#notebook-container');\n",
              "if (notebookContainer) {{\n",
              "    x.observe(notebookContainer, {childList: true});\n",
              "}}\n",
              "\n",
              "// Listen for the clearing of the current output cell\n",
              "var outputEl = gd.closest('.output');\n",
              "if (outputEl) {{\n",
              "    x.observe(outputEl, {childList: true});\n",
              "}}\n",
              "\n",
              "                        })                };                            </script>        </div>\n",
              "</body>\n",
              "</html>"
            ]
          },
          "metadata": {}
        }
      ]
    },
    {
      "cell_type": "code",
      "source": [
        "# Response rate by age group\n",
        "fig = px.histogram(df, x=\"Age\", color=\"Response_actual\")\n",
        "fig.update_layout(title=\"Response Rate by Age Group\")\n",
        "fig.show()"
      ],
      "metadata": {
        "colab": {
          "base_uri": "https://localhost:8080/",
          "height": 542
        },
        "id": "r4XZzWAL7lOF",
        "outputId": "70e2af4c-e9c9-4356-a653-a359f1dc6e88"
      },
      "execution_count": null,
      "outputs": [
        {
          "output_type": "display_data",
          "data": {
            "text/html": [
              "<html>\n",
              "<head><meta charset=\"utf-8\" /></head>\n",
              "<body>\n",
              "    <div>            <script src=\"https://cdnjs.cloudflare.com/ajax/libs/mathjax/2.7.5/MathJax.js?config=TeX-AMS-MML_SVG\"></script><script type=\"text/javascript\">if (window.MathJax && window.MathJax.Hub && window.MathJax.Hub.Config) {window.MathJax.Hub.Config({SVG: {font: \"STIX-Web\"}});}</script>                <script type=\"text/javascript\">window.PlotlyConfig = {MathJaxConfig: 'local'};</script>\n",
              "        <script charset=\"utf-8\" src=\"https://cdn.plot.ly/plotly-2.24.1.min.js\"></script>                <div id=\"1c2ca130-00ed-4af6-ae38-272fac352d08\" class=\"plotly-graph-div\" style=\"height:525px; width:100%;\"></div>            <script type=\"text/javascript\">                                    window.PLOTLYENV=window.PLOTLYENV || {};                                    if (document.getElementById(\"1c2ca130-00ed-4af6-ae38-272fac352d08\")) {                    Plotly.newPlot(                        \"1c2ca130-00ed-4af6-ae38-272fac352d08\",                        [{\"alignmentgroup\":\"True\",\"bingroup\":\"x\",\"hovertemplate\":\"Response_actual=0\\u003cbr\\u003eAge=%{x}\\u003cbr\\u003ecount=%{y}\\u003cextra\\u003e\\u003c\\u002fextra\\u003e\",\"legendgroup\":\"0\",\"marker\":{\"color\":\"#636efa\",\"pattern\":{\"shape\":\"\"}},\"name\":\"0\",\"offsetgroup\":\"0\",\"orientation\":\"v\",\"showlegend\":true,\"x\":[84,81,81,81,80,80,80,79,79,79,79,79,79,79,78,78,78,78,78,78,78,78,78,78,77,77,77,77,77,77,77,77,77,77,77,76,76,76,76,76,76,76,76,76,76,76,76,76,76,76,76,75,75,75,75,75,75,75,75,75,75,75,75,75,75,75,75,75,74,74,74,74,74,74,74,74,74,74,74,74,74,74,74,74,74,74,74,74,74,74,74,74,74,73,73,73,73,73,73,73,73,73,73,73,73,73,73,73,73,73,73,73,73,73,73,73,73,73,73,73,73,73,73,73,73,73,73,73,73,73,72,72,72,72,72,72,72,72,72,72,72,72,72,72,72,72,72,72,72,72,72,72,72,72,72,72,72,72,72,72,72,72,72,72,72,72,72,72,72,72,72,72,72,72,71,71,71,71,71,71,71,71,71,71,71,71,71,71,71,71,71,71,71,71,71,71,71,71,71,71,71,71,71,70,70,70,70,70,70,70,70,70,70,70,70,70,70,70,70,70,70,70,70,70,70,70,70,70,70,70,70,70,70,70,70,70,70,70,70,70,70,70,69,69,69,69,69,69,69,69,69,69,69,69,69,69,69,69,69,69,69,69,69,69,69,69,69,69,69,69,69,68,68,68,68,68,68,68,68,68,68,68,68,68,68,68,68,68,68,68,68,68,68,68,68,68,68,68,68,68,68,68,68,68,68,68,68,68,68,68,68,68,68,68,68,68,68,68,68,67,67,67,67,67,67,67,67,67,67,67,67,67,67,67,67,67,67,67,67,67,67,67,67,67,67,67,67,67,66,66,66,66,66,66,66,66,66,66,66,66,66,66,66,66,66,66,66,66,66,66,66,66,66,66,66,66,66,66,66,66,66,66,66,66,66,66,66,66,66,66,66,66,66,66,66,65,65,65,65,65,65,65,65,65,65,65,65,65,65,65,65,65,65,65,65,65,65,65,65,65,65,65,65,65,65,65,65,65,65,65,65,65,65,65,65,65,64,64,64,64,64,64,64,64,64,64,64,64,64,64,64,64,64,64,64,64,64,64,64,64,64,64,64,64,64,64,64,64,64,64,64,64,64,64,64,63,63,63,63,63,63,63,63,63,63,63,63,63,63,63,63,63,63,63,63,63,63,63,63,63,63,62,62,62,62,62,62,62,62,62,62,62,62,62,62,62,62,62,62,62,62,62,62,62,62,62,62,62,62,62,62,62,62,61,61,61,61,61,61,61,61,61,61,61,61,61,61,61,61,61,61,61,61,61,61,61,61,61,61,61,61,61,61,61,61,61,61,61,61,61,61,61,60,60,60,60,60,60,60,60,60,60,60,60,60,60,60,60,60,60,60,60,60,60,60,60,60,60,60,60,60,60,60,59,59,59,59,59,59,59,59,59,59,59,59,59,59,59,59,59,59,59,59,59,59,59,59,59,59,59,59,59,59,59,59,59,59,59,59,59,59,59,59,59,59,59,59,59,59,59,59,59,59,59,59,59,59,59,59,59,59,59,59,59,58,58,58,58,58,58,58,58,58,58,58,58,58,58,58,58,58,58,58,58,58,58,58,58,58,58,58,58,58,58,58,58,58,58,58,58,58,58,58,57,57,57,57,57,57,57,57,57,57,57,57,57,57,57,57,57,57,57,57,57,57,57,57,57,57,57,57,57,57,57,57,57,57,57,57,57,57,56,56,56,56,56,56,56,56,56,56,56,56,56,56,56,56,56,56,56,56,56,56,56,56,56,56,56,56,56,56,56,56,56,56,56,56,56,56,56,56,55,55,55,55,55,55,55,55,55,55,55,55,55,55,55,55,55,55,55,55,55,55,55,55,55,55,55,55,55,55,55,55,55,55,55,55,55,55,55,55,55,55,55,55,55,55,55,55,55,55,55,55,55,55,55,54,54,54,54,54,54,54,54,54,54,54,54,54,54,54,54,54,54,54,54,54,54,54,54,54,54,54,54,54,54,54,54,54,54,54,54,54,54,54,54,54,54,54,54,54,54,54,54,54,54,54,54,54,54,54,54,54,54,54,54,53,53,53,53,53,53,53,53,53,53,53,53,53,53,53,53,53,53,53,53,53,53,53,53,53,53,53,53,53,53,53,53,53,53,53,53,53,53,53,53,53,53,53,53,53,53,53,53,53,53,53,53,53,53,53,53,53,53,53,53,53,53,53,53,53,53,53,53,53,53,53,53,53,53,52,52,52,52,52,52,52,52,52,52,52,52,52,52,52,52,52,52,52,52,52,52,52,52,52,52,52,52,52,52,52,52,52,52,52,52,52,52,52,52,52,52,52,52,52,52,52,52,52,52,52,52,52,52,52,52,52,52,52,52,52,52,52,52,52,52,51,51,51,51,51,51,51,51,51,51,51,51,51,51,51,51,51,51,51,51,51,51,51,51,51,51,51,51,51,51,51,51,51,51,51,51,51,51,51,51,51,51,51,51,51,51,51,51,51,51,51,51,51,51,51,51,50,50,50,50,50,50,50,50,50,50,50,50,50,50,50,50,50,50,50,50,50,50,50,50,50,50,50,50,50,50,50,50,50,50,50,50,50,50,50,50,50,50,50,50,50,50,50,50,50,50,50,50,50,50,50,50,50,50,49,49,49,49,49,49,49,49,49,49,49,49,49,49,49,49,49,49,49,49,49,49,49,49,49,49,49,49,49,49,49,49,49,49,49,49,49,49,49,49,49,49,49,49,49,49,49,49,49,49,49,49,49,49,49,49,49,49,49,49,49,49,49,49,49,49,49,49,48,48,48,48,48,48,48,48,48,48,48,48,48,48,48,48,48,48,48,48,48,48,48,48,48,48,48,48,48,48,48,48,48,48,48,48,48,48,48,48,48,48,48,48,48,48,48,48,48,48,48,48,48,48,48,48,48,48,48,48,48,48,48,48,48,48,48,48,48,48,48,48,48,48,48,48,48,48,48,47,47,47,47,47,47,47,47,47,47,47,47,47,47,47,47,47,47,47,47,47,47,47,47,47,47,47,47,47,47,47,47,47,47,47,47,47,47,47,47,47,47,46,46,46,46,46,46,46,46,46,46,46,46,46,46,46,46,46,46,46,46,46,46,46,46,46,46,46,46,46,46,46,46,46,46,46,46,46,46,46,46,46,46,46,46,46,46,46,46,46,46,46,46,46,46,46,46,46,46,46,46,46,46,46,45,45,45,45,45,45,45,45,45,45,45,45,45,45,45,45,45,45,45,45,45,45,45,45,45,45,45,45,45,45,45,45,45,45,45,45,45,45,45,45,45,45,45,45,45,45,44,44,44,44,44,44,44,44,44,44,44,44,44,44,44,44,44,44,44,44,44,44,44,44,44,44,44,44,44,44,44,44,44,44,44,43,43,43,43,43,43,43,43,43,43,43,43,43,43,43,43,43,43,43,43,43,43,43,43,43,43,43,42,42,42,42,42,42,42,42,42,42,42,42,42,42,42,42,42,42,42,42,42,42,42,42,42,42,42,42,42,42,42,42,41,41,41,41,41,41,41,41,41,41,41,41,41,41,41,41,41,41,41,41,41,41,41,41,41,41,41,41,41,41,41,40,40,40,40,40,40,40,40,40,40,40,40,40,40,40,40,40,40,40,40,40,40,40,40,40,40,40,40,40,39,39,39,39,39,39,39,39,39,39,39,39,39,39,39,39,39,39,39,39,39,39,39,39,39,39,39,38,38,38,38,38,38,38,38,38,38,38,38,38,38,38,38,38,38,38,38,38,38,38,38,38,38,38,38,38,38,38,38,37,37,37,37,37,37,37,37,37,37,37,37,37,37,37,37,37,37,37,37,37,37,36,36,36,36,36,36,36,36,36,36,36,36,36,36,36,36,36,36,36,36,36,36,36,36,36,35,35,35,35,35,35,35,35,35,35,35,35,35,35,35,35,35,35,35,35,35,35,35,35,34,34,34,34,34,34,34,34,34,34,34,34,34,33,33,33,33,33,33,33,33,33,32,32,32,32,32,32,32,32,32,32,31,31,31,31,30,29,29,29,29,28],\"xaxis\":\"x\",\"yaxis\":\"y\",\"type\":\"histogram\"},{\"alignmentgroup\":\"True\",\"bingroup\":\"x\",\"hovertemplate\":\"Response_actual=1\\u003cbr\\u003eAge=%{x}\\u003cbr\\u003ecount=%{y}\\u003cextra\\u003e\\u003c\\u002fextra\\u003e\",\"legendgroup\":\"1\",\"marker\":{\"color\":\"#EF553B\",\"pattern\":{\"shape\":\"\"}},\"name\":\"1\",\"offsetgroup\":\"1\",\"orientation\":\"v\",\"showlegend\":true,\"x\":[83,81,81,81,81,80,80,80,80,79,78,78,78,78,78,78,77,77,77,77,77,76,76,76,76,76,75,75,75,75,75,75,75,75,75,75,75,75,75,74,74,74,74,73,73,73,73,73,73,72,72,72,72,72,72,72,72,71,71,71,71,71,71,70,70,70,70,70,70,70,70,70,70,70,69,69,69,69,69,69,69,69,69,69,69,69,69,69,69,69,69,69,69,69,68,68,68,68,68,68,68,67,67,67,67,67,67,67,67,67,67,67,67,67,67,66,66,66,66,66,66,65,65,65,65,65,65,65,65,65,65,64,64,64,64,64,64,64,64,64,64,63,63,63,63,63,63,63,63,63,63,62,62,62,62,62,62,62,62,62,62,62,62,61,61,61,61,61,61,60,60,60,60,60,60,60,60,60,60,60,59,59,59,59,59,59,59,59,59,59,59,59,59,58,58,58,58,58,58,58,58,58,58,58,57,57,57,57,57,57,56,56,56,56,56,56,56,56,56,56,56,55,55,55,55,55,55,55,55,55,55,55,55,55,55,55,55,54,54,54,54,54,54,54,54,54,54,54,54,54,54,54,54,54,53,53,53,53,53,53,53,53,53,53,53,53,53,52,52,52,52,52,52,52,52,52,52,52,52,52,51,51,51,51,51,51,51,51,51,51,51,51,51,51,51,51,51,51,50,50,50,50,50,50,50,50,50,50,50,49,49,49,49,49,49,49,49,49,49,49,49,49,49,49,48,48,48,48,48,48,48,48,48,48,47,47,47,47,47,47,47,47,47,46,46,46,46,46,46,46,46,46,46,46,46,46,46,45,45,45,45,45,45,45,44,44,44,44,43,43,43,43,43,43,43,43,43,43,43,43,42,42,42,42,42,42,42,42,42,42,42,42,42,41,41,41,41,41,41,41,41,41,41,41,40,40,40,40,40,40,40,40,40,39,39,39,39,39,38,38,38,38,38,38,38,38,38,38,37,37,37,37,37,36,36,36,36,35,35,35,35,35,35,34,34,34,34,34,33,33,33,33,33,33,32,32,32,31,30,30,29,28],\"xaxis\":\"x\",\"yaxis\":\"y\",\"type\":\"histogram\"}],                        {\"template\":{\"data\":{\"histogram2dcontour\":[{\"type\":\"histogram2dcontour\",\"colorbar\":{\"outlinewidth\":0,\"ticks\":\"\"},\"colorscale\":[[0.0,\"#0d0887\"],[0.1111111111111111,\"#46039f\"],[0.2222222222222222,\"#7201a8\"],[0.3333333333333333,\"#9c179e\"],[0.4444444444444444,\"#bd3786\"],[0.5555555555555556,\"#d8576b\"],[0.6666666666666666,\"#ed7953\"],[0.7777777777777778,\"#fb9f3a\"],[0.8888888888888888,\"#fdca26\"],[1.0,\"#f0f921\"]]}],\"choropleth\":[{\"type\":\"choropleth\",\"colorbar\":{\"outlinewidth\":0,\"ticks\":\"\"}}],\"histogram2d\":[{\"type\":\"histogram2d\",\"colorbar\":{\"outlinewidth\":0,\"ticks\":\"\"},\"colorscale\":[[0.0,\"#0d0887\"],[0.1111111111111111,\"#46039f\"],[0.2222222222222222,\"#7201a8\"],[0.3333333333333333,\"#9c179e\"],[0.4444444444444444,\"#bd3786\"],[0.5555555555555556,\"#d8576b\"],[0.6666666666666666,\"#ed7953\"],[0.7777777777777778,\"#fb9f3a\"],[0.8888888888888888,\"#fdca26\"],[1.0,\"#f0f921\"]]}],\"heatmap\":[{\"type\":\"heatmap\",\"colorbar\":{\"outlinewidth\":0,\"ticks\":\"\"},\"colorscale\":[[0.0,\"#0d0887\"],[0.1111111111111111,\"#46039f\"],[0.2222222222222222,\"#7201a8\"],[0.3333333333333333,\"#9c179e\"],[0.4444444444444444,\"#bd3786\"],[0.5555555555555556,\"#d8576b\"],[0.6666666666666666,\"#ed7953\"],[0.7777777777777778,\"#fb9f3a\"],[0.8888888888888888,\"#fdca26\"],[1.0,\"#f0f921\"]]}],\"heatmapgl\":[{\"type\":\"heatmapgl\",\"colorbar\":{\"outlinewidth\":0,\"ticks\":\"\"},\"colorscale\":[[0.0,\"#0d0887\"],[0.1111111111111111,\"#46039f\"],[0.2222222222222222,\"#7201a8\"],[0.3333333333333333,\"#9c179e\"],[0.4444444444444444,\"#bd3786\"],[0.5555555555555556,\"#d8576b\"],[0.6666666666666666,\"#ed7953\"],[0.7777777777777778,\"#fb9f3a\"],[0.8888888888888888,\"#fdca26\"],[1.0,\"#f0f921\"]]}],\"contourcarpet\":[{\"type\":\"contourcarpet\",\"colorbar\":{\"outlinewidth\":0,\"ticks\":\"\"}}],\"contour\":[{\"type\":\"contour\",\"colorbar\":{\"outlinewidth\":0,\"ticks\":\"\"},\"colorscale\":[[0.0,\"#0d0887\"],[0.1111111111111111,\"#46039f\"],[0.2222222222222222,\"#7201a8\"],[0.3333333333333333,\"#9c179e\"],[0.4444444444444444,\"#bd3786\"],[0.5555555555555556,\"#d8576b\"],[0.6666666666666666,\"#ed7953\"],[0.7777777777777778,\"#fb9f3a\"],[0.8888888888888888,\"#fdca26\"],[1.0,\"#f0f921\"]]}],\"surface\":[{\"type\":\"surface\",\"colorbar\":{\"outlinewidth\":0,\"ticks\":\"\"},\"colorscale\":[[0.0,\"#0d0887\"],[0.1111111111111111,\"#46039f\"],[0.2222222222222222,\"#7201a8\"],[0.3333333333333333,\"#9c179e\"],[0.4444444444444444,\"#bd3786\"],[0.5555555555555556,\"#d8576b\"],[0.6666666666666666,\"#ed7953\"],[0.7777777777777778,\"#fb9f3a\"],[0.8888888888888888,\"#fdca26\"],[1.0,\"#f0f921\"]]}],\"mesh3d\":[{\"type\":\"mesh3d\",\"colorbar\":{\"outlinewidth\":0,\"ticks\":\"\"}}],\"scatter\":[{\"fillpattern\":{\"fillmode\":\"overlay\",\"size\":10,\"solidity\":0.2},\"type\":\"scatter\"}],\"parcoords\":[{\"type\":\"parcoords\",\"line\":{\"colorbar\":{\"outlinewidth\":0,\"ticks\":\"\"}}}],\"scatterpolargl\":[{\"type\":\"scatterpolargl\",\"marker\":{\"colorbar\":{\"outlinewidth\":0,\"ticks\":\"\"}}}],\"bar\":[{\"error_x\":{\"color\":\"#2a3f5f\"},\"error_y\":{\"color\":\"#2a3f5f\"},\"marker\":{\"line\":{\"color\":\"#E5ECF6\",\"width\":0.5},\"pattern\":{\"fillmode\":\"overlay\",\"size\":10,\"solidity\":0.2}},\"type\":\"bar\"}],\"scattergeo\":[{\"type\":\"scattergeo\",\"marker\":{\"colorbar\":{\"outlinewidth\":0,\"ticks\":\"\"}}}],\"scatterpolar\":[{\"type\":\"scatterpolar\",\"marker\":{\"colorbar\":{\"outlinewidth\":0,\"ticks\":\"\"}}}],\"histogram\":[{\"marker\":{\"pattern\":{\"fillmode\":\"overlay\",\"size\":10,\"solidity\":0.2}},\"type\":\"histogram\"}],\"scattergl\":[{\"type\":\"scattergl\",\"marker\":{\"colorbar\":{\"outlinewidth\":0,\"ticks\":\"\"}}}],\"scatter3d\":[{\"type\":\"scatter3d\",\"line\":{\"colorbar\":{\"outlinewidth\":0,\"ticks\":\"\"}},\"marker\":{\"colorbar\":{\"outlinewidth\":0,\"ticks\":\"\"}}}],\"scattermapbox\":[{\"type\":\"scattermapbox\",\"marker\":{\"colorbar\":{\"outlinewidth\":0,\"ticks\":\"\"}}}],\"scatterternary\":[{\"type\":\"scatterternary\",\"marker\":{\"colorbar\":{\"outlinewidth\":0,\"ticks\":\"\"}}}],\"scattercarpet\":[{\"type\":\"scattercarpet\",\"marker\":{\"colorbar\":{\"outlinewidth\":0,\"ticks\":\"\"}}}],\"carpet\":[{\"aaxis\":{\"endlinecolor\":\"#2a3f5f\",\"gridcolor\":\"white\",\"linecolor\":\"white\",\"minorgridcolor\":\"white\",\"startlinecolor\":\"#2a3f5f\"},\"baxis\":{\"endlinecolor\":\"#2a3f5f\",\"gridcolor\":\"white\",\"linecolor\":\"white\",\"minorgridcolor\":\"white\",\"startlinecolor\":\"#2a3f5f\"},\"type\":\"carpet\"}],\"table\":[{\"cells\":{\"fill\":{\"color\":\"#EBF0F8\"},\"line\":{\"color\":\"white\"}},\"header\":{\"fill\":{\"color\":\"#C8D4E3\"},\"line\":{\"color\":\"white\"}},\"type\":\"table\"}],\"barpolar\":[{\"marker\":{\"line\":{\"color\":\"#E5ECF6\",\"width\":0.5},\"pattern\":{\"fillmode\":\"overlay\",\"size\":10,\"solidity\":0.2}},\"type\":\"barpolar\"}],\"pie\":[{\"automargin\":true,\"type\":\"pie\"}]},\"layout\":{\"autotypenumbers\":\"strict\",\"colorway\":[\"#636efa\",\"#EF553B\",\"#00cc96\",\"#ab63fa\",\"#FFA15A\",\"#19d3f3\",\"#FF6692\",\"#B6E880\",\"#FF97FF\",\"#FECB52\"],\"font\":{\"color\":\"#2a3f5f\"},\"hovermode\":\"closest\",\"hoverlabel\":{\"align\":\"left\"},\"paper_bgcolor\":\"white\",\"plot_bgcolor\":\"#E5ECF6\",\"polar\":{\"bgcolor\":\"#E5ECF6\",\"angularaxis\":{\"gridcolor\":\"white\",\"linecolor\":\"white\",\"ticks\":\"\"},\"radialaxis\":{\"gridcolor\":\"white\",\"linecolor\":\"white\",\"ticks\":\"\"}},\"ternary\":{\"bgcolor\":\"#E5ECF6\",\"aaxis\":{\"gridcolor\":\"white\",\"linecolor\":\"white\",\"ticks\":\"\"},\"baxis\":{\"gridcolor\":\"white\",\"linecolor\":\"white\",\"ticks\":\"\"},\"caxis\":{\"gridcolor\":\"white\",\"linecolor\":\"white\",\"ticks\":\"\"}},\"coloraxis\":{\"colorbar\":{\"outlinewidth\":0,\"ticks\":\"\"}},\"colorscale\":{\"sequential\":[[0.0,\"#0d0887\"],[0.1111111111111111,\"#46039f\"],[0.2222222222222222,\"#7201a8\"],[0.3333333333333333,\"#9c179e\"],[0.4444444444444444,\"#bd3786\"],[0.5555555555555556,\"#d8576b\"],[0.6666666666666666,\"#ed7953\"],[0.7777777777777778,\"#fb9f3a\"],[0.8888888888888888,\"#fdca26\"],[1.0,\"#f0f921\"]],\"sequentialminus\":[[0.0,\"#0d0887\"],[0.1111111111111111,\"#46039f\"],[0.2222222222222222,\"#7201a8\"],[0.3333333333333333,\"#9c179e\"],[0.4444444444444444,\"#bd3786\"],[0.5555555555555556,\"#d8576b\"],[0.6666666666666666,\"#ed7953\"],[0.7777777777777778,\"#fb9f3a\"],[0.8888888888888888,\"#fdca26\"],[1.0,\"#f0f921\"]],\"diverging\":[[0,\"#8e0152\"],[0.1,\"#c51b7d\"],[0.2,\"#de77ae\"],[0.3,\"#f1b6da\"],[0.4,\"#fde0ef\"],[0.5,\"#f7f7f7\"],[0.6,\"#e6f5d0\"],[0.7,\"#b8e186\"],[0.8,\"#7fbc41\"],[0.9,\"#4d9221\"],[1,\"#276419\"]]},\"xaxis\":{\"gridcolor\":\"white\",\"linecolor\":\"white\",\"ticks\":\"\",\"title\":{\"standoff\":15},\"zerolinecolor\":\"white\",\"automargin\":true,\"zerolinewidth\":2},\"yaxis\":{\"gridcolor\":\"white\",\"linecolor\":\"white\",\"ticks\":\"\",\"title\":{\"standoff\":15},\"zerolinecolor\":\"white\",\"automargin\":true,\"zerolinewidth\":2},\"scene\":{\"xaxis\":{\"backgroundcolor\":\"#E5ECF6\",\"gridcolor\":\"white\",\"linecolor\":\"white\",\"showbackground\":true,\"ticks\":\"\",\"zerolinecolor\":\"white\",\"gridwidth\":2},\"yaxis\":{\"backgroundcolor\":\"#E5ECF6\",\"gridcolor\":\"white\",\"linecolor\":\"white\",\"showbackground\":true,\"ticks\":\"\",\"zerolinecolor\":\"white\",\"gridwidth\":2},\"zaxis\":{\"backgroundcolor\":\"#E5ECF6\",\"gridcolor\":\"white\",\"linecolor\":\"white\",\"showbackground\":true,\"ticks\":\"\",\"zerolinecolor\":\"white\",\"gridwidth\":2}},\"shapedefaults\":{\"line\":{\"color\":\"#2a3f5f\"}},\"annotationdefaults\":{\"arrowcolor\":\"#2a3f5f\",\"arrowhead\":0,\"arrowwidth\":1},\"geo\":{\"bgcolor\":\"white\",\"landcolor\":\"#E5ECF6\",\"subunitcolor\":\"white\",\"showland\":true,\"showlakes\":true,\"lakecolor\":\"white\"},\"title\":{\"x\":0.05},\"mapbox\":{\"style\":\"light\"}}},\"xaxis\":{\"anchor\":\"y\",\"domain\":[0.0,1.0],\"title\":{\"text\":\"Age\"}},\"yaxis\":{\"anchor\":\"x\",\"domain\":[0.0,1.0],\"title\":{\"text\":\"count\"}},\"legend\":{\"title\":{\"text\":\"Response_actual\"},\"tracegroupgap\":0},\"margin\":{\"t\":60},\"barmode\":\"relative\",\"title\":{\"text\":\"Response Rate by Age Group\"}},                        {\"responsive\": true}                    ).then(function(){\n",
              "                            \n",
              "var gd = document.getElementById('1c2ca130-00ed-4af6-ae38-272fac352d08');\n",
              "var x = new MutationObserver(function (mutations, observer) {{\n",
              "        var display = window.getComputedStyle(gd).display;\n",
              "        if (!display || display === 'none') {{\n",
              "            console.log([gd, 'removed!']);\n",
              "            Plotly.purge(gd);\n",
              "            observer.disconnect();\n",
              "        }}\n",
              "}});\n",
              "\n",
              "// Listen for the removal of the full notebook cells\n",
              "var notebookContainer = gd.closest('#notebook-container');\n",
              "if (notebookContainer) {{\n",
              "    x.observe(notebookContainer, {childList: true});\n",
              "}}\n",
              "\n",
              "// Listen for the clearing of the current output cell\n",
              "var outputEl = gd.closest('.output');\n",
              "if (outputEl) {{\n",
              "    x.observe(outputEl, {childList: true});\n",
              "}}\n",
              "\n",
              "                        })                };                            </script>        </div>\n",
              "</body>\n",
              "</html>"
            ]
          },
          "metadata": {}
        }
      ]
    },
    {
      "cell_type": "code",
      "source": [
        "# Purchase frequency by income level\n",
        "fig = px.box(df, y=\"Income\", x=\"NumStorePurchases\")\n",
        "fig.update_layout(title=\"Purchase Frequency by Income\")\n",
        "fig.show()"
      ],
      "metadata": {
        "colab": {
          "base_uri": "https://localhost:8080/",
          "height": 542
        },
        "id": "CP1-R7f87mkL",
        "outputId": "87622408-7e73-4521-c3ce-847d04a0b840"
      },
      "execution_count": null,
      "outputs": [
        {
          "output_type": "display_data",
          "data": {
            "text/html": [
              "<html>\n",
              "<head><meta charset=\"utf-8\" /></head>\n",
              "<body>\n",
              "    <div>            <script src=\"https://cdnjs.cloudflare.com/ajax/libs/mathjax/2.7.5/MathJax.js?config=TeX-AMS-MML_SVG\"></script><script type=\"text/javascript\">if (window.MathJax && window.MathJax.Hub && window.MathJax.Hub.Config) {window.MathJax.Hub.Config({SVG: {font: \"STIX-Web\"}});}</script>                <script type=\"text/javascript\">window.PlotlyConfig = {MathJaxConfig: 'local'};</script>\n",
              "        <script charset=\"utf-8\" src=\"https://cdn.plot.ly/plotly-2.24.1.min.js\"></script>                <div id=\"dc43a07c-0fd3-475d-bf0a-b2c2c2ca1bc3\" class=\"plotly-graph-div\" style=\"height:525px; width:100%;\"></div>            <script type=\"text/javascript\">                                    window.PLOTLYENV=window.PLOTLYENV || {};                                    if (document.getElementById(\"dc43a07c-0fd3-475d-bf0a-b2c2c2ca1bc3\")) {                    Plotly.newPlot(                        \"dc43a07c-0fd3-475d-bf0a-b2c2c2ca1bc3\",                        [{\"alignmentgroup\":\"True\",\"hovertemplate\":\"NumStorePurchases=%{x}\\u003cbr\\u003eIncome=%{y}\\u003cextra\\u003e\\u003c\\u002fextra\\u003e\",\"legendgroup\":\"\",\"marker\":{\"color\":\"#636efa\"},\"name\":\"\",\"notched\":false,\"offsetgroup\":\"\",\"orientation\":\"v\",\"showlegend\":false,\"x\":[4,5,5,5,13,5,10,13,11,7,6,4,13,10,5,13,3,4,13,6,12,9,5,0,3,6,6,5,4,4,10,5,5,13,13,9,4,10,12,12,3,3,2,5,7,4,13,13,13,12,10,6,5,10,8,11,4,3,4,4,4,4,5,5,11,10,5,4,6,8,10,7,7,6,5,13,5,3,5,3,2,3,2,4,6,7,7,5,7,8,8,9,10,10,11,11,9,6,11,13,6,7,11,9,5,13,0,0,3,2,3,3,3,3,3,4,6,3,3,4,5,11,3,6,4,4,9,8,8,12,7,9,7,7,6,6,3,3,5,3,2,3,3,4,7,5,5,6,2,5,5,9,3,5,8,10,4,4,4,8,10,10,4,9,8,10,10,13,5,9,8,9,12,12,6,10,6,9,4,3,3,4,4,3,2,3,4,3,4,3,5,4,5,6,2,5,5,3,8,3,11,8,4,11,7,5,11,10,13,4,13,5,11,5,13,7,11,7,8,5,5,13,6,4,7,4,11,11,11,11,7,3,3,2,3,3,8,2,4,8,2,3,8,3,6,12,4,9,10,10,8,7,4,4,11,4,10,8,5,9,8,6,5,4,5,5,4,6,3,4,5,2,4,3,3,4,4,7,5,6,2,5,7,4,4,7,9,4,8,5,5,13,6,6,7,9,4,9,9,6,5,7,8,8,12,9,12,11,9,5,6,10,5,4,7,4,4,3,2,3,3,4,6,6,7,6,6,3,3,3,4,5,5,4,3,9,7,6,11,7,9,7,9,8,8,3,3,8,10,12,11,10,6,6,9,5,10,5,13,8,5,10,12,13,5,3,2,2,3,3,3,2,3,3,8,6,3,5,5,8,12,3,3,5,9,12,5,4,8,8,4,9,4,8,8,13,9,6,10,7,11,12,6,4,10,10,5,12,10,12,10,10,10,9,4,6,12,12,6,6,1,3,3,4,3,3,4,3,2,2,3,7,5,2,8,6,4,6,5,3,5,6,4,5,6,10,6,6,7,9,4,6,9,6,5,9,4,10,7,10,10,8,2,3,5,5,2,2,3,4,3,4,3,4,2,6,5,12,3,5,3,7,4,10,8,5,12,12,8,6,4,7,11,6,7,5,13,10,5,5,9,4,6,10,10,7,12,11,5,9,4,10,4,6,5,3,2,2,2,2,3,3,8,2,3,3,3,4,3,2,3,4,6,6,4,4,3,11,6,8,8,7,6,12,4,6,8,13,13,6,7,10,7,7,7,9,4,7,11,7,11,12,5,4,4,7,4,3,4,4,3,3,2,4,4,4,9,3,3,5,3,3,3,2,6,3,6,4,8,4,7,7,5,6,2,12,12,12,13,13,10,13,5,7,11,12,10,11,12,7,4,8,4,13,9,9,3,3,4,3,3,3,2,3,6,5,3,4,7,4,13,7,12,5,5,10,4,5,5,4,5,10,12,12,5,9,12,12,9,7,9,7,3,4,4,4,3,5,4,7,2,4,6,3,5,8,13,8,7,7,8,4,4,9,11,5,12,5,9,11,7,6,8,8,13,8,4,4,7,4,13,13,13,9,9,10,0,3,2,2,3,3,8,4,4,4,2,2,2,3,3,3,8,2,7,5,7,4,4,5,5,8,10,10,6,2,5,9,8,13,12,4,4,8,12,13,8,8,5,5,7,4,4,3,3,5,3,4,4,4,3,3,4,7,3,5,4,10,3,3,8,10,8,4,9,4,8,4,10,6,6,8,8,7,10,11,13,13,13,7,5,4,2,0,3,2,3,3,3,5,4,3,2,3,3,4,3,3,3,7,3,6,4,5,5,4,4,8,2,3,5,4,4,3,6,10,8,5,5,4,12,4,7,6,6,8,6,10,7,11,8,7,6,5,7,5,5,7,9,6,10,7,7,13,7,10,4,9,5,9,7,9,12,7,8,10,10,1,2,2,3,2,2,2,3,3,4,3,8,8,3,3,3,8,4,2,11,3,3,3,3,4,4,4,3,6,5,7,6,11,8,8,8,12,12,10,12,5,5,10,8,8,5,12,12,6,9,3,3,2,3,3,2,3,2,3,3,4,3,3,3,3,4,3,6,2,4,5,9,7,7,3,12,4,10,13,12,6,6,9,13,13,5,11,4,11,11,5,8,8,10,3,2,2,3,3,3,2,3,3,3,4,5,3,3,4,4,3,2,4,3,4,4,2,4,4,5,8,3,8,4,3,6,7,8,6,6,12,6,9,9,9,12,10,10,9,12,10,6,9,12,12,0,3,3,3,2,3,3,2,2,2,6,2,3,2,3,3,3,4,3,3,3,3,3,5,2,4,4,3,4,2,13,5,4,12,9,3,7,9,11,11,11,7,7,6,7,6,10,11,6,6,6,10,9,10,8,7,7,4,10,10,7,5,9,6,9,11,6,11,8,4,4,3,4,4,3,2,2,2,2,2,3,3,3,3,2,3,4,2,4,2,4,2,3,3,4,2,2,3,4,4,6,4,8,12,3,6,4,5,6,6,9,3,4,9,12,12,8,5,7,12,7,6,12,5,8,11,13,13,13,7,6,8,5,6,5,11,4,4,13,7,13,9,6,5,12,13,10,6,0,2,3,4,2,2,2,2,4,2,2,3,3,3,4,2,4,3,3,4,4,3,5,5,2,2,3,4,4,2,6,4,3,2,2,4,2,2,3,2,4,4,4,4,3,2,6,10,10,12,8,10,3,5,5,11,7,3,6,12,7,8,9,11,12,5,11,12,4,13,4,5,9,5,8,10,5,13,9,4,13,13,13,5,5,1,3,4,3,3,2,2,3,3,4,3,4,3,3,3,2,3,3,6,4,2,4,3,3,3,3,3,4,3,6,3,3,3,3,4,2,7,3,4,5,4,4,5,5,6,3,3,5,5,5,10,8,12,7,7,5,12,10,9,9,10,6,12,12,6,5,5,11,11,7,5,8,6,6,10,5,12,12,10,10,3,0,3,3,3,2,3,4,3,4,4,2,3,2,4,3,3,3,3,6,4,3,3,4,4,2,2,2,2,3,3,3,3,2,2,3,3,4,4,3,3,6,6,6,6,6,5,6,9,5,2,9,3,6,8,4,7,5,7,12,8,4,5,12,12,5,7,7,7,7,4,9,0,3,8,3,3,3,3,4,3,3,3,2,3,2,2,2,3,3,2,2,2,2,2,2,8,9,4,2,6,5,5,4,2,4,4,5,5,2,6,5,3,8,7,3,4,3,6,7,8,4,6,10,4,8,6,8,9,8,12,12,12,9,5,10,10,13,6,9,8,11,10,13,3,2,4,2,3,4,2,2,3,4,3,3,3,3,3,5,3,3,3,3,3,3,3,3,2,5,5,2,4,5,3,4,2,2,2,7,5,8,3,4,4,4,8,8,5,5,8,6,8,8,8,13,5,13,13,8,9,8,11,13,4,13,12,9,13,13,6,10,11,4,7,5,7,4,8,8,9,6,6,7,6,5,0,0,3,2,3,3,3,4,4,3,3,4,4,4,3,2,3,2,3,3,3,3,3,3,2,3,3,3,2,2,3,3,3,3,4,3,3,2,5,4,9,2,5,5,5,8,7,7,5,4,4,4,3,3,4,6,8,3,9,10,9,6,5,7,11,7,12,7,7,8,10,11,5,13,13,13,10,7,8,8,9,11,6,9,10,13,9,10,9,1,2,3,3,3,3,2,4,5,3,3,2,2,4,3,3,3,3,3,3,3,3,2,4,5,6,6,2,6,3,6,5,5,5,6,8,5,6,7,8,12,11,9,7,12,12,6,7,10,9,10,0,3,3,3,3,2,2,2,2,2,2,3,3,3,3,4,4,4,2,4,2,4,4,2,3,5,3,2,2,2,3,3,3,3,4,2,4,3,4,4,3,3,8,4,3,6,5,2,9,8,3,11,3,5,9,3,10,9,9,13,10,10,10,10,13,10,7,11,8,9,10,11,10,9,7,11,8,1,0,2,2,3,2,2,3,4,3,2,3,3,3,6,3,3,2,3,3,2,4,4,3,3,2,3,3,2,4,7,10,8,10,12,12,12,12,8,8,6,6,5,12,8,12,6,6,11,11,8,11,10,8,3,3,2,3,3,3,5,4,4,2,3,3,5,3,2,3,4,6,6,3,3,4,6,4,4,4,13,6,11,12,8,8,8,5,5,12,7,9,8,3,3,3,2,4,2,3,4,3,4,8,3,3,2,3,2,3,2,3,6,3,4,13,3,10,4,7,9,13,6,12,6,8,8,5,11,9,9,3,1,2,2,3,3,3,3,2,3,2,3,3,4,5,5,3,3,5,4,3,3,5,9,9,10,7,13,6,6,6,7,7,8,8,6,6,11,10,11,11,7,6,6,1,3,3,3,3,3,2,2,3,3,2,3,3,3,3,4,4,2,3,4,3,2,5,3,3,4,4,4,2,7,7,5,4,11,8,5,6,5,6,12,8,12,13,2,2,3,2,3,3,2,3,4,3,4,3,4,3,3,2,4,3,3,5,5,3,4,2,4,3,2,3,5,3,7,13,13,4,12,5,6,7,5,3,3,2,3,3,3,3,2,3,3,3,4,4,3,3,3,4,3,3,5,6,3,3,7,11,12,6,12,12,9,8,11,3,3,3,2,3,3,2,3,2,3,2,4,2,2,3,3,3,4,3,3,2,2,3,5,4,4,3,3,6,8,8,8,5,9,10,8,10,10,10,12,13,0,3,2,3,2,3,3,3,3,3,3,3,4,11,11,7,10,7,6,12,6,6,6,4,12,13,13,4,2,4,3,2,3,5,2,3,4,3,4,4,3,3,4,3,4,7,5,5,13,13,11,11,10,10,10,10,7,2,4,3,3,2,4,2,3,3,3,3,3,4,3,3,4,4,6,7,4,7,12,12,10,12,11,11,10,8,12,2,3,3,4,4,4,3,4,3,3,3,4,4,9,9,5,7,10,0,4,2,6,8,3,8,5,10,10,11,8,7,10,10,2,3,2,3,4,4,4,7,6,5,8,7,12,4,6,6,6,7,11,10,7,2,2,12,8,12,3,2],\"x0\":\" \",\"xaxis\":\"x\",\"y\":[51141.0,93027.0,48948.0,48948.0,57513.0,65073.0,75865.0,77598.0,51958.81057866185,45006.0,55614.0,55956.0,65275.0,80184.0,80589.0,82716.0,45576.0,62847.0,63285.0,65846.0,69755.0,70356.0,71604.0,113734.0,18100.0,37760.0,37760.0,44124.0,51012.0,51012.0,62159.0,64014.0,64014.0,66835.0,66835.0,68657.0,78569.0,82657.0,82800.0,82800.0,25358.0,27469.0,28389.0,66000.0,67472.0,68117.0,70321.0,73059.0,73059.0,74485.0,77457.0,77632.0,78093.0,81044.0,81574.0,91712.0,34469.0,42192.0,45072.0,45579.0,46681.0,46681.0,51315.0,56223.0,60200.0,61467.0,66375.0,70666.0,76140.0,77142.0,78427.0,82032.0,82032.0,83790.0,83837.0,90842.0,92344.0,26518.0,35416.0,35946.0,36408.0,38823.0,47570.0,48150.0,49160.0,49912.0,49912.0,51529.0,51569.0,54356.0,54591.0,58607.0,62845.0,62845.0,67911.0,67911.0,69098.0,69372.0,70165.0,72025.0,72298.0,72643.0,74859.0,76995.0,80360.0,81698.0,156924.0,5648.0,16813.0,27203.0,28320.0,34026.0,34026.0,38054.0,41145.0,42873.0,48070.0,48699.0,48767.0,50616.0,52157.0,52203.0,54432.0,55517.0,56551.0,56551.0,57045.0,59292.0,59292.0,59462.0,60905.0,63120.0,64866.0,76842.0,80763.0,82460.0,15033.0,22263.0,26997.0,27450.0,29298.0,30833.0,32871.0,34838.0,39767.0,40689.0,40689.0,43185.0,44689.0,47352.0,47352.0,49090.0,49389.0,53312.0,53790.0,57304.0,57530.0,58217.0,59385.0,59412.0,60689.0,64950.0,67046.0,67381.0,67680.0,69702.0,70792.0,71107.0,71965.0,72282.0,73705.0,75903.0,78497.0,78497.0,78939.0,80872.0,86610.0,94642.0,51958.81057866185,8820.0,13084.0,28332.0,28457.0,33402.0,33444.0,34074.0,35704.0,40049.0,40442.0,40887.0,43462.0,43776.0,44213.0,46610.0,47139.0,47958.0,49413.0,49638.0,50300.0,50870.0,51537.0,53700.0,54549.0,55951.0,57247.0,59354.0,61010.0,61823.0,62000.0,62307.0,62335.0,62998.0,63998.0,64831.0,67433.0,69142.0,69805.0,70545.0,72228.0,75127.0,75127.0,75278.0,77027.0,77610.0,81795.0,82623.0,83844.0,83844.0,83844.0,84574.0,85431.0,23272.0,34587.0,36957.0,37716.0,39722.0,40464.0,41452.0,46231.0,47703.0,48686.0,48794.0,50725.0,51411.0,53593.0,53653.0,54348.0,55707.0,56129.0,56129.0,58398.0,59354.0,61278.0,62551.0,64108.0,64504.0,65569.0,67087.0,69267.0,70503.0,73892.0,75027.0,80812.0,84953.0,94384.0,94384.0,22507.0,27421.0,32144.0,36130.0,36634.0,36807.0,36930.0,38998.0,38998.0,39898.0,39898.0,42607.0,44551.0,45736.0,46344.0,46734.0,50002.0,50501.0,52869.0,53103.0,57333.0,57744.0,59111.0,60033.0,62637.0,62670.0,62820.0,62820.0,63564.0,64497.0,64587.0,65324.0,65324.0,66991.0,70044.0,70421.0,72071.0,72071.0,72550.0,74637.0,75315.0,76773.0,77972.0,79865.0,80067.0,85683.0,86718.0,90933.0,93404.0,51958.81057866185,22554.0,36927.0,37244.0,38452.0,38452.0,38725.0,38946.0,38946.0,41769.0,42586.0,42586.0,46015.0,46015.0,46390.0,48726.0,49431.0,49667.0,50737.0,51124.0,52750.0,53863.0,55521.0,57959.0,58275.0,58482.0,59821.0,59925.0,61284.0,62535.0,62972.0,62972.0,65210.0,65748.0,66465.0,67225.0,70638.0,72635.0,72635.0,72906.0,74268.0,74805.0,75261.0,76005.0,76998.0,79800.0,80317.0,80395.0,82384.0,51958.81057866185,14661.0,15759.0,22304.0,26150.0,28839.0,31395.0,34633.0,34941.0,35340.0,46086.0,46097.0,46984.0,46998.0,48195.0,50387.0,50898.0,50943.0,50943.0,50965.0,52973.0,53230.0,54252.0,54342.0,54450.0,54450.0,54603.0,54998.0,55249.0,55284.0,58116.0,58656.0,58821.0,60230.0,60714.0,62058.0,62503.0,63915.0,63943.0,64090.0,64857.0,64857.0,66334.0,67131.0,69245.0,71391.0,71866.0,76542.0,77376.0,78028.0,79456.0,84117.0,86424.0,90226.0,90369.0,91249.0,6835.0,21994.0,21994.0,23539.0,26091.0,26091.0,36864.0,37633.0,40451.0,40737.0,41437.0,42213.0,43140.0,44155.0,47320.0,47743.0,50116.0,50388.0,52852.0,53233.0,54237.0,55267.0,58138.0,62187.0,64849.0,65486.0,65487.0,65487.0,66033.0,66636.0,66726.0,68148.0,71113.0,73803.0,75283.0,77297.0,78499.0,78618.0,82017.0,82347.0,82347.0,51958.81057866185,51958.81057866185,15056.0,26490.0,26490.0,28087.0,30523.0,32173.0,33438.0,35246.0,37334.0,38741.0,42315.0,45160.0,46610.0,46692.0,48192.0,49572.0,49967.0,50520.0,50729.0,51412.0,51518.0,51876.0,53083.0,53977.0,53977.0,61074.0,61331.0,64961.0,65148.0,65196.0,65488.0,66886.0,67267.0,68281.0,69096.0,71691.0,71964.0,72905.0,74250.0,75154.0,75342.0,77863.0,78331.0,78952.0,79761.0,79803.0,80739.0,80995.0,81320.0,84460.0,85485.0,94472.0,51958.81057866185,18690.0,18690.0,18690.0,23295.0,24221.0,26887.0,33051.0,33762.0,34242.0,34554.0,35701.0,36732.0,38285.0,38829.0,42243.0,44911.0,50664.0,52332.0,52854.0,53154.0,53537.0,54753.0,54984.0,57957.0,58113.0,59052.0,61180.0,61250.0,62450.0,62859.0,63033.0,65031.0,65492.0,67786.0,68805.0,71232.0,71367.0,71367.0,71706.0,75032.0,76320.0,77520.0,78353.0,79823.0,80982.0,82576.0,87195.0,87771.0,87771.0,89120.0,51958.81057866185,13672.0,17144.0,17144.0,19740.0,22123.0,28520.0,29315.0,29440.0,30507.0,30522.0,31454.0,32218.0,38201.0,39228.0,41275.0,44512.0,46779.0,47353.0,47823.0,47916.0,48904.0,49154.0,50523.0,50611.0,50611.0,51651.0,54197.0,58401.0,62204.0,62807.0,62807.0,63381.0,63381.0,65695.0,67716.0,70971.0,73113.0,76045.0,77037.0,78468.0,79530.0,81843.0,82504.0,83151.0,87305.0,89058.0,92556.0,98777.0,98777.0,16860.0,27116.0,27215.0,28249.0,28249.0,30081.0,32583.0,36443.0,45938.0,46524.0,48330.0,49678.0,54456.0,54959.0,57072.0,57091.0,59184.0,60544.0,60544.0,61794.0,61923.0,63342.0,63342.0,64260.0,64325.0,66426.0,74881.0,74881.0,79410.0,80950.0,82014.0,82332.0,84865.0,86429.0,88347.0,51958.81057866185,27238.0,31497.0,31497.0,33419.0,37859.0,39552.0,42769.0,45183.0,46102.0,47175.0,50127.0,50785.0,51195.0,52597.0,54693.0,55759.0,56067.0,56181.0,57967.0,58646.0,58646.0,59247.0,59432.0,62568.0,63887.0,65316.0,66565.0,69627.0,71434.0,71670.0,72025.0,72217.0,72828.0,75072.0,76081.0,76081.0,76624.0,81975.0,82122.0,82571.0,83715.0,85696.0,85696.0,86111.0,4023.0,14918.0,22419.0,22419.0,23091.0,30983.0,32632.0,33378.0,33562.0,33629.0,34213.0,34377.0,36736.0,38620.0,38620.0,39548.0,41003.0,45146.0,46757.0,48721.0,48799.0,48918.0,48918.0,49476.0,49980.0,50437.0,52278.0,52278.0,53378.0,54072.0,54414.0,56253.0,57288.0,64191.0,66313.0,68118.0,68118.0,72968.0,77226.0,77437.0,80124.0,80124.0,80695.0,81300.0,51958.81057866185,18701.0,18701.0,31686.0,40800.0,41551.0,41638.0,41713.0,42523.0,42523.0,45759.0,45759.0,45906.0,45989.0,46910.0,48920.0,49096.0,51983.0,55761.0,58308.0,58512.0,59304.0,60597.0,60896.0,61798.0,61839.0,62905.0,63404.0,63972.0,64100.0,64140.0,65526.0,65526.0,68142.0,68316.0,69932.0,75236.0,78825.0,79143.0,81246.0,82224.0,85620.0,51958.81057866185,4861.0,23478.0,23529.0,29672.0,29672.0,30630.0,32727.0,33168.0,33456.0,34230.0,35791.0,35791.0,36317.0,36921.0,40637.0,40760.0,42720.0,44300.0,44375.0,44393.0,45143.0,45143.0,46891.0,46891.0,47009.0,47025.0,48006.0,51390.0,51717.0,52117.0,53843.0,54111.0,55250.0,56046.0,56962.0,56962.0,57236.0,57912.0,58692.0,59594.0,59686.0,59754.0,60161.0,61482.0,61559.0,62694.0,62745.0,64176.0,65220.0,65735.0,66294.0,66480.0,69139.0,69139.0,69263.0,69882.0,69969.0,70053.0,70924.0,70924.0,71322.0,71488.0,71613.0,72190.0,73538.0,74806.0,75276.0,76800.0,77343.0,81051.0,81168.0,83003.0,84618.0,84618.0,7144.0,22634.0,22634.0,27038.0,28764.0,29435.0,30843.0,33279.0,33564.0,33585.0,34704.0,37070.0,37070.0,37758.0,37758.0,38179.0,43456.0,43482.0,43602.0,44529.0,44794.0,44794.0,45903.0,46734.0,47472.0,48877.0,49605.0,49618.0,54198.0,55686.0,57183.0,57705.0,57811.0,60894.0,61286.0,61286.0,63810.0,63810.0,65814.0,67272.0,69063.0,69759.0,70287.0,70713.0,78420.0,79946.0,80398.0,82427.0,86358.0,89572.0,22574.0,22574.0,25930.0,26642.0,27943.0,28420.0,30753.0,32474.0,32557.0,35441.0,36947.0,37054.0,40304.0,42664.0,44931.0,46904.0,47821.0,51479.0,52074.0,52569.0,54178.0,56320.0,56575.0,57136.0,59062.0,59235.0,61223.0,62513.0,62981.0,63246.0,65777.0,66825.0,67309.0,68743.0,70647.0,70844.0,75702.0,76982.0,77766.0,77766.0,77870.0,79146.0,79146.0,81380.0,19329.0,19514.0,19514.0,23748.0,27071.0,29187.0,29543.0,32889.0,34053.0,34916.0,35322.0,35893.0,36065.0,36778.0,36997.0,38236.0,38443.0,40521.0,40706.0,41120.0,41335.0,41335.0,41728.0,42564.0,43795.0,44377.0,45688.0,48985.0,50014.0,50616.0,51287.0,55954.0,56534.0,57107.0,58554.0,58554.0,61314.0,61671.0,63841.0,63841.0,63841.0,63967.0,64590.0,69674.0,70566.0,70777.0,73455.0,75693.0,75922.0,77382.0,83664.0,4428.0,14045.0,18589.0,21918.0,22390.0,23228.0,23910.0,25293.0,25293.0,26304.0,26877.0,30396.0,30822.0,33581.0,35924.0,38361.0,38361.0,39858.0,40590.0,40590.0,41021.0,42169.0,42231.0,42731.0,43142.0,43638.0,43641.0,44078.0,44602.0,46831.0,48240.0,48752.0,51039.0,52413.0,53374.0,54132.0,54165.0,54803.0,55212.0,55212.0,56242.0,56796.0,56796.0,57731.0,58086.0,58917.0,62187.0,62772.0,62882.0,65176.0,65747.0,66476.0,66582.0,67369.0,68462.0,68695.0,68695.0,69476.0,69901.0,70091.0,72460.0,72679.0,73448.0,74918.0,75759.0,76653.0,79734.0,80952.0,81657.0,94871.0,51958.81057866185,13260.0,15315.0,15315.0,19656.0,20587.0,20587.0,22070.0,22585.0,22979.0,23162.0,23626.0,24163.0,24206.0,25959.0,27242.0,28164.0,29548.0,30015.0,31880.0,32303.0,33697.0,33986.0,35682.0,36138.0,38097.0,38200.0,38853.0,40548.0,43020.0,44159.0,44267.0,44511.0,44802.0,50447.0,53187.0,54137.0,55158.0,55282.0,57642.0,58710.0,59892.0,61209.0,61872.0,62466.0,62466.0,63684.0,64413.0,64713.0,65706.0,65968.0,66731.0,67353.0,67384.0,67419.0,67536.0,69016.0,69084.0,69084.0,70617.0,72940.0,72967.0,74854.0,75345.0,76467.0,77622.0,78579.0,79419.0,80336.0,81205.0,82072.0,83273.0,84835.0,90765.0,93790.0,105471.0,51958.81057866185,51958.81057866185,1730.0,10245.0,16626.0,18793.0,22804.0,22804.0,25721.0,25818.0,26850.0,26954.0,29732.0,29819.0,30372.0,30372.0,30538.0,31632.0,32011.0,32892.0,32892.0,33316.0,33316.0,34109.0,34600.0,34600.0,35178.0,35178.0,35788.0,36230.0,36715.0,37126.0,37150.0,38196.0,38232.0,38590.0,39763.0,39791.0,40851.0,42033.0,42403.0,42767.0,42835.0,43300.0,43824.0,44421.0,44635.0,45684.0,46463.0,47111.0,49118.0,49269.0,49505.0,52531.0,52914.0,54690.0,54690.0,55239.0,55635.0,56850.0,57420.0,58350.0,60491.0,60504.0,60585.0,64722.0,64795.0,65808.0,66303.0,69930.0,70886.0,71499.0,71796.0,71819.0,71969.0,72258.0,73691.0,74290.0,74538.0,76445.0,78041.0,78642.0,78931.0,80573.0,80573.0,86979.0,91700.0,157733.0,51958.81057866185,14188.0,21359.0,22063.0,24434.0,24762.0,24884.0,25224.0,26290.0,26759.0,27213.0,29791.0,30023.0,30261.0,30467.0,30675.0,31590.0,31907.0,33622.0,34578.0,35641.0,36026.0,37760.0,37787.0,38578.0,38578.0,38808.0,38887.0,38988.0,40321.0,40321.0,41644.0,42394.0,42618.0,43269.0,44325.0,44503.0,46053.0,46344.0,46423.0,46423.0,49494.0,49854.0,50334.0,51813.0,53761.0,55260.0,56721.0,57091.0,57136.0,59666.0,59868.0,59973.0,62010.0,62220.0,62710.0,64474.0,65685.0,65685.0,65704.0,69209.0,70116.0,70932.0,72504.0,74716.0,75251.0,76234.0,77044.0,77981.0,78075.0,79930.0,80134.0,80134.0,83151.0,83443.0,84906.0,84906.0,86857.0,86857.0,51958.81057866185,3502.0,7500.0,9722.0,18978.0,20427.0,20895.0,22682.0,23559.0,24639.0,25410.0,26228.0,27159.0,27190.0,27803.0,31163.0,31163.0,31814.0,32300.0,32644.0,33471.0,34853.0,34961.0,35688.0,35688.0,35860.0,35860.0,35860.0,35860.0,37401.0,37401.0,37971.0,38576.0,38961.0,39435.0,42429.0,42429.0,43050.0,44051.0,46094.0,46854.0,48432.0,48432.0,48432.0,49094.0,51148.0,52034.0,52845.0,54108.0,54222.0,54466.0,55012.0,55593.0,57100.0,57906.0,59041.0,60208.0,60432.0,63516.0,65308.0,65333.0,67432.0,69401.0,71128.0,73926.0,78901.0,79593.0,79593.0,83917.0,85844.0,89694.0,92955.0,157243.0,51958.81057866185,51958.81057866185,18393.0,19346.0,20130.0,20130.0,21255.0,25509.0,25509.0,26067.0,26751.0,28440.0,30351.0,30351.0,30631.0,30899.0,31560.0,32233.0,33590.0,34421.0,34421.0,34596.0,34596.0,37087.0,38410.0,39190.0,39996.0,40049.0,40344.0,42373.0,42557.0,43018.0,43322.0,44392.0,44989.0,44989.0,45068.0,45207.0,45837.0,45894.0,46014.0,46374.0,47889.0,48186.0,49166.0,49669.0,53034.0,53367.0,56715.0,58494.0,60093.0,61917.0,63159.0,63206.0,65352.0,65463.0,65640.0,67445.0,67445.0,67445.0,68352.0,69719.0,71466.0,72099.0,75702.0,78128.0,79632.0,82584.0,83145.0,83891.0,102692.0,7500.0,11448.0,17003.0,17459.0,19789.0,22212.0,22280.0,22669.0,23957.0,27573.0,30801.0,31160.0,33183.0,33249.0,33249.0,33955.0,34176.0,34984.0,35797.0,36627.0,36663.0,37085.0,37284.0,37284.0,37368.0,40233.0,40794.0,41658.0,42160.0,43057.0,44319.0,45503.0,46098.0,46098.0,46098.0,46149.0,46772.0,47682.0,47808.0,48178.0,49514.0,51948.0,52614.0,52614.0,53201.0,53253.0,54730.0,55801.0,55914.0,56243.0,56559.0,57036.0,57338.0,58330.0,58330.0,59481.0,60554.0,60631.0,60934.0,61456.0,61905.0,65106.0,66653.0,67893.0,69283.0,70300.0,73170.0,74165.0,74190.0,76068.0,76532.0,76618.0,79174.0,79205.0,80144.0,80427.0,81169.0,83829.0,83829.0,84196.0,86836.0,92163.0,153924.0,5305.0,7500.0,7500.0,9548.0,12571.0,13624.0,14849.0,16927.0,17148.0,17649.0,20180.0,20180.0,21024.0,21675.0,23718.0,24027.0,25176.0,26326.0,26907.0,26907.0,29478.0,30560.0,30560.0,30772.0,30992.0,30992.0,31615.0,31859.0,33181.0,34529.0,36283.0,36301.0,37395.0,37509.0,37697.0,37697.0,39356.0,40780.0,42473.0,46049.0,46106.0,46310.0,47025.0,49187.0,49544.0,49681.0,49681.0,50200.0,51369.0,51369.0,51650.0,52190.0,53204.0,53359.0,53858.0,54058.0,55412.0,55424.0,56939.0,58597.0,59809.0,60000.0,60482.0,61064.0,62061.0,64892.0,65104.0,65104.0,65665.0,65991.0,66476.0,68397.0,70179.0,70179.0,70379.0,70893.0,71322.0,72309.0,72335.0,74068.0,75012.0,75484.0,75825.0,78416.0,79689.0,79941.0,81929.0,85606.0,162397.0,20981.0,22108.0,22701.0,23763.0,25315.0,27889.0,28769.0,28973.0,30368.0,31056.0,31353.0,31353.0,31878.0,32952.0,33178.0,34380.0,34487.0,35790.0,36273.0,37774.0,39771.0,40246.0,41124.0,41443.0,42014.0,42014.0,42997.0,43263.0,46931.0,50353.0,54233.0,54809.0,54809.0,55375.0,55842.0,56628.0,57954.0,59601.0,61996.0,69389.0,71855.0,72117.0,74985.0,75330.0,78710.0,82326.0,82582.0,85072.0,96876.0,102160.0,157146.0,7500.0,12393.0,16531.0,17117.0,17345.0,21282.0,22775.0,22775.0,24882.0,24882.0,25804.0,25851.0,26224.0,26487.0,27683.0,28442.0,28587.0,28647.0,30168.0,31626.0,33039.0,33039.0,34043.0,35544.0,36550.0,36975.0,37717.0,37717.0,38136.0,38415.0,38557.0,38593.0,38643.0,38702.0,41014.0,41154.0,41580.0,41986.0,42011.0,42554.0,42693.0,43783.0,44359.0,46377.0,47025.0,51267.0,52195.0,52513.0,53172.0,54162.0,54880.0,55563.0,57113.0,57867.0,60199.0,61346.0,63693.0,63693.0,63855.0,64813.0,65819.0,66373.0,66373.0,67023.0,68092.0,70440.0,71022.0,71427.0,71847.0,72159.0,73807.0,75437.0,77583.0,82170.0,85738.0,88097.0,51958.81057866185,2447.0,7500.0,7500.0,13533.0,15287.0,15287.0,15862.0,16014.0,16653.0,17688.0,20194.0,21645.0,23724.0,24401.0,24594.0,24594.0,27244.0,27922.0,30545.0,31086.0,31605.0,32765.0,33462.0,34350.0,36781.0,40662.0,45057.0,47691.0,48526.0,54210.0,56775.0,57537.0,58025.0,60152.0,60474.0,60474.0,60839.0,61825.0,61825.0,62499.0,63777.0,68274.0,70337.0,71626.0,72063.0,75507.0,75507.0,77298.0,77298.0,77568.0,85693.0,88194.0,90300.0,14515.0,15072.0,16005.0,19107.0,25130.0,25965.0,28071.0,30732.0,30828.0,31535.0,31859.0,33228.0,34968.0,36802.0,37406.0,41850.0,43586.0,43974.0,44010.0,44964.0,45889.0,47850.0,50183.0,51766.0,61014.0,62994.0,65295.0,67506.0,69508.0,69661.0,70829.0,76412.0,77353.0,78789.0,80011.0,81702.0,81741.0,82497.0,96547.0,19414.0,19419.0,22944.0,24336.0,24480.0,26872.0,27733.0,28510.0,29009.0,31089.0,34445.0,35523.0,36038.0,36143.0,36959.0,38547.0,39665.0,40211.0,41967.0,42021.0,42162.0,42395.0,44953.0,51111.0,54386.0,56337.0,56386.0,56937.0,56981.0,58293.0,58684.0,72066.0,75774.0,75774.0,77882.0,87171.0,88325.0,91065.0,51958.81057866185,6560.0,18492.0,19444.0,21059.0,22448.0,23616.0,23661.0,24367.0,24711.0,27590.0,28567.0,28718.0,32313.0,37040.0,38513.0,39660.0,40479.0,41039.0,42081.0,43815.0,45203.0,50272.0,57937.0,58582.0,61416.0,63211.0,65169.0,66664.0,66664.0,68627.0,69109.0,69109.0,70038.0,70038.0,71853.0,71853.0,73450.0,74116.0,75777.0,75777.0,79908.0,84169.0,84169.0,160803.0,51958.81057866185,21840.0,22010.0,22148.0,23536.0,24072.0,25271.0,27100.0,27100.0,28359.0,28427.0,28427.0,30096.0,30096.0,31788.0,32146.0,33569.0,35876.0,36075.0,36262.0,36790.0,37292.0,39062.0,39453.0,39922.0,39922.0,39922.0,43776.0,50150.0,50150.0,69520.0,70123.0,76630.0,78687.0,81698.0,82025.0,86580.0,87188.0,89616.0,90687.0,92491.0,101970.0,51958.81057866185,11012.0,14796.0,15345.0,16269.0,16529.0,18890.0,18988.0,23228.0,23976.0,24570.0,25707.0,26646.0,27255.0,30477.0,31385.0,31761.0,32414.0,34738.0,35196.0,35196.0,35684.0,36108.0,37235.0,38175.0,38680.0,39684.0,40059.0,42207.0,42710.0,52413.0,55434.0,65370.0,70643.0,72570.0,73356.0,79607.0,82733.0,90000.0,7500.0,16581.0,18169.0,19510.0,19986.0,19986.0,20559.0,21355.0,22327.0,23148.0,29103.0,29760.0,29760.0,29938.0,30298.0,31158.0,33454.0,33812.0,36145.0,37929.0,40101.0,41473.0,44322.0,54006.0,55357.0,64355.0,66503.0,70596.0,70596.0,70951.0,72903.0,92533.0,7500.0,8940.0,14906.0,19485.0,20425.0,20425.0,20491.0,21846.0,21888.0,21955.0,22518.0,23477.0,25252.0,26576.0,26816.0,27161.0,28072.0,29999.0,32880.0,33235.0,34320.0,34728.0,38197.0,38508.0,39146.0,41411.0,42386.0,42386.0,45921.0,69867.0,71952.0,71952.0,78394.0,79529.0,80141.0,80910.0,82333.0,83033.0,83512.0,91820.0,92910.0,51958.81057866185,7500.0,15038.0,17323.0,18227.0,21063.0,22434.0,23442.0,23830.0,25545.0,29236.0,30390.0,41020.0,42000.0,42000.0,46923.0,51563.0,57100.0,61787.0,67430.0,67605.0,73395.0,73454.0,74004.0,75794.0,81361.0,81361.0,95169.0,13724.0,15716.0,16248.0,20518.0,23331.0,23331.0,24645.0,25008.0,27938.0,29604.0,34176.0,34176.0,35388.0,38872.0,39747.0,41883.0,45204.0,66951.0,67546.0,67546.0,68487.0,68487.0,68655.0,68655.0,78285.0,84219.0,84219.0,87679.0,90247.0,9255.0,10404.0,10979.0,10979.0,17487.0,18358.0,21474.0,25443.0,28691.0,28691.0,30279.0,30279.0,31928.0,33996.0,33996.0,37155.0,38360.0,38683.0,42387.0,46107.0,59060.0,64449.0,66973.0,75433.0,77845.0,81217.0,81217.0,85710.0,88420.0,51958.81057866185,16185.0,18222.0,18351.0,18929.0,18929.0,18929.0,24279.0,24683.0,26095.0,30093.0,34412.0,35765.0,51250.0,64509.0,73687.0,74214.0,91172.0,96843.0,8028.0,20193.0,26868.0,42691.0,49767.0,51373.0,61618.0,68126.0,68682.0,68682.0,86037.0,89891.0,90273.0,90638.0,90638.0,7500.0,15253.0,17256.0,18746.0,34935.0,34935.0,42670.0,48789.0,63207.0,75114.0,83528.0,87000.0,92859.0,70515.0,72354.0,74293.0,74293.0,79244.0,80134.0,80685.0,95529.0,34824.0,34824.0,71163.0,80617.0,83257.0,7500.0,14421.0],\"y0\":\" \",\"yaxis\":\"y\",\"type\":\"box\"}],                        {\"template\":{\"data\":{\"histogram2dcontour\":[{\"type\":\"histogram2dcontour\",\"colorbar\":{\"outlinewidth\":0,\"ticks\":\"\"},\"colorscale\":[[0.0,\"#0d0887\"],[0.1111111111111111,\"#46039f\"],[0.2222222222222222,\"#7201a8\"],[0.3333333333333333,\"#9c179e\"],[0.4444444444444444,\"#bd3786\"],[0.5555555555555556,\"#d8576b\"],[0.6666666666666666,\"#ed7953\"],[0.7777777777777778,\"#fb9f3a\"],[0.8888888888888888,\"#fdca26\"],[1.0,\"#f0f921\"]]}],\"choropleth\":[{\"type\":\"choropleth\",\"colorbar\":{\"outlinewidth\":0,\"ticks\":\"\"}}],\"histogram2d\":[{\"type\":\"histogram2d\",\"colorbar\":{\"outlinewidth\":0,\"ticks\":\"\"},\"colorscale\":[[0.0,\"#0d0887\"],[0.1111111111111111,\"#46039f\"],[0.2222222222222222,\"#7201a8\"],[0.3333333333333333,\"#9c179e\"],[0.4444444444444444,\"#bd3786\"],[0.5555555555555556,\"#d8576b\"],[0.6666666666666666,\"#ed7953\"],[0.7777777777777778,\"#fb9f3a\"],[0.8888888888888888,\"#fdca26\"],[1.0,\"#f0f921\"]]}],\"heatmap\":[{\"type\":\"heatmap\",\"colorbar\":{\"outlinewidth\":0,\"ticks\":\"\"},\"colorscale\":[[0.0,\"#0d0887\"],[0.1111111111111111,\"#46039f\"],[0.2222222222222222,\"#7201a8\"],[0.3333333333333333,\"#9c179e\"],[0.4444444444444444,\"#bd3786\"],[0.5555555555555556,\"#d8576b\"],[0.6666666666666666,\"#ed7953\"],[0.7777777777777778,\"#fb9f3a\"],[0.8888888888888888,\"#fdca26\"],[1.0,\"#f0f921\"]]}],\"heatmapgl\":[{\"type\":\"heatmapgl\",\"colorbar\":{\"outlinewidth\":0,\"ticks\":\"\"},\"colorscale\":[[0.0,\"#0d0887\"],[0.1111111111111111,\"#46039f\"],[0.2222222222222222,\"#7201a8\"],[0.3333333333333333,\"#9c179e\"],[0.4444444444444444,\"#bd3786\"],[0.5555555555555556,\"#d8576b\"],[0.6666666666666666,\"#ed7953\"],[0.7777777777777778,\"#fb9f3a\"],[0.8888888888888888,\"#fdca26\"],[1.0,\"#f0f921\"]]}],\"contourcarpet\":[{\"type\":\"contourcarpet\",\"colorbar\":{\"outlinewidth\":0,\"ticks\":\"\"}}],\"contour\":[{\"type\":\"contour\",\"colorbar\":{\"outlinewidth\":0,\"ticks\":\"\"},\"colorscale\":[[0.0,\"#0d0887\"],[0.1111111111111111,\"#46039f\"],[0.2222222222222222,\"#7201a8\"],[0.3333333333333333,\"#9c179e\"],[0.4444444444444444,\"#bd3786\"],[0.5555555555555556,\"#d8576b\"],[0.6666666666666666,\"#ed7953\"],[0.7777777777777778,\"#fb9f3a\"],[0.8888888888888888,\"#fdca26\"],[1.0,\"#f0f921\"]]}],\"surface\":[{\"type\":\"surface\",\"colorbar\":{\"outlinewidth\":0,\"ticks\":\"\"},\"colorscale\":[[0.0,\"#0d0887\"],[0.1111111111111111,\"#46039f\"],[0.2222222222222222,\"#7201a8\"],[0.3333333333333333,\"#9c179e\"],[0.4444444444444444,\"#bd3786\"],[0.5555555555555556,\"#d8576b\"],[0.6666666666666666,\"#ed7953\"],[0.7777777777777778,\"#fb9f3a\"],[0.8888888888888888,\"#fdca26\"],[1.0,\"#f0f921\"]]}],\"mesh3d\":[{\"type\":\"mesh3d\",\"colorbar\":{\"outlinewidth\":0,\"ticks\":\"\"}}],\"scatter\":[{\"fillpattern\":{\"fillmode\":\"overlay\",\"size\":10,\"solidity\":0.2},\"type\":\"scatter\"}],\"parcoords\":[{\"type\":\"parcoords\",\"line\":{\"colorbar\":{\"outlinewidth\":0,\"ticks\":\"\"}}}],\"scatterpolargl\":[{\"type\":\"scatterpolargl\",\"marker\":{\"colorbar\":{\"outlinewidth\":0,\"ticks\":\"\"}}}],\"bar\":[{\"error_x\":{\"color\":\"#2a3f5f\"},\"error_y\":{\"color\":\"#2a3f5f\"},\"marker\":{\"line\":{\"color\":\"#E5ECF6\",\"width\":0.5},\"pattern\":{\"fillmode\":\"overlay\",\"size\":10,\"solidity\":0.2}},\"type\":\"bar\"}],\"scattergeo\":[{\"type\":\"scattergeo\",\"marker\":{\"colorbar\":{\"outlinewidth\":0,\"ticks\":\"\"}}}],\"scatterpolar\":[{\"type\":\"scatterpolar\",\"marker\":{\"colorbar\":{\"outlinewidth\":0,\"ticks\":\"\"}}}],\"histogram\":[{\"marker\":{\"pattern\":{\"fillmode\":\"overlay\",\"size\":10,\"solidity\":0.2}},\"type\":\"histogram\"}],\"scattergl\":[{\"type\":\"scattergl\",\"marker\":{\"colorbar\":{\"outlinewidth\":0,\"ticks\":\"\"}}}],\"scatter3d\":[{\"type\":\"scatter3d\",\"line\":{\"colorbar\":{\"outlinewidth\":0,\"ticks\":\"\"}},\"marker\":{\"colorbar\":{\"outlinewidth\":0,\"ticks\":\"\"}}}],\"scattermapbox\":[{\"type\":\"scattermapbox\",\"marker\":{\"colorbar\":{\"outlinewidth\":0,\"ticks\":\"\"}}}],\"scatterternary\":[{\"type\":\"scatterternary\",\"marker\":{\"colorbar\":{\"outlinewidth\":0,\"ticks\":\"\"}}}],\"scattercarpet\":[{\"type\":\"scattercarpet\",\"marker\":{\"colorbar\":{\"outlinewidth\":0,\"ticks\":\"\"}}}],\"carpet\":[{\"aaxis\":{\"endlinecolor\":\"#2a3f5f\",\"gridcolor\":\"white\",\"linecolor\":\"white\",\"minorgridcolor\":\"white\",\"startlinecolor\":\"#2a3f5f\"},\"baxis\":{\"endlinecolor\":\"#2a3f5f\",\"gridcolor\":\"white\",\"linecolor\":\"white\",\"minorgridcolor\":\"white\",\"startlinecolor\":\"#2a3f5f\"},\"type\":\"carpet\"}],\"table\":[{\"cells\":{\"fill\":{\"color\":\"#EBF0F8\"},\"line\":{\"color\":\"white\"}},\"header\":{\"fill\":{\"color\":\"#C8D4E3\"},\"line\":{\"color\":\"white\"}},\"type\":\"table\"}],\"barpolar\":[{\"marker\":{\"line\":{\"color\":\"#E5ECF6\",\"width\":0.5},\"pattern\":{\"fillmode\":\"overlay\",\"size\":10,\"solidity\":0.2}},\"type\":\"barpolar\"}],\"pie\":[{\"automargin\":true,\"type\":\"pie\"}]},\"layout\":{\"autotypenumbers\":\"strict\",\"colorway\":[\"#636efa\",\"#EF553B\",\"#00cc96\",\"#ab63fa\",\"#FFA15A\",\"#19d3f3\",\"#FF6692\",\"#B6E880\",\"#FF97FF\",\"#FECB52\"],\"font\":{\"color\":\"#2a3f5f\"},\"hovermode\":\"closest\",\"hoverlabel\":{\"align\":\"left\"},\"paper_bgcolor\":\"white\",\"plot_bgcolor\":\"#E5ECF6\",\"polar\":{\"bgcolor\":\"#E5ECF6\",\"angularaxis\":{\"gridcolor\":\"white\",\"linecolor\":\"white\",\"ticks\":\"\"},\"radialaxis\":{\"gridcolor\":\"white\",\"linecolor\":\"white\",\"ticks\":\"\"}},\"ternary\":{\"bgcolor\":\"#E5ECF6\",\"aaxis\":{\"gridcolor\":\"white\",\"linecolor\":\"white\",\"ticks\":\"\"},\"baxis\":{\"gridcolor\":\"white\",\"linecolor\":\"white\",\"ticks\":\"\"},\"caxis\":{\"gridcolor\":\"white\",\"linecolor\":\"white\",\"ticks\":\"\"}},\"coloraxis\":{\"colorbar\":{\"outlinewidth\":0,\"ticks\":\"\"}},\"colorscale\":{\"sequential\":[[0.0,\"#0d0887\"],[0.1111111111111111,\"#46039f\"],[0.2222222222222222,\"#7201a8\"],[0.3333333333333333,\"#9c179e\"],[0.4444444444444444,\"#bd3786\"],[0.5555555555555556,\"#d8576b\"],[0.6666666666666666,\"#ed7953\"],[0.7777777777777778,\"#fb9f3a\"],[0.8888888888888888,\"#fdca26\"],[1.0,\"#f0f921\"]],\"sequentialminus\":[[0.0,\"#0d0887\"],[0.1111111111111111,\"#46039f\"],[0.2222222222222222,\"#7201a8\"],[0.3333333333333333,\"#9c179e\"],[0.4444444444444444,\"#bd3786\"],[0.5555555555555556,\"#d8576b\"],[0.6666666666666666,\"#ed7953\"],[0.7777777777777778,\"#fb9f3a\"],[0.8888888888888888,\"#fdca26\"],[1.0,\"#f0f921\"]],\"diverging\":[[0,\"#8e0152\"],[0.1,\"#c51b7d\"],[0.2,\"#de77ae\"],[0.3,\"#f1b6da\"],[0.4,\"#fde0ef\"],[0.5,\"#f7f7f7\"],[0.6,\"#e6f5d0\"],[0.7,\"#b8e186\"],[0.8,\"#7fbc41\"],[0.9,\"#4d9221\"],[1,\"#276419\"]]},\"xaxis\":{\"gridcolor\":\"white\",\"linecolor\":\"white\",\"ticks\":\"\",\"title\":{\"standoff\":15},\"zerolinecolor\":\"white\",\"automargin\":true,\"zerolinewidth\":2},\"yaxis\":{\"gridcolor\":\"white\",\"linecolor\":\"white\",\"ticks\":\"\",\"title\":{\"standoff\":15},\"zerolinecolor\":\"white\",\"automargin\":true,\"zerolinewidth\":2},\"scene\":{\"xaxis\":{\"backgroundcolor\":\"#E5ECF6\",\"gridcolor\":\"white\",\"linecolor\":\"white\",\"showbackground\":true,\"ticks\":\"\",\"zerolinecolor\":\"white\",\"gridwidth\":2},\"yaxis\":{\"backgroundcolor\":\"#E5ECF6\",\"gridcolor\":\"white\",\"linecolor\":\"white\",\"showbackground\":true,\"ticks\":\"\",\"zerolinecolor\":\"white\",\"gridwidth\":2},\"zaxis\":{\"backgroundcolor\":\"#E5ECF6\",\"gridcolor\":\"white\",\"linecolor\":\"white\",\"showbackground\":true,\"ticks\":\"\",\"zerolinecolor\":\"white\",\"gridwidth\":2}},\"shapedefaults\":{\"line\":{\"color\":\"#2a3f5f\"}},\"annotationdefaults\":{\"arrowcolor\":\"#2a3f5f\",\"arrowhead\":0,\"arrowwidth\":1},\"geo\":{\"bgcolor\":\"white\",\"landcolor\":\"#E5ECF6\",\"subunitcolor\":\"white\",\"showland\":true,\"showlakes\":true,\"lakecolor\":\"white\"},\"title\":{\"x\":0.05},\"mapbox\":{\"style\":\"light\"}}},\"xaxis\":{\"anchor\":\"y\",\"domain\":[0.0,1.0],\"title\":{\"text\":\"NumStorePurchases\"}},\"yaxis\":{\"anchor\":\"x\",\"domain\":[0.0,1.0],\"title\":{\"text\":\"Income\"}},\"legend\":{\"tracegroupgap\":0},\"margin\":{\"t\":60},\"boxmode\":\"group\",\"title\":{\"text\":\"Purchase Frequency by Income\"}},                        {\"responsive\": true}                    ).then(function(){\n",
              "                            \n",
              "var gd = document.getElementById('dc43a07c-0fd3-475d-bf0a-b2c2c2ca1bc3');\n",
              "var x = new MutationObserver(function (mutations, observer) {{\n",
              "        var display = window.getComputedStyle(gd).display;\n",
              "        if (!display || display === 'none') {{\n",
              "            console.log([gd, 'removed!']);\n",
              "            Plotly.purge(gd);\n",
              "            observer.disconnect();\n",
              "        }}\n",
              "}});\n",
              "\n",
              "// Listen for the removal of the full notebook cells\n",
              "var notebookContainer = gd.closest('#notebook-container');\n",
              "if (notebookContainer) {{\n",
              "    x.observe(notebookContainer, {childList: true});\n",
              "}}\n",
              "\n",
              "// Listen for the clearing of the current output cell\n",
              "var outputEl = gd.closest('.output');\n",
              "if (outputEl) {{\n",
              "    x.observe(outputEl, {childList: true});\n",
              "}}\n",
              "\n",
              "                        })                };                            </script>        </div>\n",
              "</body>\n",
              "</html>"
            ]
          },
          "metadata": {}
        }
      ]
    },
    {
      "cell_type": "markdown",
      "source": [
        "# Prediction Model #1\n",
        "  ### *Logistic Regression predicting Response Rate*"
      ],
      "metadata": {
        "id": "Ihc2ODJ2VqaJ"
      }
    },
    {
      "cell_type": "code",
      "source": [
        "# Logistic regression to predict response rate with significant factors and coefficients\n",
        "X = df[['Age', 'Income', 'Kidhome', 'Teenhome','Years_with_Brand','Recency','NumDealsPurchases','NumWebPurchases','NumCatalogPurchases', 'NumStorePurchases','NumWebVisitsMonth','Complain']]\n",
        "X = X.fillna(X.mean())\n",
        "y = df['Response_actual']\n",
        "\n",
        "model = LogisticRegression()\n",
        "model.fit(X, y)\n",
        "\n",
        "print('Predicted response rate:', model.predict(X).mean())"
      ],
      "metadata": {
        "colab": {
          "base_uri": "https://localhost:8080/"
        },
        "id": "S30oFYoz7oJL",
        "outputId": "cd8f370d-8a63-4854-e497-7c7c714e12d0"
      },
      "execution_count": null,
      "outputs": [
        {
          "output_type": "stream",
          "name": "stdout",
          "text": [
            "Predicted response rate: 0.05143112701252236\n"
          ]
        }
      ]
    },
    {
      "cell_type": "code",
      "source": [
        "# Print important coefficients\n",
        "\n",
        "pd.DataFrame({'coeff': model.coef_[0]}, index=X.columns)"
      ],
      "metadata": {
        "colab": {
          "base_uri": "https://localhost:8080/",
          "height": 426
        },
        "id": "KjyeAZBhNR3S",
        "outputId": "2155c12f-b6df-4005-d39e-ec33f0ec9a3f"
      },
      "execution_count": null,
      "outputs": [
        {
          "output_type": "execute_result",
          "data": {
            "text/plain": [
              "                        coeff\n",
              "Age                 -0.010995\n",
              "Income               0.000014\n",
              "Kidhome             -0.031389\n",
              "Teenhome            -0.013123\n",
              "Years_with_Brand    -0.163033\n",
              "Recency             -0.002823\n",
              "NumDealsPurchases   -0.062676\n",
              "NumWebPurchases      0.079253\n",
              "NumCatalogPurchases  0.140966\n",
              "NumStorePurchases   -0.012369\n",
              "NumWebVisitsMonth   -0.064597\n",
              "Complain            -0.000818"
            ],
            "text/html": [
              "\n",
              "  <div id=\"df-01bf28fb-11e3-4607-9d20-6e9c89b9fd75\" class=\"colab-df-container\">\n",
              "    <div>\n",
              "<style scoped>\n",
              "    .dataframe tbody tr th:only-of-type {\n",
              "        vertical-align: middle;\n",
              "    }\n",
              "\n",
              "    .dataframe tbody tr th {\n",
              "        vertical-align: top;\n",
              "    }\n",
              "\n",
              "    .dataframe thead th {\n",
              "        text-align: right;\n",
              "    }\n",
              "</style>\n",
              "<table border=\"1\" class=\"dataframe\">\n",
              "  <thead>\n",
              "    <tr style=\"text-align: right;\">\n",
              "      <th></th>\n",
              "      <th>coeff</th>\n",
              "    </tr>\n",
              "  </thead>\n",
              "  <tbody>\n",
              "    <tr>\n",
              "      <th>Age</th>\n",
              "      <td>-0.010995</td>\n",
              "    </tr>\n",
              "    <tr>\n",
              "      <th>Income</th>\n",
              "      <td>0.000014</td>\n",
              "    </tr>\n",
              "    <tr>\n",
              "      <th>Kidhome</th>\n",
              "      <td>-0.031389</td>\n",
              "    </tr>\n",
              "    <tr>\n",
              "      <th>Teenhome</th>\n",
              "      <td>-0.013123</td>\n",
              "    </tr>\n",
              "    <tr>\n",
              "      <th>Years_with_Brand</th>\n",
              "      <td>-0.163033</td>\n",
              "    </tr>\n",
              "    <tr>\n",
              "      <th>Recency</th>\n",
              "      <td>-0.002823</td>\n",
              "    </tr>\n",
              "    <tr>\n",
              "      <th>NumDealsPurchases</th>\n",
              "      <td>-0.062676</td>\n",
              "    </tr>\n",
              "    <tr>\n",
              "      <th>NumWebPurchases</th>\n",
              "      <td>0.079253</td>\n",
              "    </tr>\n",
              "    <tr>\n",
              "      <th>NumCatalogPurchases</th>\n",
              "      <td>0.140966</td>\n",
              "    </tr>\n",
              "    <tr>\n",
              "      <th>NumStorePurchases</th>\n",
              "      <td>-0.012369</td>\n",
              "    </tr>\n",
              "    <tr>\n",
              "      <th>NumWebVisitsMonth</th>\n",
              "      <td>-0.064597</td>\n",
              "    </tr>\n",
              "    <tr>\n",
              "      <th>Complain</th>\n",
              "      <td>-0.000818</td>\n",
              "    </tr>\n",
              "  </tbody>\n",
              "</table>\n",
              "</div>\n",
              "    <div class=\"colab-df-buttons\">\n",
              "\n",
              "  <div class=\"colab-df-container\">\n",
              "    <button class=\"colab-df-convert\" onclick=\"convertToInteractive('df-01bf28fb-11e3-4607-9d20-6e9c89b9fd75')\"\n",
              "            title=\"Convert this dataframe to an interactive table.\"\n",
              "            style=\"display:none;\">\n",
              "\n",
              "  <svg xmlns=\"http://www.w3.org/2000/svg\" height=\"24px\" viewBox=\"0 -960 960 960\">\n",
              "    <path d=\"M120-120v-720h720v720H120Zm60-500h600v-160H180v160Zm220 220h160v-160H400v160Zm0 220h160v-160H400v160ZM180-400h160v-160H180v160Zm440 0h160v-160H620v160ZM180-180h160v-160H180v160Zm440 0h160v-160H620v160Z\"/>\n",
              "  </svg>\n",
              "    </button>\n",
              "\n",
              "  <style>\n",
              "    .colab-df-container {\n",
              "      display:flex;\n",
              "      gap: 12px;\n",
              "    }\n",
              "\n",
              "    .colab-df-convert {\n",
              "      background-color: #E8F0FE;\n",
              "      border: none;\n",
              "      border-radius: 50%;\n",
              "      cursor: pointer;\n",
              "      display: none;\n",
              "      fill: #1967D2;\n",
              "      height: 32px;\n",
              "      padding: 0 0 0 0;\n",
              "      width: 32px;\n",
              "    }\n",
              "\n",
              "    .colab-df-convert:hover {\n",
              "      background-color: #E2EBFA;\n",
              "      box-shadow: 0px 1px 2px rgba(60, 64, 67, 0.3), 0px 1px 3px 1px rgba(60, 64, 67, 0.15);\n",
              "      fill: #174EA6;\n",
              "    }\n",
              "\n",
              "    .colab-df-buttons div {\n",
              "      margin-bottom: 4px;\n",
              "    }\n",
              "\n",
              "    [theme=dark] .colab-df-convert {\n",
              "      background-color: #3B4455;\n",
              "      fill: #D2E3FC;\n",
              "    }\n",
              "\n",
              "    [theme=dark] .colab-df-convert:hover {\n",
              "      background-color: #434B5C;\n",
              "      box-shadow: 0px 1px 3px 1px rgba(0, 0, 0, 0.15);\n",
              "      filter: drop-shadow(0px 1px 2px rgba(0, 0, 0, 0.3));\n",
              "      fill: #FFFFFF;\n",
              "    }\n",
              "  </style>\n",
              "\n",
              "    <script>\n",
              "      const buttonEl =\n",
              "        document.querySelector('#df-01bf28fb-11e3-4607-9d20-6e9c89b9fd75 button.colab-df-convert');\n",
              "      buttonEl.style.display =\n",
              "        google.colab.kernel.accessAllowed ? 'block' : 'none';\n",
              "\n",
              "      async function convertToInteractive(key) {\n",
              "        const element = document.querySelector('#df-01bf28fb-11e3-4607-9d20-6e9c89b9fd75');\n",
              "        const dataTable =\n",
              "          await google.colab.kernel.invokeFunction('convertToInteractive',\n",
              "                                                    [key], {});\n",
              "        if (!dataTable) return;\n",
              "\n",
              "        const docLinkHtml = 'Like what you see? Visit the ' +\n",
              "          '<a target=\"_blank\" href=https://colab.research.google.com/notebooks/data_table.ipynb>data table notebook</a>'\n",
              "          + ' to learn more about interactive tables.';\n",
              "        element.innerHTML = '';\n",
              "        dataTable['output_type'] = 'display_data';\n",
              "        await google.colab.output.renderOutput(dataTable, element);\n",
              "        const docLink = document.createElement('div');\n",
              "        docLink.innerHTML = docLinkHtml;\n",
              "        element.appendChild(docLink);\n",
              "      }\n",
              "    </script>\n",
              "  </div>\n",
              "\n",
              "\n",
              "<div id=\"df-2b7fc60a-dfb7-40e6-8253-045c64fac890\">\n",
              "  <button class=\"colab-df-quickchart\" onclick=\"quickchart('df-2b7fc60a-dfb7-40e6-8253-045c64fac890')\"\n",
              "            title=\"Suggest charts\"\n",
              "            style=\"display:none;\">\n",
              "\n",
              "<svg xmlns=\"http://www.w3.org/2000/svg\" height=\"24px\"viewBox=\"0 0 24 24\"\n",
              "     width=\"24px\">\n",
              "    <g>\n",
              "        <path d=\"M19 3H5c-1.1 0-2 .9-2 2v14c0 1.1.9 2 2 2h14c1.1 0 2-.9 2-2V5c0-1.1-.9-2-2-2zM9 17H7v-7h2v7zm4 0h-2V7h2v10zm4 0h-2v-4h2v4z\"/>\n",
              "    </g>\n",
              "</svg>\n",
              "  </button>\n",
              "\n",
              "<style>\n",
              "  .colab-df-quickchart {\n",
              "      --bg-color: #E8F0FE;\n",
              "      --fill-color: #1967D2;\n",
              "      --hover-bg-color: #E2EBFA;\n",
              "      --hover-fill-color: #174EA6;\n",
              "      --disabled-fill-color: #AAA;\n",
              "      --disabled-bg-color: #DDD;\n",
              "  }\n",
              "\n",
              "  [theme=dark] .colab-df-quickchart {\n",
              "      --bg-color: #3B4455;\n",
              "      --fill-color: #D2E3FC;\n",
              "      --hover-bg-color: #434B5C;\n",
              "      --hover-fill-color: #FFFFFF;\n",
              "      --disabled-bg-color: #3B4455;\n",
              "      --disabled-fill-color: #666;\n",
              "  }\n",
              "\n",
              "  .colab-df-quickchart {\n",
              "    background-color: var(--bg-color);\n",
              "    border: none;\n",
              "    border-radius: 50%;\n",
              "    cursor: pointer;\n",
              "    display: none;\n",
              "    fill: var(--fill-color);\n",
              "    height: 32px;\n",
              "    padding: 0;\n",
              "    width: 32px;\n",
              "  }\n",
              "\n",
              "  .colab-df-quickchart:hover {\n",
              "    background-color: var(--hover-bg-color);\n",
              "    box-shadow: 0 1px 2px rgba(60, 64, 67, 0.3), 0 1px 3px 1px rgba(60, 64, 67, 0.15);\n",
              "    fill: var(--button-hover-fill-color);\n",
              "  }\n",
              "\n",
              "  .colab-df-quickchart-complete:disabled,\n",
              "  .colab-df-quickchart-complete:disabled:hover {\n",
              "    background-color: var(--disabled-bg-color);\n",
              "    fill: var(--disabled-fill-color);\n",
              "    box-shadow: none;\n",
              "  }\n",
              "\n",
              "  .colab-df-spinner {\n",
              "    border: 2px solid var(--fill-color);\n",
              "    border-color: transparent;\n",
              "    border-bottom-color: var(--fill-color);\n",
              "    animation:\n",
              "      spin 1s steps(1) infinite;\n",
              "  }\n",
              "\n",
              "  @keyframes spin {\n",
              "    0% {\n",
              "      border-color: transparent;\n",
              "      border-bottom-color: var(--fill-color);\n",
              "      border-left-color: var(--fill-color);\n",
              "    }\n",
              "    20% {\n",
              "      border-color: transparent;\n",
              "      border-left-color: var(--fill-color);\n",
              "      border-top-color: var(--fill-color);\n",
              "    }\n",
              "    30% {\n",
              "      border-color: transparent;\n",
              "      border-left-color: var(--fill-color);\n",
              "      border-top-color: var(--fill-color);\n",
              "      border-right-color: var(--fill-color);\n",
              "    }\n",
              "    40% {\n",
              "      border-color: transparent;\n",
              "      border-right-color: var(--fill-color);\n",
              "      border-top-color: var(--fill-color);\n",
              "    }\n",
              "    60% {\n",
              "      border-color: transparent;\n",
              "      border-right-color: var(--fill-color);\n",
              "    }\n",
              "    80% {\n",
              "      border-color: transparent;\n",
              "      border-right-color: var(--fill-color);\n",
              "      border-bottom-color: var(--fill-color);\n",
              "    }\n",
              "    90% {\n",
              "      border-color: transparent;\n",
              "      border-bottom-color: var(--fill-color);\n",
              "    }\n",
              "  }\n",
              "</style>\n",
              "\n",
              "  <script>\n",
              "    async function quickchart(key) {\n",
              "      const quickchartButtonEl =\n",
              "        document.querySelector('#' + key + ' button');\n",
              "      quickchartButtonEl.disabled = true;  // To prevent multiple clicks.\n",
              "      quickchartButtonEl.classList.add('colab-df-spinner');\n",
              "      try {\n",
              "        const charts = await google.colab.kernel.invokeFunction(\n",
              "            'suggestCharts', [key], {});\n",
              "      } catch (error) {\n",
              "        console.error('Error during call to suggestCharts:', error);\n",
              "      }\n",
              "      quickchartButtonEl.classList.remove('colab-df-spinner');\n",
              "      quickchartButtonEl.classList.add('colab-df-quickchart-complete');\n",
              "    }\n",
              "    (() => {\n",
              "      let quickchartButtonEl =\n",
              "        document.querySelector('#df-2b7fc60a-dfb7-40e6-8253-045c64fac890 button');\n",
              "      quickchartButtonEl.style.display =\n",
              "        google.colab.kernel.accessAllowed ? 'block' : 'none';\n",
              "    })();\n",
              "  </script>\n",
              "</div>\n",
              "    </div>\n",
              "  </div>\n"
            ],
            "application/vnd.google.colaboratory.intrinsic+json": {
              "type": "dataframe",
              "summary": "{\n  \"name\": \"# Recency:  A negative coefficient (-0\",\n  \"rows\": 12,\n  \"fields\": [\n    {\n      \"column\": \"coeff\",\n      \"properties\": {\n        \"dtype\": \"number\",\n        \"std\": 0.07422491666530988,\n        \"min\": -0.16303327029049883,\n        \"max\": 0.1409659965194105,\n        \"num_unique_values\": 12,\n        \"samples\": [\n          -0.06459690550955312,\n          -0.012369347978371676,\n          -0.010994995735070926\n        ],\n        \"semantic_type\": \"\",\n        \"description\": \"\"\n      }\n    }\n  ]\n}"
            }
          },
          "metadata": {},
          "execution_count": 13
        }
      ]
    },
    {
      "cell_type": "code",
      "source": [
        "# Print overall model performance\n",
        "y_pred = model.predict(X)\n",
        "print(f'Accuracy: {accuracy_score(y, y_pred):.4f}')\n",
        "print(f'F1 Score: {f1_score(y, y_pred):.4f}')\n",
        "print(f'Confusion Matrix:\\n{confusion_matrix(y, y_pred)}')"
      ],
      "metadata": {
        "colab": {
          "base_uri": "https://localhost:8080/"
        },
        "id": "8VzCa6-2NUe7",
        "outputId": "4a06c303-b37e-4403-f0b3-82ff7061a145"
      },
      "execution_count": null,
      "outputs": [
        {
          "output_type": "stream",
          "name": "stdout",
          "text": [
            "Accuracy: 0.8010\n",
            "F1 Score: 0.2288\n",
            "Confusion Matrix:\n",
            "[[1725   49]\n",
            " [ 396   66]]\n"
          ]
        }
      ]
    },
    {
      "cell_type": "code",
      "source": [
        "# Response prediction model performance using cross-validation\n",
        "from sklearn.model_selection import cross_validate\n",
        "scores = cross_validate(model, X, y, scoring=['accuracy', 'precision', 'recall', 'f1'])"
      ],
      "metadata": {
        "id": "Otlsuw0LNvjF",
        "colab": {
          "base_uri": "https://localhost:8080/"
        },
        "outputId": "906bf956-794c-4215-ad9b-4934d0f167e9"
      },
      "execution_count": null,
      "outputs": [
        {
          "output_type": "stream",
          "name": "stderr",
          "text": [
            "/usr/local/lib/python3.10/dist-packages/sklearn/linear_model/_logistic.py:458: ConvergenceWarning:\n",
            "\n",
            "lbfgs failed to converge (status=1):\n",
            "STOP: TOTAL NO. of ITERATIONS REACHED LIMIT.\n",
            "\n",
            "Increase the number of iterations (max_iter) or scale the data as shown in:\n",
            "    https://scikit-learn.org/stable/modules/preprocessing.html\n",
            "Please also refer to the documentation for alternative solver options:\n",
            "    https://scikit-learn.org/stable/modules/linear_model.html#logistic-regression\n",
            "\n"
          ]
        }
      ]
    },
    {
      "cell_type": "code",
      "source": [
        "# Print average scores\n",
        "print('Average Cross Validation Scores:')\n",
        "print(f'Accuracy: {scores[\"test_accuracy\"].mean():.4f}')\n",
        "print(f'Precision: {scores[\"test_precision\"].mean():.4f}')\n",
        "print(f'Recall: {scores[\"test_recall\"].mean():.4f}')\n",
        "print(f'F1 Score: {scores[\"test_f1\"].mean():.4f}')"
      ],
      "metadata": {
        "colab": {
          "base_uri": "https://localhost:8080/"
        },
        "id": "3kH2u-L0N07F",
        "outputId": "24249a4e-0fa6-4b5a-cb28-cd7fae16a8f3"
      },
      "execution_count": null,
      "outputs": [
        {
          "output_type": "stream",
          "name": "stdout",
          "text": [
            "Average Cross Validation Scores:\n",
            "Accuracy: 0.7961\n",
            "Precision: 0.4344\n",
            "Recall: 0.1624\n",
            "F1 Score: 0.2298\n"
          ]
        }
      ]
    },
    {
      "cell_type": "markdown",
      "source": [
        "# Prediction Model #2\n",
        "  ### Logistic Regression predicting average number of campaigns needed till conversion"
      ],
      "metadata": {
        "id": "B0lDUnJ3aP1_"
      }
    },
    {
      "cell_type": "code",
      "source": [
        "# Prediction Model: Campaign Conversions\n",
        "\n",
        "from sklearn.preprocessing import StandardScaler\n",
        "scaler = StandardScaler()\n",
        "\n",
        "X = df[['Age', 'Kidhome', 'Teenhome','Years_with_Brand','NumDealsPurchases','NumWebPurchases',\n",
        "        'NumCatalogPurchases', 'NumStorePurchases','NumWebVisitsMonth']]\n",
        "X = X.fillna(X.mean())\n",
        "X_scaled = scaler.fit_transform(X)\n",
        "y = df['Response_actual']\n",
        "\n",
        "# Re-train the model with scaled features\n",
        "model.fit(X_scaled, y)\n",
        "\n",
        "model = LogisticRegression()\n",
        "model.fit(X, y)\n",
        "print('Expected campaigns till conversion:', 1/model.predict_proba(X)[:,1].mean())"
      ],
      "metadata": {
        "colab": {
          "base_uri": "https://localhost:8080/"
        },
        "id": "Okp6JICTNX_U",
        "outputId": "23f09f99-ca74-48a7-d703-9feabc24e6c1"
      },
      "execution_count": null,
      "outputs": [
        {
          "output_type": "stream",
          "name": "stdout",
          "text": [
            "Expected campaigns till conversion: 4.8455001281146854\n"
          ]
        },
        {
          "output_type": "stream",
          "name": "stderr",
          "text": [
            "/usr/local/lib/python3.10/dist-packages/sklearn/linear_model/_logistic.py:458: ConvergenceWarning:\n",
            "\n",
            "lbfgs failed to converge (status=1):\n",
            "STOP: TOTAL NO. of ITERATIONS REACHED LIMIT.\n",
            "\n",
            "Increase the number of iterations (max_iter) or scale the data as shown in:\n",
            "    https://scikit-learn.org/stable/modules/preprocessing.html\n",
            "Please also refer to the documentation for alternative solver options:\n",
            "    https://scikit-learn.org/stable/modules/linear_model.html#logistic-regression\n",
            "\n"
          ]
        }
      ]
    },
    {
      "cell_type": "code",
      "source": [
        "# Predict conversion probability for each customer on an average\n",
        "y_proba = model.predict_proba(X)[:, 1]  # Probability of responding (positive class)\n",
        "print(y_proba.mean())"
      ],
      "metadata": {
        "colab": {
          "base_uri": "https://localhost:8080/"
        },
        "id": "U6xyk7vkNhpc",
        "outputId": "e6484532-0192-4788-c119-2803bcf649cc"
      },
      "execution_count": null,
      "outputs": [
        {
          "output_type": "stream",
          "name": "stdout",
          "text": [
            "0.2063770454153482\n"
          ]
        }
      ]
    },
    {
      "cell_type": "code",
      "source": [
        "# Print overall model performance\n",
        "y_pred = model.predict(X)\n",
        "print(f'Accuracy: {accuracy_score(y, y_pred):.4f}')\n",
        "print(f'F1 Score: {f1_score(y, y_pred):.4f}')\n",
        "print(f'Confusion Matrix:\\n{confusion_matrix(y, y_pred)}')"
      ],
      "metadata": {
        "colab": {
          "base_uri": "https://localhost:8080/"
        },
        "id": "WkULvaNruZ-o",
        "outputId": "a3a0baa8-3fcf-46e6-e676-983ed88285b7"
      },
      "execution_count": null,
      "outputs": [
        {
          "output_type": "stream",
          "name": "stdout",
          "text": [
            "Accuracy: 0.7947\n",
            "F1 Score: 0.2388\n",
            "Confusion Matrix:\n",
            "[[1705   69]\n",
            " [ 390   72]]\n"
          ]
        }
      ]
    },
    {
      "cell_type": "markdown",
      "source": [
        "# Clustering Model"
      ],
      "metadata": {
        "id": "DhUdCyHaaktu"
      }
    },
    {
      "cell_type": "code",
      "source": [
        "# Cluster customers\n",
        "kmeans = KMeans(n_clusters=5).fit(X)\n",
        "df['segment'] = kmeans.labels_"
      ],
      "metadata": {
        "colab": {
          "base_uri": "https://localhost:8080/"
        },
        "id": "Ci6HrPJ3NpyY",
        "outputId": "9d2a6ab2-df63-4ba5-e252-d73a480c099d"
      },
      "execution_count": null,
      "outputs": [
        {
          "output_type": "stream",
          "name": "stderr",
          "text": [
            "/usr/local/lib/python3.10/dist-packages/sklearn/cluster/_kmeans.py:870: FutureWarning:\n",
            "\n",
            "The default value of `n_init` will change from 10 to 'auto' in 1.4. Set the value of `n_init` explicitly to suppress the warning\n",
            "\n"
          ]
        }
      ]
    },
    {
      "cell_type": "code",
      "source": [
        "# Average expected campaigns till conversion for each cluster\n",
        "df['expected_conversions'] = 1 / y_proba\n",
        "print(df.groupby('segment')['expected_conversions'].mean())"
      ],
      "metadata": {
        "colab": {
          "base_uri": "https://localhost:8080/"
        },
        "id": "2vCqCtwyNs5s",
        "outputId": "d2da649f-d631-4d05-842c-e1a4c624bef8"
      },
      "execution_count": null,
      "outputs": [
        {
          "output_type": "stream",
          "name": "stdout",
          "text": [
            "segment\n",
            "0     4.528009\n",
            "1    11.000392\n",
            "2     6.895279\n",
            "3     6.958659\n",
            "4     8.030390\n",
            "Name: expected_conversions, dtype: float64\n"
          ]
        }
      ]
    },
    {
      "cell_type": "code",
      "source": [
        "# Average probability of conversions for each cluster\n",
        "df['conversion_probability'] = y_proba\n",
        "print(df.groupby('segment')['conversion_probability'].mean())"
      ],
      "metadata": {
        "colab": {
          "base_uri": "https://localhost:8080/"
        },
        "id": "TDzYTRD93Ij-",
        "outputId": "0545565d-540e-42a0-cdea-48a6420611e1"
      },
      "execution_count": null,
      "outputs": [
        {
          "output_type": "stream",
          "name": "stdout",
          "text": [
            "segment\n",
            "0    0.308650\n",
            "1    0.105854\n",
            "2    0.206103\n",
            "3    0.244661\n",
            "4    0.202982\n",
            "Name: conversion_probability, dtype: float64\n"
          ]
        }
      ]
    },
    {
      "cell_type": "code",
      "source": [
        "# Cluster visualization\n",
        "import matplotlib.pyplot as plt\n",
        "import seaborn as sns\n",
        "\n",
        "sns.scatterplot(\n",
        "    x=\"Income\",\n",
        "    y=\"Age\",\n",
        "    hue=\"segment\",\n",
        "    palette=\"Paired\",\n",
        "    data=df,\n",
        ")\n",
        "plt.title('Customer Segments by Income and Age')\n",
        "plt.show()\n"
      ],
      "metadata": {
        "colab": {
          "base_uri": "https://localhost:8080/",
          "height": 472
        },
        "id": "43FtHuxpNzg5",
        "outputId": "4751dfa1-6786-4649-ca6c-a7a25f268f61"
      },
      "execution_count": null,
      "outputs": [
        {
          "output_type": "display_data",
          "data": {
            "text/plain": [
              "<Figure size 640x480 with 1 Axes>"
            ],
            "image/png": "[encoded data removed]"
          },
          "metadata": {}
        }
      ]
    },
    {
      "cell_type": "code",
      "source": [
        "# Applying Random Forest as Logistic Regression cannot handle all features to identify cluster-wise segmentation\n",
        "\n",
        "from sklearn.ensemble import RandomForestClassifier\n",
        "\n",
        "# Loop through clusters and build models\n",
        "cluster_models = {}\n",
        "for cluster in df['segment'].unique():\n",
        "  cluster_data = df[df['segment'] == cluster]\n",
        "  X_cluster = cluster_data[['Age', 'Income', 'NumCatalogPurchases']]  # Assuming these features\n",
        "  y_cluster = cluster_data['Response_actual']\n",
        "\n",
        "  # Create and fit a Random Forest model\n",
        "  model = RandomForestClassifier()\n",
        "  model.fit(X_cluster, y_cluster)\n",
        "\n",
        "  # Store the model for the current cluster\n",
        "  cluster_models[cluster] = model\n",
        "\n",
        "# for example, print feature importances for cluster 1 model:\n",
        "print(cluster_models[1].feature_importances_)\n",
        "\n",
        "# Predicting with Cluster Models (assuming new data with cluster assignments)\n",
        "new_data = pd.DataFrame({'Age': [85], 'Income': [80000], 'NumCatalogPurchases': [10]})  # Example data\n",
        "cluster = 1  # Assuming assigned cluster\n",
        "\n",
        "# Use the model for the assigned cluster to predict\n",
        "predicted_response = cluster_models[cluster].predict(new_data)[0]\n",
        "\n",
        "print(f\"Predicted response for new data (cluster {cluster}): {predicted_response}\")"
      ],
      "metadata": {
        "colab": {
          "base_uri": "https://localhost:8080/"
        },
        "id": "OxdMuwKeWEYl",
        "outputId": "0b6a5776-571f-4b69-d0f6-3798a8db6489"
      },
      "execution_count": null,
      "outputs": [
        {
          "output_type": "stream",
          "name": "stdout",
          "text": [
            "[0.24596548 0.55936704 0.19466748]\n",
            "Predicted response for new data (cluster 1): 1\n"
          ]
        }
      ]
    }
  ]
}