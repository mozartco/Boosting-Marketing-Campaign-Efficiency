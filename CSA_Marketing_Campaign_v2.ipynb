{
  "nbformat": 4,
  "nbformat_minor": 0,
  "metadata": {
    "colab": {
      "provenance": []
    },
    "kernelspec": {
      "name": "python3",
      "display_name": "Python 3"
    },
    "language_info": {
      "name": "python"
    }
  },
  "cells": [
    {
      "cell_type": "code",
      "execution_count": 1,
      "metadata": {
        "id": "Q3b-u8-U60Iq"
      },
      "outputs": [],
      "source": [
        "import pandas as pd\n",
        "from sklearn.linear_model import LogisticRegression\n",
        "from sklearn.cluster import KMeans\n",
        "from sklearn.metrics import accuracy_score, f1_score, confusion_matrix\n",
        "import plotly.express as px\n",
        "import matplotlib.pyplot as plt\n",
        "import seaborn as sns"
      ]
    },
    {
      "cell_type": "code",
      "source": [
        "# Load campaign data\n",
        "df = pd.read_excel('marketing_campaign_v2.xlsx')"
      ],
      "metadata": {
        "id": "GvmyzP-37jj9"
      },
      "execution_count": 2,
      "outputs": []
    },
    {
      "cell_type": "code",
      "source": [
        "# Print Head\n",
        "df.head()"
      ],
      "metadata": {
        "colab": {
          "base_uri": "https://localhost:8080/",
          "height": 255
        },
        "id": "sDDybw2c8sbC",
        "outputId": "fd918b26-5749-43b2-9691-51e6d18f1c2b"
      },
      "execution_count": 3,
      "outputs": [
        {
          "output_type": "execute_result",
          "data": {
            "text/plain": [
              "     ID  Year_Birth   Education Marital_Status   Income  Kidhome  Teenhome  \\\n",
              "0  5524        1957  Graduation         Single  58138.0        0         0   \n",
              "1  2174        1954  Graduation         Single  46344.0        1         1   \n",
              "2  4141        1965  Graduation       Together  71613.0        0         0   \n",
              "3  6182        1984  Graduation       Together  26646.0        1         0   \n",
              "4  5324        1981         PhD        Married  58293.0        1         0   \n",
              "\n",
              "  Dt_Customer  Recency  MntWines  ...  NumCatalogPurchases  NumStorePurchases  \\\n",
              "0  2012-09-04       58       635  ...                   10                  4   \n",
              "1  2014-03-08       38        11  ...                    1                  2   \n",
              "2  2013-08-21       26       426  ...                    2                 10   \n",
              "3  2014-02-10       26        11  ...                    0                  4   \n",
              "4  2014-01-19       94       173  ...                    3                  6   \n",
              "\n",
              "   NumWebVisitsMonth  AcceptedCmp3  AcceptedCmp4  AcceptedCmp5  AcceptedCmp1  \\\n",
              "0                  7             0             0             0             0   \n",
              "1                  5             0             0             0             0   \n",
              "2                  4             0             0             0             0   \n",
              "3                  6             0             0             0             0   \n",
              "4                  5             0             0             0             0   \n",
              "\n",
              "   AcceptedCmp2  Response_actual  Complain  \n",
              "0             0                0         0  \n",
              "1             0                0         0  \n",
              "2             0                0         0  \n",
              "3             0                0         0  \n",
              "4             0                0         0  \n",
              "\n",
              "[5 rows x 27 columns]"
            ],
            "text/html": [
              "\n",
              "  <div id=\"df-5091931e-0232-4fd6-ad9a-d35a62e8988d\" class=\"colab-df-container\">\n",
              "    <div>\n",
              "<style scoped>\n",
              "    .dataframe tbody tr th:only-of-type {\n",
              "        vertical-align: middle;\n",
              "    }\n",
              "\n",
              "    .dataframe tbody tr th {\n",
              "        vertical-align: top;\n",
              "    }\n",
              "\n",
              "    .dataframe thead th {\n",
              "        text-align: right;\n",
              "    }\n",
              "</style>\n",
              "<table border=\"1\" class=\"dataframe\">\n",
              "  <thead>\n",
              "    <tr style=\"text-align: right;\">\n",
              "      <th></th>\n",
              "      <th>ID</th>\n",
              "      <th>Year_Birth</th>\n",
              "      <th>Education</th>\n",
              "      <th>Marital_Status</th>\n",
              "      <th>Income</th>\n",
              "      <th>Kidhome</th>\n",
              "      <th>Teenhome</th>\n",
              "      <th>Dt_Customer</th>\n",
              "      <th>Recency</th>\n",
              "      <th>MntWines</th>\n",
              "      <th>...</th>\n",
              "      <th>NumCatalogPurchases</th>\n",
              "      <th>NumStorePurchases</th>\n",
              "      <th>NumWebVisitsMonth</th>\n",
              "      <th>AcceptedCmp3</th>\n",
              "      <th>AcceptedCmp4</th>\n",
              "      <th>AcceptedCmp5</th>\n",
              "      <th>AcceptedCmp1</th>\n",
              "      <th>AcceptedCmp2</th>\n",
              "      <th>Response_actual</th>\n",
              "      <th>Complain</th>\n",
              "    </tr>\n",
              "  </thead>\n",
              "  <tbody>\n",
              "    <tr>\n",
              "      <th>0</th>\n",
              "      <td>5524</td>\n",
              "      <td>1957</td>\n",
              "      <td>Graduation</td>\n",
              "      <td>Single</td>\n",
              "      <td>58138.0</td>\n",
              "      <td>0</td>\n",
              "      <td>0</td>\n",
              "      <td>2012-09-04</td>\n",
              "      <td>58</td>\n",
              "      <td>635</td>\n",
              "      <td>...</td>\n",
              "      <td>10</td>\n",
              "      <td>4</td>\n",
              "      <td>7</td>\n",
              "      <td>0</td>\n",
              "      <td>0</td>\n",
              "      <td>0</td>\n",
              "      <td>0</td>\n",
              "      <td>0</td>\n",
              "      <td>0</td>\n",
              "      <td>0</td>\n",
              "    </tr>\n",
              "    <tr>\n",
              "      <th>1</th>\n",
              "      <td>2174</td>\n",
              "      <td>1954</td>\n",
              "      <td>Graduation</td>\n",
              "      <td>Single</td>\n",
              "      <td>46344.0</td>\n",
              "      <td>1</td>\n",
              "      <td>1</td>\n",
              "      <td>2014-03-08</td>\n",
              "      <td>38</td>\n",
              "      <td>11</td>\n",
              "      <td>...</td>\n",
              "      <td>1</td>\n",
              "      <td>2</td>\n",
              "      <td>5</td>\n",
              "      <td>0</td>\n",
              "      <td>0</td>\n",
              "      <td>0</td>\n",
              "      <td>0</td>\n",
              "      <td>0</td>\n",
              "      <td>0</td>\n",
              "      <td>0</td>\n",
              "    </tr>\n",
              "    <tr>\n",
              "      <th>2</th>\n",
              "      <td>4141</td>\n",
              "      <td>1965</td>\n",
              "      <td>Graduation</td>\n",
              "      <td>Together</td>\n",
              "      <td>71613.0</td>\n",
              "      <td>0</td>\n",
              "      <td>0</td>\n",
              "      <td>2013-08-21</td>\n",
              "      <td>26</td>\n",
              "      <td>426</td>\n",
              "      <td>...</td>\n",
              "      <td>2</td>\n",
              "      <td>10</td>\n",
              "      <td>4</td>\n",
              "      <td>0</td>\n",
              "      <td>0</td>\n",
              "      <td>0</td>\n",
              "      <td>0</td>\n",
              "      <td>0</td>\n",
              "      <td>0</td>\n",
              "      <td>0</td>\n",
              "    </tr>\n",
              "    <tr>\n",
              "      <th>3</th>\n",
              "      <td>6182</td>\n",
              "      <td>1984</td>\n",
              "      <td>Graduation</td>\n",
              "      <td>Together</td>\n",
              "      <td>26646.0</td>\n",
              "      <td>1</td>\n",
              "      <td>0</td>\n",
              "      <td>2014-02-10</td>\n",
              "      <td>26</td>\n",
              "      <td>11</td>\n",
              "      <td>...</td>\n",
              "      <td>0</td>\n",
              "      <td>4</td>\n",
              "      <td>6</td>\n",
              "      <td>0</td>\n",
              "      <td>0</td>\n",
              "      <td>0</td>\n",
              "      <td>0</td>\n",
              "      <td>0</td>\n",
              "      <td>0</td>\n",
              "      <td>0</td>\n",
              "    </tr>\n",
              "    <tr>\n",
              "      <th>4</th>\n",
              "      <td>5324</td>\n",
              "      <td>1981</td>\n",
              "      <td>PhD</td>\n",
              "      <td>Married</td>\n",
              "      <td>58293.0</td>\n",
              "      <td>1</td>\n",
              "      <td>0</td>\n",
              "      <td>2014-01-19</td>\n",
              "      <td>94</td>\n",
              "      <td>173</td>\n",
              "      <td>...</td>\n",
              "      <td>3</td>\n",
              "      <td>6</td>\n",
              "      <td>5</td>\n",
              "      <td>0</td>\n",
              "      <td>0</td>\n",
              "      <td>0</td>\n",
              "      <td>0</td>\n",
              "      <td>0</td>\n",
              "      <td>0</td>\n",
              "      <td>0</td>\n",
              "    </tr>\n",
              "  </tbody>\n",
              "</table>\n",
              "<p>5 rows × 27 columns</p>\n",
              "</div>\n",
              "    <div class=\"colab-df-buttons\">\n",
              "\n",
              "  <div class=\"colab-df-container\">\n",
              "    <button class=\"colab-df-convert\" onclick=\"convertToInteractive('df-5091931e-0232-4fd6-ad9a-d35a62e8988d')\"\n",
              "            title=\"Convert this dataframe to an interactive table.\"\n",
              "            style=\"display:none;\">\n",
              "\n",
              "  <svg xmlns=\"http://www.w3.org/2000/svg\" height=\"24px\" viewBox=\"0 -960 960 960\">\n",
              "    <path d=\"M120-120v-720h720v720H120Zm60-500h600v-160H180v160Zm220 220h160v-160H400v160Zm0 220h160v-160H400v160ZM180-400h160v-160H180v160Zm440 0h160v-160H620v160ZM180-180h160v-160H180v160Zm440 0h160v-160H620v160Z\"/>\n",
              "  </svg>\n",
              "    </button>\n",
              "\n",
              "  <style>\n",
              "    .colab-df-container {\n",
              "      display:flex;\n",
              "      gap: 12px;\n",
              "    }\n",
              "\n",
              "    .colab-df-convert {\n",
              "      background-color: #E8F0FE;\n",
              "      border: none;\n",
              "      border-radius: 50%;\n",
              "      cursor: pointer;\n",
              "      display: none;\n",
              "      fill: #1967D2;\n",
              "      height: 32px;\n",
              "      padding: 0 0 0 0;\n",
              "      width: 32px;\n",
              "    }\n",
              "\n",
              "    .colab-df-convert:hover {\n",
              "      background-color: #E2EBFA;\n",
              "      box-shadow: 0px 1px 2px rgba(60, 64, 67, 0.3), 0px 1px 3px 1px rgba(60, 64, 67, 0.15);\n",
              "      fill: #174EA6;\n",
              "    }\n",
              "\n",
              "    .colab-df-buttons div {\n",
              "      margin-bottom: 4px;\n",
              "    }\n",
              "\n",
              "    [theme=dark] .colab-df-convert {\n",
              "      background-color: #3B4455;\n",
              "      fill: #D2E3FC;\n",
              "    }\n",
              "\n",
              "    [theme=dark] .colab-df-convert:hover {\n",
              "      background-color: #434B5C;\n",
              "      box-shadow: 0px 1px 3px 1px rgba(0, 0, 0, 0.15);\n",
              "      filter: drop-shadow(0px 1px 2px rgba(0, 0, 0, 0.3));\n",
              "      fill: #FFFFFF;\n",
              "    }\n",
              "  </style>\n",
              "\n",
              "    <script>\n",
              "      const buttonEl =\n",
              "        document.querySelector('#df-5091931e-0232-4fd6-ad9a-d35a62e8988d button.colab-df-convert');\n",
              "      buttonEl.style.display =\n",
              "        google.colab.kernel.accessAllowed ? 'block' : 'none';\n",
              "\n",
              "      async function convertToInteractive(key) {\n",
              "        const element = document.querySelector('#df-5091931e-0232-4fd6-ad9a-d35a62e8988d');\n",
              "        const dataTable =\n",
              "          await google.colab.kernel.invokeFunction('convertToInteractive',\n",
              "                                                    [key], {});\n",
              "        if (!dataTable) return;\n",
              "\n",
              "        const docLinkHtml = 'Like what you see? Visit the ' +\n",
              "          '<a target=\"_blank\" href=https://colab.research.google.com/notebooks/data_table.ipynb>data table notebook</a>'\n",
              "          + ' to learn more about interactive tables.';\n",
              "        element.innerHTML = '';\n",
              "        dataTable['output_type'] = 'display_data';\n",
              "        await google.colab.output.renderOutput(dataTable, element);\n",
              "        const docLink = document.createElement('div');\n",
              "        docLink.innerHTML = docLinkHtml;\n",
              "        element.appendChild(docLink);\n",
              "      }\n",
              "    </script>\n",
              "  </div>\n",
              "\n",
              "\n",
              "<div id=\"df-898d79cc-7db9-4091-bc5b-9c703e908686\">\n",
              "  <button class=\"colab-df-quickchart\" onclick=\"quickchart('df-898d79cc-7db9-4091-bc5b-9c703e908686')\"\n",
              "            title=\"Suggest charts\"\n",
              "            style=\"display:none;\">\n",
              "\n",
              "<svg xmlns=\"http://www.w3.org/2000/svg\" height=\"24px\"viewBox=\"0 0 24 24\"\n",
              "     width=\"24px\">\n",
              "    <g>\n",
              "        <path d=\"M19 3H5c-1.1 0-2 .9-2 2v14c0 1.1.9 2 2 2h14c1.1 0 2-.9 2-2V5c0-1.1-.9-2-2-2zM9 17H7v-7h2v7zm4 0h-2V7h2v10zm4 0h-2v-4h2v4z\"/>\n",
              "    </g>\n",
              "</svg>\n",
              "  </button>\n",
              "\n",
              "<style>\n",
              "  .colab-df-quickchart {\n",
              "      --bg-color: #E8F0FE;\n",
              "      --fill-color: #1967D2;\n",
              "      --hover-bg-color: #E2EBFA;\n",
              "      --hover-fill-color: #174EA6;\n",
              "      --disabled-fill-color: #AAA;\n",
              "      --disabled-bg-color: #DDD;\n",
              "  }\n",
              "\n",
              "  [theme=dark] .colab-df-quickchart {\n",
              "      --bg-color: #3B4455;\n",
              "      --fill-color: #D2E3FC;\n",
              "      --hover-bg-color: #434B5C;\n",
              "      --hover-fill-color: #FFFFFF;\n",
              "      --disabled-bg-color: #3B4455;\n",
              "      --disabled-fill-color: #666;\n",
              "  }\n",
              "\n",
              "  .colab-df-quickchart {\n",
              "    background-color: var(--bg-color);\n",
              "    border: none;\n",
              "    border-radius: 50%;\n",
              "    cursor: pointer;\n",
              "    display: none;\n",
              "    fill: var(--fill-color);\n",
              "    height: 32px;\n",
              "    padding: 0;\n",
              "    width: 32px;\n",
              "  }\n",
              "\n",
              "  .colab-df-quickchart:hover {\n",
              "    background-color: var(--hover-bg-color);\n",
              "    box-shadow: 0 1px 2px rgba(60, 64, 67, 0.3), 0 1px 3px 1px rgba(60, 64, 67, 0.15);\n",
              "    fill: var(--button-hover-fill-color);\n",
              "  }\n",
              "\n",
              "  .colab-df-quickchart-complete:disabled,\n",
              "  .colab-df-quickchart-complete:disabled:hover {\n",
              "    background-color: var(--disabled-bg-color);\n",
              "    fill: var(--disabled-fill-color);\n",
              "    box-shadow: none;\n",
              "  }\n",
              "\n",
              "  .colab-df-spinner {\n",
              "    border: 2px solid var(--fill-color);\n",
              "    border-color: transparent;\n",
              "    border-bottom-color: var(--fill-color);\n",
              "    animation:\n",
              "      spin 1s steps(1) infinite;\n",
              "  }\n",
              "\n",
              "  @keyframes spin {\n",
              "    0% {\n",
              "      border-color: transparent;\n",
              "      border-bottom-color: var(--fill-color);\n",
              "      border-left-color: var(--fill-color);\n",
              "    }\n",
              "    20% {\n",
              "      border-color: transparent;\n",
              "      border-left-color: var(--fill-color);\n",
              "      border-top-color: var(--fill-color);\n",
              "    }\n",
              "    30% {\n",
              "      border-color: transparent;\n",
              "      border-left-color: var(--fill-color);\n",
              "      border-top-color: var(--fill-color);\n",
              "      border-right-color: var(--fill-color);\n",
              "    }\n",
              "    40% {\n",
              "      border-color: transparent;\n",
              "      border-right-color: var(--fill-color);\n",
              "      border-top-color: var(--fill-color);\n",
              "    }\n",
              "    60% {\n",
              "      border-color: transparent;\n",
              "      border-right-color: var(--fill-color);\n",
              "    }\n",
              "    80% {\n",
              "      border-color: transparent;\n",
              "      border-right-color: var(--fill-color);\n",
              "      border-bottom-color: var(--fill-color);\n",
              "    }\n",
              "    90% {\n",
              "      border-color: transparent;\n",
              "      border-bottom-color: var(--fill-color);\n",
              "    }\n",
              "  }\n",
              "</style>\n",
              "\n",
              "  <script>\n",
              "    async function quickchart(key) {\n",
              "      const quickchartButtonEl =\n",
              "        document.querySelector('#' + key + ' button');\n",
              "      quickchartButtonEl.disabled = true;  // To prevent multiple clicks.\n",
              "      quickchartButtonEl.classList.add('colab-df-spinner');\n",
              "      try {\n",
              "        const charts = await google.colab.kernel.invokeFunction(\n",
              "            'suggestCharts', [key], {});\n",
              "      } catch (error) {\n",
              "        console.error('Error during call to suggestCharts:', error);\n",
              "      }\n",
              "      quickchartButtonEl.classList.remove('colab-df-spinner');\n",
              "      quickchartButtonEl.classList.add('colab-df-quickchart-complete');\n",
              "    }\n",
              "    (() => {\n",
              "      let quickchartButtonEl =\n",
              "        document.querySelector('#df-898d79cc-7db9-4091-bc5b-9c703e908686 button');\n",
              "      quickchartButtonEl.style.display =\n",
              "        google.colab.kernel.accessAllowed ? 'block' : 'none';\n",
              "    })();\n",
              "  </script>\n",
              "</div>\n",
              "    </div>\n",
              "  </div>\n"
            ],
            "application/vnd.google.colaboratory.intrinsic+json": {
              "type": "dataframe",
              "variable_name": "df"
            }
          },
          "metadata": {},
          "execution_count": 3
        }
      ]
    },
    {
      "cell_type": "code",
      "source": [
        "# Check for null data\n",
        "df.isnull().sum()"
      ],
      "metadata": {
        "colab": {
          "base_uri": "https://localhost:8080/"
        },
        "id": "sOBs2LBh_HKN",
        "outputId": "e92b4b6e-6034-41d5-b7b1-2104b9923964"
      },
      "execution_count": 4,
      "outputs": [
        {
          "output_type": "execute_result",
          "data": {
            "text/plain": [
              "ID                      0\n",
              "Year_Birth              0\n",
              "Education               0\n",
              "Marital_Status          0\n",
              "Income                 24\n",
              "Kidhome                 0\n",
              "Teenhome                0\n",
              "Dt_Customer             0\n",
              "Recency                 0\n",
              "MntWines                0\n",
              "MntFruits               0\n",
              "MntMeatProducts         0\n",
              "MntFishProducts         0\n",
              "MntSweetProducts        0\n",
              "MntGoldProds            0\n",
              "NumDealsPurchases       0\n",
              "NumWebPurchases         0\n",
              "NumCatalogPurchases     0\n",
              "NumStorePurchases       0\n",
              "NumWebVisitsMonth       0\n",
              "AcceptedCmp3            0\n",
              "AcceptedCmp4            0\n",
              "AcceptedCmp5            0\n",
              "AcceptedCmp1            0\n",
              "AcceptedCmp2            0\n",
              "Response_actual         0\n",
              "Complain                0\n",
              "dtype: int64"
            ]
          },
          "metadata": {},
          "execution_count": 4
        }
      ]
    },
    {
      "cell_type": "code",
      "source": [
        "# Fill the null values with mean for Income column\n",
        "df['Income'] = df['Income'].fillna(df['Income'].mean())"
      ],
      "metadata": {
        "id": "EAryv3oG_NPq"
      },
      "execution_count": 5,
      "outputs": []
    },
    {
      "cell_type": "code",
      "source": [
        "# Create age variable from year of birth\n",
        "df['Age'] = 2024 - df['Year_Birth']  # Assuming current year is 2024"
      ],
      "metadata": {
        "id": "o0bN7QGHMvzJ"
      },
      "execution_count": 6,
      "outputs": []
    },
    {
      "cell_type": "code",
      "source": [
        "# Verify null values again\n",
        "df.isnull().sum()"
      ],
      "metadata": {
        "colab": {
          "base_uri": "https://localhost:8080/"
        },
        "id": "rV8mgJ3b_Xm3",
        "outputId": "87e0c827-0c52-441a-9983-677f4daa23e2"
      },
      "execution_count": 7,
      "outputs": [
        {
          "output_type": "execute_result",
          "data": {
            "text/plain": [
              "ID                     0\n",
              "Year_Birth             0\n",
              "Education              0\n",
              "Marital_Status         0\n",
              "Income                 0\n",
              "Kidhome                0\n",
              "Teenhome               0\n",
              "Dt_Customer            0\n",
              "Recency                0\n",
              "MntWines               0\n",
              "MntFruits              0\n",
              "MntMeatProducts        0\n",
              "MntFishProducts        0\n",
              "MntSweetProducts       0\n",
              "MntGoldProds           0\n",
              "NumDealsPurchases      0\n",
              "NumWebPurchases        0\n",
              "NumCatalogPurchases    0\n",
              "NumStorePurchases      0\n",
              "NumWebVisitsMonth      0\n",
              "AcceptedCmp3           0\n",
              "AcceptedCmp4           0\n",
              "AcceptedCmp5           0\n",
              "AcceptedCmp1           0\n",
              "AcceptedCmp2           0\n",
              "Response_actual        0\n",
              "Complain               0\n",
              "Age                    0\n",
              "dtype: int64"
            ]
          },
          "metadata": {},
          "execution_count": 7
        }
      ]
    },
    {
      "cell_type": "code",
      "source": [
        "# Percentage of people educated by category\n",
        "x=df.Education.value_counts()\n",
        "fig=px.pie(df,values=x,names=x.index,title='Education')\n",
        "fig.show()"
      ],
      "metadata": {
        "colab": {
          "base_uri": "https://localhost:8080/",
          "height": 542
        },
        "id": "ywy5X__E_aEq",
        "outputId": "2faf1d68-609d-4cd1-cdb0-38c85f791657"
      },
      "execution_count": 8,
      "outputs": [
        {
          "output_type": "display_data",
          "data": {
            "text/html": [
              "<html>\n",
              "<head><meta charset=\"utf-8\" /></head>\n",
              "<body>\n",
              "    <div>            <script src=\"https://cdnjs.cloudflare.com/ajax/libs/mathjax/2.7.5/MathJax.js?config=TeX-AMS-MML_SVG\"></script><script type=\"text/javascript\">if (window.MathJax && window.MathJax.Hub && window.MathJax.Hub.Config) {window.MathJax.Hub.Config({SVG: {font: \"STIX-Web\"}});}</script>                <script type=\"text/javascript\">window.PlotlyConfig = {MathJaxConfig: 'local'};</script>\n",
              "        <script charset=\"utf-8\" src=\"https://cdn.plot.ly/plotly-2.24.1.min.js\"></script>                <div id=\"0468ae3e-965c-48ae-b38f-c7dcc86d4abf\" class=\"plotly-graph-div\" style=\"height:525px; width:100%;\"></div>            <script type=\"text/javascript\">                                    window.PLOTLYENV=window.PLOTLYENV || {};                                    if (document.getElementById(\"0468ae3e-965c-48ae-b38f-c7dcc86d4abf\")) {                    Plotly.newPlot(                        \"0468ae3e-965c-48ae-b38f-c7dcc86d4abf\",                        [{\"domain\":{\"x\":[0.0,1.0],\"y\":[0.0,1.0]},\"hovertemplate\":\"label=%{label}\\u003cbr\\u003evalue=%{value}\\u003cextra\\u003e\\u003c\\u002fextra\\u003e\",\"labels\":[\"Graduation\",\"PhD\",\"Master\",\"2n Cycle\",\"Basic\"],\"legendgroup\":\"\",\"name\":\"\",\"showlegend\":true,\"values\":[1127,486,370,203,54],\"type\":\"pie\"}],                        {\"template\":{\"data\":{\"histogram2dcontour\":[{\"type\":\"histogram2dcontour\",\"colorbar\":{\"outlinewidth\":0,\"ticks\":\"\"},\"colorscale\":[[0.0,\"#0d0887\"],[0.1111111111111111,\"#46039f\"],[0.2222222222222222,\"#7201a8\"],[0.3333333333333333,\"#9c179e\"],[0.4444444444444444,\"#bd3786\"],[0.5555555555555556,\"#d8576b\"],[0.6666666666666666,\"#ed7953\"],[0.7777777777777778,\"#fb9f3a\"],[0.8888888888888888,\"#fdca26\"],[1.0,\"#f0f921\"]]}],\"choropleth\":[{\"type\":\"choropleth\",\"colorbar\":{\"outlinewidth\":0,\"ticks\":\"\"}}],\"histogram2d\":[{\"type\":\"histogram2d\",\"colorbar\":{\"outlinewidth\":0,\"ticks\":\"\"},\"colorscale\":[[0.0,\"#0d0887\"],[0.1111111111111111,\"#46039f\"],[0.2222222222222222,\"#7201a8\"],[0.3333333333333333,\"#9c179e\"],[0.4444444444444444,\"#bd3786\"],[0.5555555555555556,\"#d8576b\"],[0.6666666666666666,\"#ed7953\"],[0.7777777777777778,\"#fb9f3a\"],[0.8888888888888888,\"#fdca26\"],[1.0,\"#f0f921\"]]}],\"heatmap\":[{\"type\":\"heatmap\",\"colorbar\":{\"outlinewidth\":0,\"ticks\":\"\"},\"colorscale\":[[0.0,\"#0d0887\"],[0.1111111111111111,\"#46039f\"],[0.2222222222222222,\"#7201a8\"],[0.3333333333333333,\"#9c179e\"],[0.4444444444444444,\"#bd3786\"],[0.5555555555555556,\"#d8576b\"],[0.6666666666666666,\"#ed7953\"],[0.7777777777777778,\"#fb9f3a\"],[0.8888888888888888,\"#fdca26\"],[1.0,\"#f0f921\"]]}],\"heatmapgl\":[{\"type\":\"heatmapgl\",\"colorbar\":{\"outlinewidth\":0,\"ticks\":\"\"},\"colorscale\":[[0.0,\"#0d0887\"],[0.1111111111111111,\"#46039f\"],[0.2222222222222222,\"#7201a8\"],[0.3333333333333333,\"#9c179e\"],[0.4444444444444444,\"#bd3786\"],[0.5555555555555556,\"#d8576b\"],[0.6666666666666666,\"#ed7953\"],[0.7777777777777778,\"#fb9f3a\"],[0.8888888888888888,\"#fdca26\"],[1.0,\"#f0f921\"]]}],\"contourcarpet\":[{\"type\":\"contourcarpet\",\"colorbar\":{\"outlinewidth\":0,\"ticks\":\"\"}}],\"contour\":[{\"type\":\"contour\",\"colorbar\":{\"outlinewidth\":0,\"ticks\":\"\"},\"colorscale\":[[0.0,\"#0d0887\"],[0.1111111111111111,\"#46039f\"],[0.2222222222222222,\"#7201a8\"],[0.3333333333333333,\"#9c179e\"],[0.4444444444444444,\"#bd3786\"],[0.5555555555555556,\"#d8576b\"],[0.6666666666666666,\"#ed7953\"],[0.7777777777777778,\"#fb9f3a\"],[0.8888888888888888,\"#fdca26\"],[1.0,\"#f0f921\"]]}],\"surface\":[{\"type\":\"surface\",\"colorbar\":{\"outlinewidth\":0,\"ticks\":\"\"},\"colorscale\":[[0.0,\"#0d0887\"],[0.1111111111111111,\"#46039f\"],[0.2222222222222222,\"#7201a8\"],[0.3333333333333333,\"#9c179e\"],[0.4444444444444444,\"#bd3786\"],[0.5555555555555556,\"#d8576b\"],[0.6666666666666666,\"#ed7953\"],[0.7777777777777778,\"#fb9f3a\"],[0.8888888888888888,\"#fdca26\"],[1.0,\"#f0f921\"]]}],\"mesh3d\":[{\"type\":\"mesh3d\",\"colorbar\":{\"outlinewidth\":0,\"ticks\":\"\"}}],\"scatter\":[{\"fillpattern\":{\"fillmode\":\"overlay\",\"size\":10,\"solidity\":0.2},\"type\":\"scatter\"}],\"parcoords\":[{\"type\":\"parcoords\",\"line\":{\"colorbar\":{\"outlinewidth\":0,\"ticks\":\"\"}}}],\"scatterpolargl\":[{\"type\":\"scatterpolargl\",\"marker\":{\"colorbar\":{\"outlinewidth\":0,\"ticks\":\"\"}}}],\"bar\":[{\"error_x\":{\"color\":\"#2a3f5f\"},\"error_y\":{\"color\":\"#2a3f5f\"},\"marker\":{\"line\":{\"color\":\"#E5ECF6\",\"width\":0.5},\"pattern\":{\"fillmode\":\"overlay\",\"size\":10,\"solidity\":0.2}},\"type\":\"bar\"}],\"scattergeo\":[{\"type\":\"scattergeo\",\"marker\":{\"colorbar\":{\"outlinewidth\":0,\"ticks\":\"\"}}}],\"scatterpolar\":[{\"type\":\"scatterpolar\",\"marker\":{\"colorbar\":{\"outlinewidth\":0,\"ticks\":\"\"}}}],\"histogram\":[{\"marker\":{\"pattern\":{\"fillmode\":\"overlay\",\"size\":10,\"solidity\":0.2}},\"type\":\"histogram\"}],\"scattergl\":[{\"type\":\"scattergl\",\"marker\":{\"colorbar\":{\"outlinewidth\":0,\"ticks\":\"\"}}}],\"scatter3d\":[{\"type\":\"scatter3d\",\"line\":{\"colorbar\":{\"outlinewidth\":0,\"ticks\":\"\"}},\"marker\":{\"colorbar\":{\"outlinewidth\":0,\"ticks\":\"\"}}}],\"scattermapbox\":[{\"type\":\"scattermapbox\",\"marker\":{\"colorbar\":{\"outlinewidth\":0,\"ticks\":\"\"}}}],\"scatterternary\":[{\"type\":\"scatterternary\",\"marker\":{\"colorbar\":{\"outlinewidth\":0,\"ticks\":\"\"}}}],\"scattercarpet\":[{\"type\":\"scattercarpet\",\"marker\":{\"colorbar\":{\"outlinewidth\":0,\"ticks\":\"\"}}}],\"carpet\":[{\"aaxis\":{\"endlinecolor\":\"#2a3f5f\",\"gridcolor\":\"white\",\"linecolor\":\"white\",\"minorgridcolor\":\"white\",\"startlinecolor\":\"#2a3f5f\"},\"baxis\":{\"endlinecolor\":\"#2a3f5f\",\"gridcolor\":\"white\",\"linecolor\":\"white\",\"minorgridcolor\":\"white\",\"startlinecolor\":\"#2a3f5f\"},\"type\":\"carpet\"}],\"table\":[{\"cells\":{\"fill\":{\"color\":\"#EBF0F8\"},\"line\":{\"color\":\"white\"}},\"header\":{\"fill\":{\"color\":\"#C8D4E3\"},\"line\":{\"color\":\"white\"}},\"type\":\"table\"}],\"barpolar\":[{\"marker\":{\"line\":{\"color\":\"#E5ECF6\",\"width\":0.5},\"pattern\":{\"fillmode\":\"overlay\",\"size\":10,\"solidity\":0.2}},\"type\":\"barpolar\"}],\"pie\":[{\"automargin\":true,\"type\":\"pie\"}]},\"layout\":{\"autotypenumbers\":\"strict\",\"colorway\":[\"#636efa\",\"#EF553B\",\"#00cc96\",\"#ab63fa\",\"#FFA15A\",\"#19d3f3\",\"#FF6692\",\"#B6E880\",\"#FF97FF\",\"#FECB52\"],\"font\":{\"color\":\"#2a3f5f\"},\"hovermode\":\"closest\",\"hoverlabel\":{\"align\":\"left\"},\"paper_bgcolor\":\"white\",\"plot_bgcolor\":\"#E5ECF6\",\"polar\":{\"bgcolor\":\"#E5ECF6\",\"angularaxis\":{\"gridcolor\":\"white\",\"linecolor\":\"white\",\"ticks\":\"\"},\"radialaxis\":{\"gridcolor\":\"white\",\"linecolor\":\"white\",\"ticks\":\"\"}},\"ternary\":{\"bgcolor\":\"#E5ECF6\",\"aaxis\":{\"gridcolor\":\"white\",\"linecolor\":\"white\",\"ticks\":\"\"},\"baxis\":{\"gridcolor\":\"white\",\"linecolor\":\"white\",\"ticks\":\"\"},\"caxis\":{\"gridcolor\":\"white\",\"linecolor\":\"white\",\"ticks\":\"\"}},\"coloraxis\":{\"colorbar\":{\"outlinewidth\":0,\"ticks\":\"\"}},\"colorscale\":{\"sequential\":[[0.0,\"#0d0887\"],[0.1111111111111111,\"#46039f\"],[0.2222222222222222,\"#7201a8\"],[0.3333333333333333,\"#9c179e\"],[0.4444444444444444,\"#bd3786\"],[0.5555555555555556,\"#d8576b\"],[0.6666666666666666,\"#ed7953\"],[0.7777777777777778,\"#fb9f3a\"],[0.8888888888888888,\"#fdca26\"],[1.0,\"#f0f921\"]],\"sequentialminus\":[[0.0,\"#0d0887\"],[0.1111111111111111,\"#46039f\"],[0.2222222222222222,\"#7201a8\"],[0.3333333333333333,\"#9c179e\"],[0.4444444444444444,\"#bd3786\"],[0.5555555555555556,\"#d8576b\"],[0.6666666666666666,\"#ed7953\"],[0.7777777777777778,\"#fb9f3a\"],[0.8888888888888888,\"#fdca26\"],[1.0,\"#f0f921\"]],\"diverging\":[[0,\"#8e0152\"],[0.1,\"#c51b7d\"],[0.2,\"#de77ae\"],[0.3,\"#f1b6da\"],[0.4,\"#fde0ef\"],[0.5,\"#f7f7f7\"],[0.6,\"#e6f5d0\"],[0.7,\"#b8e186\"],[0.8,\"#7fbc41\"],[0.9,\"#4d9221\"],[1,\"#276419\"]]},\"xaxis\":{\"gridcolor\":\"white\",\"linecolor\":\"white\",\"ticks\":\"\",\"title\":{\"standoff\":15},\"zerolinecolor\":\"white\",\"automargin\":true,\"zerolinewidth\":2},\"yaxis\":{\"gridcolor\":\"white\",\"linecolor\":\"white\",\"ticks\":\"\",\"title\":{\"standoff\":15},\"zerolinecolor\":\"white\",\"automargin\":true,\"zerolinewidth\":2},\"scene\":{\"xaxis\":{\"backgroundcolor\":\"#E5ECF6\",\"gridcolor\":\"white\",\"linecolor\":\"white\",\"showbackground\":true,\"ticks\":\"\",\"zerolinecolor\":\"white\",\"gridwidth\":2},\"yaxis\":{\"backgroundcolor\":\"#E5ECF6\",\"gridcolor\":\"white\",\"linecolor\":\"white\",\"showbackground\":true,\"ticks\":\"\",\"zerolinecolor\":\"white\",\"gridwidth\":2},\"zaxis\":{\"backgroundcolor\":\"#E5ECF6\",\"gridcolor\":\"white\",\"linecolor\":\"white\",\"showbackground\":true,\"ticks\":\"\",\"zerolinecolor\":\"white\",\"gridwidth\":2}},\"shapedefaults\":{\"line\":{\"color\":\"#2a3f5f\"}},\"annotationdefaults\":{\"arrowcolor\":\"#2a3f5f\",\"arrowhead\":0,\"arrowwidth\":1},\"geo\":{\"bgcolor\":\"white\",\"landcolor\":\"#E5ECF6\",\"subunitcolor\":\"white\",\"showland\":true,\"showlakes\":true,\"lakecolor\":\"white\"},\"title\":{\"x\":0.05},\"mapbox\":{\"style\":\"light\"}}},\"legend\":{\"tracegroupgap\":0},\"title\":{\"text\":\"Education\"}},                        {\"responsive\": true}                    ).then(function(){\n",
              "                            \n",
              "var gd = document.getElementById('0468ae3e-965c-48ae-b38f-c7dcc86d4abf');\n",
              "var x = new MutationObserver(function (mutations, observer) {{\n",
              "        var display = window.getComputedStyle(gd).display;\n",
              "        if (!display || display === 'none') {{\n",
              "            console.log([gd, 'removed!']);\n",
              "            Plotly.purge(gd);\n",
              "            observer.disconnect();\n",
              "        }}\n",
              "}});\n",
              "\n",
              "// Listen for the removal of the full notebook cells\n",
              "var notebookContainer = gd.closest('#notebook-container');\n",
              "if (notebookContainer) {{\n",
              "    x.observe(notebookContainer, {childList: true});\n",
              "}}\n",
              "\n",
              "// Listen for the clearing of the current output cell\n",
              "var outputEl = gd.closest('.output');\n",
              "if (outputEl) {{\n",
              "    x.observe(outputEl, {childList: true});\n",
              "}}\n",
              "\n",
              "                        })                };                            </script>        </div>\n",
              "</body>\n",
              "</html>"
            ]
          },
          "metadata": {}
        }
      ]
    },
    {
      "cell_type": "code",
      "source": [
        "# Relationship status\n",
        "x=df.Marital_Status.value_counts()\n",
        "fig=px.pie(df,values=x,names=x.index,title='Martial Status')\n",
        "fig.show()"
      ],
      "metadata": {
        "colab": {
          "base_uri": "https://localhost:8080/",
          "height": 542
        },
        "id": "ffNOxJN-AmrC",
        "outputId": "1255bf5e-0400-47a7-cffb-32d51db16e7f"
      },
      "execution_count": 9,
      "outputs": [
        {
          "output_type": "display_data",
          "data": {
            "text/html": [
              "<html>\n",
              "<head><meta charset=\"utf-8\" /></head>\n",
              "<body>\n",
              "    <div>            <script src=\"https://cdnjs.cloudflare.com/ajax/libs/mathjax/2.7.5/MathJax.js?config=TeX-AMS-MML_SVG\"></script><script type=\"text/javascript\">if (window.MathJax && window.MathJax.Hub && window.MathJax.Hub.Config) {window.MathJax.Hub.Config({SVG: {font: \"STIX-Web\"}});}</script>                <script type=\"text/javascript\">window.PlotlyConfig = {MathJaxConfig: 'local'};</script>\n",
              "        <script charset=\"utf-8\" src=\"https://cdn.plot.ly/plotly-2.24.1.min.js\"></script>                <div id=\"b2c1b3c8-3c99-4bcb-9447-e80da4039cd1\" class=\"plotly-graph-div\" style=\"height:525px; width:100%;\"></div>            <script type=\"text/javascript\">                                    window.PLOTLYENV=window.PLOTLYENV || {};                                    if (document.getElementById(\"b2c1b3c8-3c99-4bcb-9447-e80da4039cd1\")) {                    Plotly.newPlot(                        \"b2c1b3c8-3c99-4bcb-9447-e80da4039cd1\",                        [{\"domain\":{\"x\":[0.0,1.0],\"y\":[0.0,1.0]},\"hovertemplate\":\"label=%{label}\\u003cbr\\u003evalue=%{value}\\u003cextra\\u003e\\u003c\\u002fextra\\u003e\",\"labels\":[\"Married\",\"Together\",\"Single\",\"Divorced\",\"Widow\",\"Alone\",\"Absurd\",\"YOLO\"],\"legendgroup\":\"\",\"name\":\"\",\"showlegend\":true,\"values\":[864,580,480,232,77,3,2,2],\"type\":\"pie\"}],                        {\"template\":{\"data\":{\"histogram2dcontour\":[{\"type\":\"histogram2dcontour\",\"colorbar\":{\"outlinewidth\":0,\"ticks\":\"\"},\"colorscale\":[[0.0,\"#0d0887\"],[0.1111111111111111,\"#46039f\"],[0.2222222222222222,\"#7201a8\"],[0.3333333333333333,\"#9c179e\"],[0.4444444444444444,\"#bd3786\"],[0.5555555555555556,\"#d8576b\"],[0.6666666666666666,\"#ed7953\"],[0.7777777777777778,\"#fb9f3a\"],[0.8888888888888888,\"#fdca26\"],[1.0,\"#f0f921\"]]}],\"choropleth\":[{\"type\":\"choropleth\",\"colorbar\":{\"outlinewidth\":0,\"ticks\":\"\"}}],\"histogram2d\":[{\"type\":\"histogram2d\",\"colorbar\":{\"outlinewidth\":0,\"ticks\":\"\"},\"colorscale\":[[0.0,\"#0d0887\"],[0.1111111111111111,\"#46039f\"],[0.2222222222222222,\"#7201a8\"],[0.3333333333333333,\"#9c179e\"],[0.4444444444444444,\"#bd3786\"],[0.5555555555555556,\"#d8576b\"],[0.6666666666666666,\"#ed7953\"],[0.7777777777777778,\"#fb9f3a\"],[0.8888888888888888,\"#fdca26\"],[1.0,\"#f0f921\"]]}],\"heatmap\":[{\"type\":\"heatmap\",\"colorbar\":{\"outlinewidth\":0,\"ticks\":\"\"},\"colorscale\":[[0.0,\"#0d0887\"],[0.1111111111111111,\"#46039f\"],[0.2222222222222222,\"#7201a8\"],[0.3333333333333333,\"#9c179e\"],[0.4444444444444444,\"#bd3786\"],[0.5555555555555556,\"#d8576b\"],[0.6666666666666666,\"#ed7953\"],[0.7777777777777778,\"#fb9f3a\"],[0.8888888888888888,\"#fdca26\"],[1.0,\"#f0f921\"]]}],\"heatmapgl\":[{\"type\":\"heatmapgl\",\"colorbar\":{\"outlinewidth\":0,\"ticks\":\"\"},\"colorscale\":[[0.0,\"#0d0887\"],[0.1111111111111111,\"#46039f\"],[0.2222222222222222,\"#7201a8\"],[0.3333333333333333,\"#9c179e\"],[0.4444444444444444,\"#bd3786\"],[0.5555555555555556,\"#d8576b\"],[0.6666666666666666,\"#ed7953\"],[0.7777777777777778,\"#fb9f3a\"],[0.8888888888888888,\"#fdca26\"],[1.0,\"#f0f921\"]]}],\"contourcarpet\":[{\"type\":\"contourcarpet\",\"colorbar\":{\"outlinewidth\":0,\"ticks\":\"\"}}],\"contour\":[{\"type\":\"contour\",\"colorbar\":{\"outlinewidth\":0,\"ticks\":\"\"},\"colorscale\":[[0.0,\"#0d0887\"],[0.1111111111111111,\"#46039f\"],[0.2222222222222222,\"#7201a8\"],[0.3333333333333333,\"#9c179e\"],[0.4444444444444444,\"#bd3786\"],[0.5555555555555556,\"#d8576b\"],[0.6666666666666666,\"#ed7953\"],[0.7777777777777778,\"#fb9f3a\"],[0.8888888888888888,\"#fdca26\"],[1.0,\"#f0f921\"]]}],\"surface\":[{\"type\":\"surface\",\"colorbar\":{\"outlinewidth\":0,\"ticks\":\"\"},\"colorscale\":[[0.0,\"#0d0887\"],[0.1111111111111111,\"#46039f\"],[0.2222222222222222,\"#7201a8\"],[0.3333333333333333,\"#9c179e\"],[0.4444444444444444,\"#bd3786\"],[0.5555555555555556,\"#d8576b\"],[0.6666666666666666,\"#ed7953\"],[0.7777777777777778,\"#fb9f3a\"],[0.8888888888888888,\"#fdca26\"],[1.0,\"#f0f921\"]]}],\"mesh3d\":[{\"type\":\"mesh3d\",\"colorbar\":{\"outlinewidth\":0,\"ticks\":\"\"}}],\"scatter\":[{\"fillpattern\":{\"fillmode\":\"overlay\",\"size\":10,\"solidity\":0.2},\"type\":\"scatter\"}],\"parcoords\":[{\"type\":\"parcoords\",\"line\":{\"colorbar\":{\"outlinewidth\":0,\"ticks\":\"\"}}}],\"scatterpolargl\":[{\"type\":\"scatterpolargl\",\"marker\":{\"colorbar\":{\"outlinewidth\":0,\"ticks\":\"\"}}}],\"bar\":[{\"error_x\":{\"color\":\"#2a3f5f\"},\"error_y\":{\"color\":\"#2a3f5f\"},\"marker\":{\"line\":{\"color\":\"#E5ECF6\",\"width\":0.5},\"pattern\":{\"fillmode\":\"overlay\",\"size\":10,\"solidity\":0.2}},\"type\":\"bar\"}],\"scattergeo\":[{\"type\":\"scattergeo\",\"marker\":{\"colorbar\":{\"outlinewidth\":0,\"ticks\":\"\"}}}],\"scatterpolar\":[{\"type\":\"scatterpolar\",\"marker\":{\"colorbar\":{\"outlinewidth\":0,\"ticks\":\"\"}}}],\"histogram\":[{\"marker\":{\"pattern\":{\"fillmode\":\"overlay\",\"size\":10,\"solidity\":0.2}},\"type\":\"histogram\"}],\"scattergl\":[{\"type\":\"scattergl\",\"marker\":{\"colorbar\":{\"outlinewidth\":0,\"ticks\":\"\"}}}],\"scatter3d\":[{\"type\":\"scatter3d\",\"line\":{\"colorbar\":{\"outlinewidth\":0,\"ticks\":\"\"}},\"marker\":{\"colorbar\":{\"outlinewidth\":0,\"ticks\":\"\"}}}],\"scattermapbox\":[{\"type\":\"scattermapbox\",\"marker\":{\"colorbar\":{\"outlinewidth\":0,\"ticks\":\"\"}}}],\"scatterternary\":[{\"type\":\"scatterternary\",\"marker\":{\"colorbar\":{\"outlinewidth\":0,\"ticks\":\"\"}}}],\"scattercarpet\":[{\"type\":\"scattercarpet\",\"marker\":{\"colorbar\":{\"outlinewidth\":0,\"ticks\":\"\"}}}],\"carpet\":[{\"aaxis\":{\"endlinecolor\":\"#2a3f5f\",\"gridcolor\":\"white\",\"linecolor\":\"white\",\"minorgridcolor\":\"white\",\"startlinecolor\":\"#2a3f5f\"},\"baxis\":{\"endlinecolor\":\"#2a3f5f\",\"gridcolor\":\"white\",\"linecolor\":\"white\",\"minorgridcolor\":\"white\",\"startlinecolor\":\"#2a3f5f\"},\"type\":\"carpet\"}],\"table\":[{\"cells\":{\"fill\":{\"color\":\"#EBF0F8\"},\"line\":{\"color\":\"white\"}},\"header\":{\"fill\":{\"color\":\"#C8D4E3\"},\"line\":{\"color\":\"white\"}},\"type\":\"table\"}],\"barpolar\":[{\"marker\":{\"line\":{\"color\":\"#E5ECF6\",\"width\":0.5},\"pattern\":{\"fillmode\":\"overlay\",\"size\":10,\"solidity\":0.2}},\"type\":\"barpolar\"}],\"pie\":[{\"automargin\":true,\"type\":\"pie\"}]},\"layout\":{\"autotypenumbers\":\"strict\",\"colorway\":[\"#636efa\",\"#EF553B\",\"#00cc96\",\"#ab63fa\",\"#FFA15A\",\"#19d3f3\",\"#FF6692\",\"#B6E880\",\"#FF97FF\",\"#FECB52\"],\"font\":{\"color\":\"#2a3f5f\"},\"hovermode\":\"closest\",\"hoverlabel\":{\"align\":\"left\"},\"paper_bgcolor\":\"white\",\"plot_bgcolor\":\"#E5ECF6\",\"polar\":{\"bgcolor\":\"#E5ECF6\",\"angularaxis\":{\"gridcolor\":\"white\",\"linecolor\":\"white\",\"ticks\":\"\"},\"radialaxis\":{\"gridcolor\":\"white\",\"linecolor\":\"white\",\"ticks\":\"\"}},\"ternary\":{\"bgcolor\":\"#E5ECF6\",\"aaxis\":{\"gridcolor\":\"white\",\"linecolor\":\"white\",\"ticks\":\"\"},\"baxis\":{\"gridcolor\":\"white\",\"linecolor\":\"white\",\"ticks\":\"\"},\"caxis\":{\"gridcolor\":\"white\",\"linecolor\":\"white\",\"ticks\":\"\"}},\"coloraxis\":{\"colorbar\":{\"outlinewidth\":0,\"ticks\":\"\"}},\"colorscale\":{\"sequential\":[[0.0,\"#0d0887\"],[0.1111111111111111,\"#46039f\"],[0.2222222222222222,\"#7201a8\"],[0.3333333333333333,\"#9c179e\"],[0.4444444444444444,\"#bd3786\"],[0.5555555555555556,\"#d8576b\"],[0.6666666666666666,\"#ed7953\"],[0.7777777777777778,\"#fb9f3a\"],[0.8888888888888888,\"#fdca26\"],[1.0,\"#f0f921\"]],\"sequentialminus\":[[0.0,\"#0d0887\"],[0.1111111111111111,\"#46039f\"],[0.2222222222222222,\"#7201a8\"],[0.3333333333333333,\"#9c179e\"],[0.4444444444444444,\"#bd3786\"],[0.5555555555555556,\"#d8576b\"],[0.6666666666666666,\"#ed7953\"],[0.7777777777777778,\"#fb9f3a\"],[0.8888888888888888,\"#fdca26\"],[1.0,\"#f0f921\"]],\"diverging\":[[0,\"#8e0152\"],[0.1,\"#c51b7d\"],[0.2,\"#de77ae\"],[0.3,\"#f1b6da\"],[0.4,\"#fde0ef\"],[0.5,\"#f7f7f7\"],[0.6,\"#e6f5d0\"],[0.7,\"#b8e186\"],[0.8,\"#7fbc41\"],[0.9,\"#4d9221\"],[1,\"#276419\"]]},\"xaxis\":{\"gridcolor\":\"white\",\"linecolor\":\"white\",\"ticks\":\"\",\"title\":{\"standoff\":15},\"zerolinecolor\":\"white\",\"automargin\":true,\"zerolinewidth\":2},\"yaxis\":{\"gridcolor\":\"white\",\"linecolor\":\"white\",\"ticks\":\"\",\"title\":{\"standoff\":15},\"zerolinecolor\":\"white\",\"automargin\":true,\"zerolinewidth\":2},\"scene\":{\"xaxis\":{\"backgroundcolor\":\"#E5ECF6\",\"gridcolor\":\"white\",\"linecolor\":\"white\",\"showbackground\":true,\"ticks\":\"\",\"zerolinecolor\":\"white\",\"gridwidth\":2},\"yaxis\":{\"backgroundcolor\":\"#E5ECF6\",\"gridcolor\":\"white\",\"linecolor\":\"white\",\"showbackground\":true,\"ticks\":\"\",\"zerolinecolor\":\"white\",\"gridwidth\":2},\"zaxis\":{\"backgroundcolor\":\"#E5ECF6\",\"gridcolor\":\"white\",\"linecolor\":\"white\",\"showbackground\":true,\"ticks\":\"\",\"zerolinecolor\":\"white\",\"gridwidth\":2}},\"shapedefaults\":{\"line\":{\"color\":\"#2a3f5f\"}},\"annotationdefaults\":{\"arrowcolor\":\"#2a3f5f\",\"arrowhead\":0,\"arrowwidth\":1},\"geo\":{\"bgcolor\":\"white\",\"landcolor\":\"#E5ECF6\",\"subunitcolor\":\"white\",\"showland\":true,\"showlakes\":true,\"lakecolor\":\"white\"},\"title\":{\"x\":0.05},\"mapbox\":{\"style\":\"light\"}}},\"legend\":{\"tracegroupgap\":0},\"title\":{\"text\":\"Martial Status\"}},                        {\"responsive\": true}                    ).then(function(){\n",
              "                            \n",
              "var gd = document.getElementById('b2c1b3c8-3c99-4bcb-9447-e80da4039cd1');\n",
              "var x = new MutationObserver(function (mutations, observer) {{\n",
              "        var display = window.getComputedStyle(gd).display;\n",
              "        if (!display || display === 'none') {{\n",
              "            console.log([gd, 'removed!']);\n",
              "            Plotly.purge(gd);\n",
              "            observer.disconnect();\n",
              "        }}\n",
              "}});\n",
              "\n",
              "// Listen for the removal of the full notebook cells\n",
              "var notebookContainer = gd.closest('#notebook-container');\n",
              "if (notebookContainer) {{\n",
              "    x.observe(notebookContainer, {childList: true});\n",
              "}}\n",
              "\n",
              "// Listen for the clearing of the current output cell\n",
              "var outputEl = gd.closest('.output');\n",
              "if (outputEl) {{\n",
              "    x.observe(outputEl, {childList: true});\n",
              "}}\n",
              "\n",
              "                        })                };                            </script>        </div>\n",
              "</body>\n",
              "</html>"
            ]
          },
          "metadata": {}
        }
      ]
    },
    {
      "cell_type": "code",
      "source": [
        "# Response rate by age group\n",
        "fig = px.histogram(df, x=\"Age\", color=\"Response_actual\")\n",
        "fig.update_layout(title=\"Response Rate by Age Group\")\n",
        "fig.show()"
      ],
      "metadata": {
        "colab": {
          "base_uri": "https://localhost:8080/",
          "height": 542
        },
        "id": "r4XZzWAL7lOF",
        "outputId": "6574a59a-b53f-4177-e8c8-67f9756f0823"
      },
      "execution_count": 10,
      "outputs": [
        {
          "output_type": "display_data",
          "data": {
            "text/html": [
              "<html>\n",
              "<head><meta charset=\"utf-8\" /></head>\n",
              "<body>\n",
              "    <div>            <script src=\"https://cdnjs.cloudflare.com/ajax/libs/mathjax/2.7.5/MathJax.js?config=TeX-AMS-MML_SVG\"></script><script type=\"text/javascript\">if (window.MathJax && window.MathJax.Hub && window.MathJax.Hub.Config) {window.MathJax.Hub.Config({SVG: {font: \"STIX-Web\"}});}</script>                <script type=\"text/javascript\">window.PlotlyConfig = {MathJaxConfig: 'local'};</script>\n",
              "        <script charset=\"utf-8\" src=\"https://cdn.plot.ly/plotly-2.24.1.min.js\"></script>                <div id=\"45d27209-b74a-4b85-b8e7-cb4d2963258c\" class=\"plotly-graph-div\" style=\"height:525px; width:100%;\"></div>            <script type=\"text/javascript\">                                    window.PLOTLYENV=window.PLOTLYENV || {};                                    if (document.getElementById(\"45d27209-b74a-4b85-b8e7-cb4d2963258c\")) {                    Plotly.newPlot(                        \"45d27209-b74a-4b85-b8e7-cb4d2963258c\",                        [{\"alignmentgroup\":\"True\",\"bingroup\":\"x\",\"hovertemplate\":\"Response_actual=0\\u003cbr\\u003eAge=%{x}\\u003cbr\\u003ecount=%{y}\\u003cextra\\u003e\\u003c\\u002fextra\\u003e\",\"legendgroup\":\"0\",\"marker\":{\"color\":\"#636efa\",\"pattern\":{\"shape\":\"\"}},\"name\":\"0\",\"offsetgroup\":\"0\",\"orientation\":\"v\",\"showlegend\":true,\"x\":[67,70,59,40,43,57,53,39,50,41,48,65,72,37,44,78,39,42,45,70,73,55,48,38,35,35,61,72,78,73,54,48,51,44,39,67,65,49,48,28,56,73,70,67,60,47,46,58,36,42,56,49,72,73,76,53,57,66,54,70,51,65,72,47,52,48,39,55,51,61,37,64,57,67,67,51,52,54,41,52,41,64,65,45,79,65,45,60,55,46,64,45,44,62,46,57,55,71,57,39,48,59,40,71,63,68,72,66,55,61,60,48,65,59,32,48,62,50,36,48,49,43,51,58,71,52,36,72,66,46,47,69,66,79,40,49,51,58,36,67,59,42,54,65,49,54,65,48,36,78,40,63,41,54,58,48,60,35,124,36,51,47,44,70,56,46,59,61,58,68,70,56,50,39,47,46,70,44,36,55,54,44,62,46,48,72,52,38,58,53,73,59,49,42,66,51,131,66,53,66,60,71,36,55,49,39,66,57,50,60,60,67,56,54,46,72,58,54,54,71,41,49,64,61,61,68,43,56,43,48,78,50,49,50,72,68,58,75,55,53,59,36,38,42,66,68,46,36,40,58,32,48,57,48,58,68,52,39,73,53,50,59,63,71,67,48,40,74,38,41,35,68,41,64,52,36,38,74,72,59,54,53,67,58,50,48,46,55,81,76,55,46,46,57,55,64,48,62,49,40,49,52,49,35,63,55,55,39,70,51,43,53,64,75,56,45,31,78,56,33,53,40,37,44,68,59,50,64,59,52,53,50,61,42,48,37,62,81,53,51,41,42,71,35,56,35,57,60,54,68,58,75,53,38,35,76,78,35,50,65,52,48,71,69,55,53,44,48,52,72,42,75,66,49,55,54,73,53,49,44,46,36,68,52,47,52,47,51,52,49,64,60,48,50,55,72,66,48,60,62,46,53,75,80,74,63,34,39,68,71,48,35,32,65,45,78,49,63,34,65,59,33,37,38,66,47,60,64,49,55,62,42,73,57,72,43,47,55,40,48,34,60,44,51,61,53,61,75,72,46,54,46,44,53,54,61,74,62,73,45,54,50,56,46,54,43,56,54,58,68,73,57,73,41,53,63,65,40,59,47,52,49,55,55,46,43,63,64,69,76,58,38,51,68,49,55,80,51,57,55,50,59,48,46,64,63,53,46,48,49,64,47,47,54,66,54,51,62,72,62,74,64,76,65,53,54,47,66,39,50,74,69,49,71,66,77,61,39,49,44,68,65,50,37,56,53,60,62,54,44,49,50,45,44,61,57,42,69,57,48,52,42,55,54,66,72,75,63,29,75,63,51,46,56,54,73,38,59,49,71,42,49,46,54,66,59,70,40,59,58,48,59,75,71,46,76,51,72,35,55,71,68,74,46,49,29,52,66,49,45,46,52,60,45,65,43,57,36,72,69,47,37,59,68,45,73,59,52,67,71,59,66,69,53,50,48,54,52,52,38,64,48,79,46,63,70,59,51,56,54,68,73,80,48,53,67,52,43,52,49,69,38,54,48,70,52,46,52,61,65,62,66,40,48,32,57,44,57,68,52,44,44,74,50,36,43,64,33,68,61,44,50,70,45,51,39,58,55,55,37,35,49,51,58,38,46,45,48,43,46,53,41,68,46,49,49,43,52,54,71,65,62,46,59,41,33,52,68,66,50,38,66,54,57,51,55,47,53,50,38,58,32,61,52,70,64,70,31,55,76,45,31,48,50,35,35,72,53,53,53,49,72,62,38,42,45,47,49,45,51,53,48,48,59,72,51,67,57,62,55,49,44,65,51,50,44,36,56,36,65,53,62,59,72,64,59,45,46,50,46,48,68,52,35,70,29,67,68,37,70,71,61,48,46,56,53,73,55,51,48,51,50,71,58,46,57,37,66,60,53,55,47,44,66,52,71,70,33,38,59,58,64,40,75,54,41,39,50,73,72,37,37,60,63,59,68,46,53,58,69,71,66,48,56,46,59,53,68,42,47,54,41,66,50,65,52,59,45,66,38,42,45,45,38,54,52,72,54,59,70,51,40,58,46,56,45,51,45,70,62,58,47,39,72,57,46,50,56,62,35,63,71,35,46,62,79,50,68,70,81,60,45,64,61,48,50,63,73,59,68,30,50,52,56,56,76,55,50,34,45,64,72,43,43,74,67,66,53,39,59,62,50,54,64,72,55,56,59,52,63,47,65,66,67,34,59,69,52,49,59,61,33,61,38,51,66,65,49,69,53,38,46,41,48,53,68,35,72,40,57,77,46,53,32,56,51,52,61,54,69,49,64,72,61,54,76,66,61,58,56,60,49,67,73,73,54,55,53,68,53,51,47,61,70,46,46,53,39,54,58,48,52,64,68,59,69,35,62,59,51,52,40,64,66,50,62,42,49,42,45,55,76,49,42,41,72,42,47,34,42,49,65,41,62,68,31,37,59,62,78,61,53,56,50,74,66,48,51,56,66,49,64,59,55,64,49,54,69,68,66,60,51,52,48,44,45,52,51,52,49,52,68,50,52,56,55,63,52,71,67,54,57,73,71,74,71,47,55,34,45,58,76,52,51,52,52,55,65,54,50,52,66,52,41,51,51,57,63,38,60,41,72,75,45,66,53,42,51,52,59,71,57,59,55,53,52,50,65,46,38,61,71,74,54,54,47,58,66,70,68,54,37,45,64,43,44,48,48,54,52,53,74,46,34,65,47,65,36,49,51,47,51,52,53,66,36,49,59,38,47,44,62,46,52,54,41,53,48,51,51,48,76,66,64,49,49,36,36,35,65,57,35,63,46,71,60,38,37,61,67,49,73,59,68,50,57,48,63,48,41,48,36,70,39,72,70,74,67,70,38,47,64,42,32,48,68,77,74,58,37,72,59,44,62,69,59,57,51,64,53,49,59,64,63,61,47,51,60,36,46,49,47,40,41,37,59,68,53,42,65,61,72,53,61,42,48,77,55,65,46,76,69,70,79,55,48,55,43,45,43,64,50,57,74,42,63,61,47,77,46,70,70,52,66,56,48,58,35,39,57,65,54,73,54,33,49,45,48,44,53,69,41,72,55,44,53,35,73,37,39,43,34,72,53,67,73,48,69,35,51,51,40,59,46,51,46,32,40,68,47,50,45,42,45,69,59,63,73,60,65,66,70,57,53,41,79,77,55,72,77,78,55,50,44,53,45,56,53,69,52,60,45,49,47,38,68,44,42,63,50,78,39,72,57,69,39,47,51,40,45,48,56,65,53,57,51,41,45,45,74,61,48,64,69,47,43,48,73,58,66,58,60,68,58,61,70,41,73,68,63,53,53,56,46,55,59,38,66,49,37,65,62,50,47,46,54,69,70,42,56,67,59,61,34,58,36,49,46,63,40,73,48,52,39,58,49,45,53,56,40,53,57,60,52,76,72,37,65,73,49,40,56,39,40,67,49,36,39,50,75,79,74,60,41,37,53,70,53,38,65,64,53,61,34,43,48,59,47,52,65,47,54,67,59,50,77,42,56,73,49,68,75,65,51,74,47,40,48,73,42,50,56,70,84,48,73,48,60,74,48,74,59,46,72,58,77,52,61,53,49,53,55,61,56,45,40,50,62,49,67,46,33,38,68,53,64,49,44,54,57,54,58,52,47,54,65,58,66,38,43,66,49,41,57,73,52,46,42,68,72,59,45,59,71,39,69,48,49,74,47,73,40,33,54,43,45,53,54,65,54,77,73,65,69,71,59,51,48,74,55,55,43,42,46,50,73,76,72,40,45,75,68,55,37,41,54,47,64,53,70,51,69,64,36,55,32,44,53,50,55,48,74,49,68,48,75,40,52,38,62,75,69,71,50,70,55,43,72,62,53,48,48,44,68,58,59,50,48,75,44,67,59,54,70,58,50,53,56,67,53,64,51,62,66,48,48,41,60,49,59,60,44,67,32,50,70,43,49,73,57,51,69,50,60,46,67,67,52,41,53,77,72,50,49,34,55,51,46,34,56,44,61,61,69,43,74,29,48,70,41,76,46,39,45,45,61,56,45,62,52,54,38,47,50,57,68,70],\"xaxis\":\"x\",\"yaxis\":\"y\",\"type\":\"histogram\"},{\"alignmentgroup\":\"True\",\"bingroup\":\"x\",\"hovertemplate\":\"Response_actual=1\\u003cbr\\u003eAge=%{x}\\u003cbr\\u003ecount=%{y}\\u003cextra\\u003e\\u003c\\u002fextra\\u003e\",\"legendgroup\":\"1\",\"marker\":{\"color\":\"#EF553B\",\"pattern\":{\"shape\":\"\"}},\"name\":\"1\",\"offsetgroup\":\"1\",\"orientation\":\"v\",\"showlegend\":true,\"x\":[74,78,75,75,59,54,81,47,69,42,45,49,48,59,54,67,51,64,73,33,61,33,54,41,57,51,55,75,71,65,57,76,73,46,70,51,72,47,40,36,70,76,62,56,34,52,50,63,45,61,54,38,40,44,72,59,63,77,60,35,54,53,56,59,125,55,51,48,38,69,67,54,58,54,56,45,69,69,49,30,43,50,83,38,35,63,60,58,40,60,61,69,43,50,69,80,43,60,65,80,37,71,47,57,42,56,35,42,65,47,50,69,69,49,59,75,69,64,53,60,77,54,64,58,61,39,35,64,64,46,36,38,76,53,64,48,69,33,51,75,60,72,54,70,55,46,56,46,67,74,62,66,52,44,63,65,70,47,54,67,58,50,35,41,65,71,52,51,81,63,30,42,70,69,38,46,42,73,54,41,71,37,48,51,65,70,74,55,70,43,46,51,68,37,43,70,72,56,45,59,46,53,51,53,65,62,58,59,58,75,66,51,32,63,43,54,66,51,49,64,50,41,64,53,41,41,73,48,39,43,38,50,59,28,67,33,63,72,55,55,45,68,59,67,67,52,55,67,43,69,38,52,62,49,59,72,57,48,55,51,41,42,49,80,52,53,49,46,41,53,52,52,58,78,71,45,59,42,56,47,79,62,46,62,75,48,42,46,32,47,64,39,53,76,52,80,58,39,45,76,78,67,54,74,69,72,55,63,78,69,36,55,69,50,49,37,49,66,53,62,62,60,78,33,77,51,37,36,40,68,69,34,34,59,60,43,43,57,39,38,69,46,56,41,68,38,65,58,48,41,33,62,69,58,61,65,60,75,63,75,49,62,72,60,50,73,50,55,32,42,62,67,71,49,29,53,42,51,47,66,55,55,53,42,35,56,46,70,56,44,54,57,56,68,81,55,40,68,34,62,75,46,58,41,40,73,61,77,66,44,49,51,60,47,75,77,40,42,51,49,81,65,31,75,48,49,50,54,63,43,67,52,38,48,55,51,67,52,55,69,75,34,40,59,54,69,49,53,52,64,52,68,67,67,51,70,70,42,54,46,40,78,43],\"xaxis\":\"x\",\"yaxis\":\"y\",\"type\":\"histogram\"}],                        {\"template\":{\"data\":{\"histogram2dcontour\":[{\"type\":\"histogram2dcontour\",\"colorbar\":{\"outlinewidth\":0,\"ticks\":\"\"},\"colorscale\":[[0.0,\"#0d0887\"],[0.1111111111111111,\"#46039f\"],[0.2222222222222222,\"#7201a8\"],[0.3333333333333333,\"#9c179e\"],[0.4444444444444444,\"#bd3786\"],[0.5555555555555556,\"#d8576b\"],[0.6666666666666666,\"#ed7953\"],[0.7777777777777778,\"#fb9f3a\"],[0.8888888888888888,\"#fdca26\"],[1.0,\"#f0f921\"]]}],\"choropleth\":[{\"type\":\"choropleth\",\"colorbar\":{\"outlinewidth\":0,\"ticks\":\"\"}}],\"histogram2d\":[{\"type\":\"histogram2d\",\"colorbar\":{\"outlinewidth\":0,\"ticks\":\"\"},\"colorscale\":[[0.0,\"#0d0887\"],[0.1111111111111111,\"#46039f\"],[0.2222222222222222,\"#7201a8\"],[0.3333333333333333,\"#9c179e\"],[0.4444444444444444,\"#bd3786\"],[0.5555555555555556,\"#d8576b\"],[0.6666666666666666,\"#ed7953\"],[0.7777777777777778,\"#fb9f3a\"],[0.8888888888888888,\"#fdca26\"],[1.0,\"#f0f921\"]]}],\"heatmap\":[{\"type\":\"heatmap\",\"colorbar\":{\"outlinewidth\":0,\"ticks\":\"\"},\"colorscale\":[[0.0,\"#0d0887\"],[0.1111111111111111,\"#46039f\"],[0.2222222222222222,\"#7201a8\"],[0.3333333333333333,\"#9c179e\"],[0.4444444444444444,\"#bd3786\"],[0.5555555555555556,\"#d8576b\"],[0.6666666666666666,\"#ed7953\"],[0.7777777777777778,\"#fb9f3a\"],[0.8888888888888888,\"#fdca26\"],[1.0,\"#f0f921\"]]}],\"heatmapgl\":[{\"type\":\"heatmapgl\",\"colorbar\":{\"outlinewidth\":0,\"ticks\":\"\"},\"colorscale\":[[0.0,\"#0d0887\"],[0.1111111111111111,\"#46039f\"],[0.2222222222222222,\"#7201a8\"],[0.3333333333333333,\"#9c179e\"],[0.4444444444444444,\"#bd3786\"],[0.5555555555555556,\"#d8576b\"],[0.6666666666666666,\"#ed7953\"],[0.7777777777777778,\"#fb9f3a\"],[0.8888888888888888,\"#fdca26\"],[1.0,\"#f0f921\"]]}],\"contourcarpet\":[{\"type\":\"contourcarpet\",\"colorbar\":{\"outlinewidth\":0,\"ticks\":\"\"}}],\"contour\":[{\"type\":\"contour\",\"colorbar\":{\"outlinewidth\":0,\"ticks\":\"\"},\"colorscale\":[[0.0,\"#0d0887\"],[0.1111111111111111,\"#46039f\"],[0.2222222222222222,\"#7201a8\"],[0.3333333333333333,\"#9c179e\"],[0.4444444444444444,\"#bd3786\"],[0.5555555555555556,\"#d8576b\"],[0.6666666666666666,\"#ed7953\"],[0.7777777777777778,\"#fb9f3a\"],[0.8888888888888888,\"#fdca26\"],[1.0,\"#f0f921\"]]}],\"surface\":[{\"type\":\"surface\",\"colorbar\":{\"outlinewidth\":0,\"ticks\":\"\"},\"colorscale\":[[0.0,\"#0d0887\"],[0.1111111111111111,\"#46039f\"],[0.2222222222222222,\"#7201a8\"],[0.3333333333333333,\"#9c179e\"],[0.4444444444444444,\"#bd3786\"],[0.5555555555555556,\"#d8576b\"],[0.6666666666666666,\"#ed7953\"],[0.7777777777777778,\"#fb9f3a\"],[0.8888888888888888,\"#fdca26\"],[1.0,\"#f0f921\"]]}],\"mesh3d\":[{\"type\":\"mesh3d\",\"colorbar\":{\"outlinewidth\":0,\"ticks\":\"\"}}],\"scatter\":[{\"fillpattern\":{\"fillmode\":\"overlay\",\"size\":10,\"solidity\":0.2},\"type\":\"scatter\"}],\"parcoords\":[{\"type\":\"parcoords\",\"line\":{\"colorbar\":{\"outlinewidth\":0,\"ticks\":\"\"}}}],\"scatterpolargl\":[{\"type\":\"scatterpolargl\",\"marker\":{\"colorbar\":{\"outlinewidth\":0,\"ticks\":\"\"}}}],\"bar\":[{\"error_x\":{\"color\":\"#2a3f5f\"},\"error_y\":{\"color\":\"#2a3f5f\"},\"marker\":{\"line\":{\"color\":\"#E5ECF6\",\"width\":0.5},\"pattern\":{\"fillmode\":\"overlay\",\"size\":10,\"solidity\":0.2}},\"type\":\"bar\"}],\"scattergeo\":[{\"type\":\"scattergeo\",\"marker\":{\"colorbar\":{\"outlinewidth\":0,\"ticks\":\"\"}}}],\"scatterpolar\":[{\"type\":\"scatterpolar\",\"marker\":{\"colorbar\":{\"outlinewidth\":0,\"ticks\":\"\"}}}],\"histogram\":[{\"marker\":{\"pattern\":{\"fillmode\":\"overlay\",\"size\":10,\"solidity\":0.2}},\"type\":\"histogram\"}],\"scattergl\":[{\"type\":\"scattergl\",\"marker\":{\"colorbar\":{\"outlinewidth\":0,\"ticks\":\"\"}}}],\"scatter3d\":[{\"type\":\"scatter3d\",\"line\":{\"colorbar\":{\"outlinewidth\":0,\"ticks\":\"\"}},\"marker\":{\"colorbar\":{\"outlinewidth\":0,\"ticks\":\"\"}}}],\"scattermapbox\":[{\"type\":\"scattermapbox\",\"marker\":{\"colorbar\":{\"outlinewidth\":0,\"ticks\":\"\"}}}],\"scatterternary\":[{\"type\":\"scatterternary\",\"marker\":{\"colorbar\":{\"outlinewidth\":0,\"ticks\":\"\"}}}],\"scattercarpet\":[{\"type\":\"scattercarpet\",\"marker\":{\"colorbar\":{\"outlinewidth\":0,\"ticks\":\"\"}}}],\"carpet\":[{\"aaxis\":{\"endlinecolor\":\"#2a3f5f\",\"gridcolor\":\"white\",\"linecolor\":\"white\",\"minorgridcolor\":\"white\",\"startlinecolor\":\"#2a3f5f\"},\"baxis\":{\"endlinecolor\":\"#2a3f5f\",\"gridcolor\":\"white\",\"linecolor\":\"white\",\"minorgridcolor\":\"white\",\"startlinecolor\":\"#2a3f5f\"},\"type\":\"carpet\"}],\"table\":[{\"cells\":{\"fill\":{\"color\":\"#EBF0F8\"},\"line\":{\"color\":\"white\"}},\"header\":{\"fill\":{\"color\":\"#C8D4E3\"},\"line\":{\"color\":\"white\"}},\"type\":\"table\"}],\"barpolar\":[{\"marker\":{\"line\":{\"color\":\"#E5ECF6\",\"width\":0.5},\"pattern\":{\"fillmode\":\"overlay\",\"size\":10,\"solidity\":0.2}},\"type\":\"barpolar\"}],\"pie\":[{\"automargin\":true,\"type\":\"pie\"}]},\"layout\":{\"autotypenumbers\":\"strict\",\"colorway\":[\"#636efa\",\"#EF553B\",\"#00cc96\",\"#ab63fa\",\"#FFA15A\",\"#19d3f3\",\"#FF6692\",\"#B6E880\",\"#FF97FF\",\"#FECB52\"],\"font\":{\"color\":\"#2a3f5f\"},\"hovermode\":\"closest\",\"hoverlabel\":{\"align\":\"left\"},\"paper_bgcolor\":\"white\",\"plot_bgcolor\":\"#E5ECF6\",\"polar\":{\"bgcolor\":\"#E5ECF6\",\"angularaxis\":{\"gridcolor\":\"white\",\"linecolor\":\"white\",\"ticks\":\"\"},\"radialaxis\":{\"gridcolor\":\"white\",\"linecolor\":\"white\",\"ticks\":\"\"}},\"ternary\":{\"bgcolor\":\"#E5ECF6\",\"aaxis\":{\"gridcolor\":\"white\",\"linecolor\":\"white\",\"ticks\":\"\"},\"baxis\":{\"gridcolor\":\"white\",\"linecolor\":\"white\",\"ticks\":\"\"},\"caxis\":{\"gridcolor\":\"white\",\"linecolor\":\"white\",\"ticks\":\"\"}},\"coloraxis\":{\"colorbar\":{\"outlinewidth\":0,\"ticks\":\"\"}},\"colorscale\":{\"sequential\":[[0.0,\"#0d0887\"],[0.1111111111111111,\"#46039f\"],[0.2222222222222222,\"#7201a8\"],[0.3333333333333333,\"#9c179e\"],[0.4444444444444444,\"#bd3786\"],[0.5555555555555556,\"#d8576b\"],[0.6666666666666666,\"#ed7953\"],[0.7777777777777778,\"#fb9f3a\"],[0.8888888888888888,\"#fdca26\"],[1.0,\"#f0f921\"]],\"sequentialminus\":[[0.0,\"#0d0887\"],[0.1111111111111111,\"#46039f\"],[0.2222222222222222,\"#7201a8\"],[0.3333333333333333,\"#9c179e\"],[0.4444444444444444,\"#bd3786\"],[0.5555555555555556,\"#d8576b\"],[0.6666666666666666,\"#ed7953\"],[0.7777777777777778,\"#fb9f3a\"],[0.8888888888888888,\"#fdca26\"],[1.0,\"#f0f921\"]],\"diverging\":[[0,\"#8e0152\"],[0.1,\"#c51b7d\"],[0.2,\"#de77ae\"],[0.3,\"#f1b6da\"],[0.4,\"#fde0ef\"],[0.5,\"#f7f7f7\"],[0.6,\"#e6f5d0\"],[0.7,\"#b8e186\"],[0.8,\"#7fbc41\"],[0.9,\"#4d9221\"],[1,\"#276419\"]]},\"xaxis\":{\"gridcolor\":\"white\",\"linecolor\":\"white\",\"ticks\":\"\",\"title\":{\"standoff\":15},\"zerolinecolor\":\"white\",\"automargin\":true,\"zerolinewidth\":2},\"yaxis\":{\"gridcolor\":\"white\",\"linecolor\":\"white\",\"ticks\":\"\",\"title\":{\"standoff\":15},\"zerolinecolor\":\"white\",\"automargin\":true,\"zerolinewidth\":2},\"scene\":{\"xaxis\":{\"backgroundcolor\":\"#E5ECF6\",\"gridcolor\":\"white\",\"linecolor\":\"white\",\"showbackground\":true,\"ticks\":\"\",\"zerolinecolor\":\"white\",\"gridwidth\":2},\"yaxis\":{\"backgroundcolor\":\"#E5ECF6\",\"gridcolor\":\"white\",\"linecolor\":\"white\",\"showbackground\":true,\"ticks\":\"\",\"zerolinecolor\":\"white\",\"gridwidth\":2},\"zaxis\":{\"backgroundcolor\":\"#E5ECF6\",\"gridcolor\":\"white\",\"linecolor\":\"white\",\"showbackground\":true,\"ticks\":\"\",\"zerolinecolor\":\"white\",\"gridwidth\":2}},\"shapedefaults\":{\"line\":{\"color\":\"#2a3f5f\"}},\"annotationdefaults\":{\"arrowcolor\":\"#2a3f5f\",\"arrowhead\":0,\"arrowwidth\":1},\"geo\":{\"bgcolor\":\"white\",\"landcolor\":\"#E5ECF6\",\"subunitcolor\":\"white\",\"showland\":true,\"showlakes\":true,\"lakecolor\":\"white\"},\"title\":{\"x\":0.05},\"mapbox\":{\"style\":\"light\"}}},\"xaxis\":{\"anchor\":\"y\",\"domain\":[0.0,1.0],\"title\":{\"text\":\"Age\"}},\"yaxis\":{\"anchor\":\"x\",\"domain\":[0.0,1.0],\"title\":{\"text\":\"count\"}},\"legend\":{\"title\":{\"text\":\"Response_actual\"},\"tracegroupgap\":0},\"margin\":{\"t\":60},\"barmode\":\"relative\",\"title\":{\"text\":\"Response Rate by Age Group\"}},                        {\"responsive\": true}                    ).then(function(){\n",
              "                            \n",
              "var gd = document.getElementById('45d27209-b74a-4b85-b8e7-cb4d2963258c');\n",
              "var x = new MutationObserver(function (mutations, observer) {{\n",
              "        var display = window.getComputedStyle(gd).display;\n",
              "        if (!display || display === 'none') {{\n",
              "            console.log([gd, 'removed!']);\n",
              "            Plotly.purge(gd);\n",
              "            observer.disconnect();\n",
              "        }}\n",
              "}});\n",
              "\n",
              "// Listen for the removal of the full notebook cells\n",
              "var notebookContainer = gd.closest('#notebook-container');\n",
              "if (notebookContainer) {{\n",
              "    x.observe(notebookContainer, {childList: true});\n",
              "}}\n",
              "\n",
              "// Listen for the clearing of the current output cell\n",
              "var outputEl = gd.closest('.output');\n",
              "if (outputEl) {{\n",
              "    x.observe(outputEl, {childList: true});\n",
              "}}\n",
              "\n",
              "                        })                };                            </script>        </div>\n",
              "</body>\n",
              "</html>"
            ]
          },
          "metadata": {}
        }
      ]
    },
    {
      "cell_type": "code",
      "source": [
        "# Purchase frequency by income level\n",
        "fig = px.box(df, y=\"Income\", x=\"NumStorePurchases\")\n",
        "fig.update_layout(title=\"Purchase Frequency by Income\")\n",
        "fig.show()"
      ],
      "metadata": {
        "colab": {
          "base_uri": "https://localhost:8080/",
          "height": 542
        },
        "id": "CP1-R7f87mkL",
        "outputId": "3f7c059f-e184-4019-9b62-9f1eb77965bb"
      },
      "execution_count": 11,
      "outputs": [
        {
          "output_type": "display_data",
          "data": {
            "text/html": [
              "<html>\n",
              "<head><meta charset=\"utf-8\" /></head>\n",
              "<body>\n",
              "    <div>            <script src=\"https://cdnjs.cloudflare.com/ajax/libs/mathjax/2.7.5/MathJax.js?config=TeX-AMS-MML_SVG\"></script><script type=\"text/javascript\">if (window.MathJax && window.MathJax.Hub && window.MathJax.Hub.Config) {window.MathJax.Hub.Config({SVG: {font: \"STIX-Web\"}});}</script>                <script type=\"text/javascript\">window.PlotlyConfig = {MathJaxConfig: 'local'};</script>\n",
              "        <script charset=\"utf-8\" src=\"https://cdn.plot.ly/plotly-2.24.1.min.js\"></script>                <div id=\"7718462f-0d8f-4ba2-8936-4dc9e30afd5c\" class=\"plotly-graph-div\" style=\"height:525px; width:100%;\"></div>            <script type=\"text/javascript\">                                    window.PLOTLYENV=window.PLOTLYENV || {};                                    if (document.getElementById(\"7718462f-0d8f-4ba2-8936-4dc9e30afd5c\")) {                    Plotly.newPlot(                        \"7718462f-0d8f-4ba2-8936-4dc9e30afd5c\",                        [{\"alignmentgroup\":\"True\",\"hovertemplate\":\"NumStorePurchases=%{x}\\u003cbr\\u003eIncome=%{y}\\u003cextra\\u003e\\u003c\\u002fextra\\u003e\",\"legendgroup\":\"\",\"marker\":{\"color\":\"#636efa\"},\"name\":\"\",\"notched\":false,\"offsetgroup\":\"\",\"orientation\":\"v\",\"showlegend\":false,\"x\":[4,2,10,4,6,10,7,4,2,0,2,3,8,5,3,12,3,6,9,3,5,0,9,9,5,3,4,0,4,10,3,3,4,6,9,3,12,2,3,5,5,3,3,4,3,9,3,2,4,12,10,13,3,7,10,13,10,4,3,6,11,12,10,8,4,2,2,10,10,5,6,3,13,8,4,2,5,9,3,8,4,2,3,3,13,4,4,6,7,5,8,2,8,3,3,3,6,3,12,7,3,3,11,6,5,3,4,12,3,4,11,5,8,11,6,3,5,5,3,3,10,3,3,3,13,7,6,4,7,10,5,6,9,7,5,13,3,2,2,3,12,7,10,9,3,6,3,2,4,4,7,6,5,4,11,6,5,3,6,10,2,9,4,10,0,4,4,6,7,3,3,3,3,3,2,8,5,3,3,12,4,3,13,3,3,2,4,8,9,3,2,12,2,3,6,2,12,6,5,3,7,9,9,10,3,2,3,5,3,9,6,9,5,8,9,5,2,6,5,11,4,7,11,4,12,4,4,11,8,2,8,4,2,3,11,4,3,11,3,2,10,4,2,9,8,3,6,6,5,6,3,3,13,5,11,3,5,7,4,2,2,10,6,2,4,3,8,2,6,2,5,4,4,4,4,12,10,5,8,9,4,4,6,8,3,2,13,12,5,5,3,3,9,3,3,11,3,3,6,12,3,9,3,4,3,9,3,10,6,4,3,3,12,10,6,3,3,6,3,10,12,2,2,5,8,5,4,3,3,4,2,3,5,2,3,12,6,3,8,4,11,4,11,8,2,4,3,6,3,2,9,8,5,10,5,3,4,8,5,4,10,10,4,2,6,9,11,3,8,8,3,4,2,12,3,2,2,3,10,3,2,3,6,4,2,2,4,13,3,12,8,6,6,4,12,10,4,2,3,3,3,9,5,4,6,3,4,5,2,8,3,6,12,7,8,10,3,11,9,8,3,3,2,8,5,2,13,10,4,12,9,7,9,13,4,3,12,5,4,3,3,5,3,3,3,2,4,7,3,9,11,7,4,8,10,6,9,5,8,6,8,11,3,8,3,9,5,2,8,12,13,2,9,3,2,11,3,8,7,4,2,3,2,5,4,13,7,10,3,4,12,5,13,3,6,11,3,4,11,13,2,3,3,12,3,12,8,11,4,12,3,12,5,7,5,9,3,3,7,10,3,6,6,9,3,3,10,6,4,8,8,5,6,5,3,5,3,4,7,3,3,4,3,6,8,4,4,4,2,3,3,2,8,2,13,5,11,7,4,4,4,7,13,12,7,5,9,2,2,2,5,3,3,5,3,8,3,3,4,4,6,5,3,3,3,4,5,10,7,3,2,5,9,3,7,2,3,3,3,4,3,12,9,10,3,2,3,3,3,7,6,7,3,3,13,5,3,1,3,9,7,2,6,3,6,3,7,5,3,4,13,6,12,3,7,2,11,7,9,8,13,6,6,4,6,6,13,6,12,7,9,3,12,4,5,0,4,5,13,3,9,3,13,3,3,2,2,3,3,5,10,9,6,8,8,2,5,12,3,13,4,13,5,6,6,11,10,1,12,4,7,4,4,3,2,4,2,3,6,10,5,8,11,7,4,8,3,6,5,2,2,10,3,8,5,5,8,3,9,2,5,8,3,4,2,3,12,11,5,8,3,6,10,4,4,13,4,7,2,6,11,3,3,4,5,11,4,12,2,7,5,10,13,11,6,13,5,8,3,2,3,8,10,2,5,4,7,12,4,7,12,6,7,4,1,2,3,4,3,5,10,3,2,2,3,3,4,4,8,5,4,7,3,5,5,7,7,8,12,3,9,3,4,13,12,7,3,6,8,6,2,3,6,9,12,7,2,4,9,3,8,3,7,2,4,11,7,3,4,3,3,7,7,3,3,12,5,12,3,5,3,6,4,3,7,7,8,8,5,3,3,9,10,2,7,12,3,11,3,10,3,4,3,6,4,8,8,2,8,3,4,4,3,4,10,5,4,4,12,3,2,3,3,3,10,13,4,3,5,10,3,5,11,2,5,5,4,7,8,3,10,4,6,6,6,10,7,2,3,6,8,5,10,4,7,6,7,6,7,9,3,6,4,4,10,6,9,10,6,5,9,4,10,3,5,3,4,11,11,9,5,7,6,5,3,10,9,5,3,9,3,3,4,2,2,4,6,8,4,5,13,8,3,5,6,11,9,4,2,6,10,4,4,7,13,13,12,5,4,7,2,0,3,9,6,8,7,9,13,3,10,3,6,12,4,2,10,3,6,8,9,4,4,3,4,4,10,11,2,2,8,5,4,3,4,8,7,7,3,4,3,3,4,3,2,9,2,2,3,10,5,5,7,3,7,5,4,4,2,8,6,3,0,4,2,4,4,12,5,11,7,2,9,2,3,12,4,5,8,6,10,11,11,2,8,3,8,8,2,13,3,8,9,3,6,9,11,3,8,2,5,4,4,3,6,5,3,4,2,5,7,4,7,3,4,8,5,8,2,10,6,7,5,6,3,11,3,4,9,7,11,5,2,9,3,5,2,3,2,6,9,4,5,4,5,5,6,3,3,11,9,2,3,9,8,6,3,9,3,4,10,4,2,4,13,4,3,8,4,2,13,7,2,11,6,3,9,4,5,10,6,8,7,10,5,12,3,4,8,8,2,3,5,4,3,6,2,10,4,10,6,5,4,3,2,3,4,13,4,3,4,10,2,4,4,9,4,10,5,12,5,8,4,2,9,5,10,3,2,4,7,10,11,6,5,4,10,4,10,2,3,2,9,2,4,9,8,2,8,3,4,3,4,3,3,11,4,12,3,5,3,3,7,5,4,0,2,2,2,13,6,13,11,5,4,5,3,11,2,11,2,8,11,3,2,6,6,3,4,6,4,13,4,7,3,11,2,3,9,7,8,10,3,7,5,3,5,2,10,10,2,2,4,2,4,5,2,11,4,3,1,5,3,4,8,8,5,12,13,12,10,10,5,10,7,3,8,3,3,2,12,5,12,3,3,13,3,4,1,5,2,5,7,13,8,4,6,3,3,3,6,6,10,4,2,3,3,7,7,9,10,4,2,5,7,11,2,10,5,4,6,2,7,11,7,6,5,3,4,5,5,4,3,7,11,4,8,2,6,6,3,4,3,2,3,5,3,3,3,6,3,4,3,2,3,12,2,3,9,4,5,9,3,4,8,4,5,8,9,2,12,6,2,5,3,8,2,5,3,4,2,10,12,3,2,4,2,2,3,6,3,3,11,3,5,2,5,2,4,4,3,2,3,10,10,8,9,5,8,5,4,9,8,3,5,7,4,4,12,9,7,8,3,3,3,5,8,11,3,8,3,3,3,4,7,4,10,3,4,13,12,12,3,3,6,13,4,5,8,5,9,4,10,9,4,13,3,9,7,13,5,3,6,9,5,6,10,5,13,12,10,2,9,9,2,4,8,4,3,3,6,12,3,3,0,9,7,2,4,3,13,5,13,2,3,5,2,6,9,12,4,12,10,3,10,3,3,3,7,3,4,7,6,4,12,3,4,2,4,13,4,7,2,5,3,5,10,12,6,5,12,3,10,3,6,5,3,8,4,7,2,5,6,3,13,2,4,6,5,12,4,5,2,5,4,6,4,4,13,3,3,12,10,3,3,2,11,4,5,8,11,3,9,5,2,13,2,7,5,9,4,4,6,6,5,4,10,8,2,3,13,5,4,2,4,7,7,12,3,3,3,6,7,3,8,3,6,12,7,4,3,12,2,0,3,3,5,13,6,6,7,3,12,2,3,3,12,4,13,11,5,6,10,6,13,4,4,3,8,3,7,3,4,3,5,3,5,7,12,11,9,6,2,2,3,13,2,5,3,8,11,3,4,9,3,4,13,4,10,5,10,7,4,12,3,5,6,3,4,9,2,12,7,13,5,3,6,2,12,13,3,2,2,12,10,5,8,13,6,3,3,5,3,13,7,7,2,13,10,5,5,5,3,7,3,4,3,2,4,7,8,3,8,9,3,12,3,6,3,3,3,4,12,7,3,6,4,5,2,13,3,4,10,10,5,4,6,4,12,11,3,4,13,3,3,2,8,3,4,8,10,13,4,8,2,12,1,4,6,8,3,7,6,6,8,3,9,9,8,2,5,3,4,12,9,2,6,5,9,2,3,4,13,4,5,3,13,6,3,9,4,4,3,6,6,6,0,3,6,3,12,2,10,4,7,10,4,4,12,7,5,2,8,4,7,7,3,3,4,6,3,11,3,11,3,3,8,9,10,13,4,2,4,11,3,7,2,5,7,4,5,8,3,6,5,6,2,4,0,8,3,3,6,3,8,6,7,3,3,2,13,5,13,5,10,8,4,3,4,2,4,12,6,13,11,3,11,7,6,7,4,7,3,2,9,3,9,8,3,4,5,3,3,12,3,10,7,10,3,4,4,10,10,8,9,7,3,5,10,4,10,6,4,3,4,12,10,12,7,11,5,3,5,5,5,0,8,4,2,2,4,3,9,4,5,3,5,3,4,8,8,4,11,5,3,8,4,8,6,6,3,2,2,3,4,3,8,3,7,10,5,4,9,8,13,3,2,3,3,3,4,3,5,6,13,4,3,3,7,3,4,11,3,8,3,7,12,10,3,10,8,9,3,3,6,4,4,12,5,10,3,6,4,3,3,3,12,13,12,4,3,3,8,3,12,4,3,4,4,3,8,10,2,11,5,7,2,3,3,4,4,5,5,13,11,7,7,7,4,3,8,2,7,7,7,3,8,5,10,4,3,11,3,6,4,3,4,8,4,12,7,13,3,2,6,10,3,11,8,2,4,2,4,12,4,12,8,10,7,2,3,8,0,2,6,4,3,2,5,2,3,3,4,4,8,4,2,3,7,4,3,6,3,3,3,4,4,3,9,6,4,4,8,11,3,3,8,7,5,3,7,12,11,5,8,7,10,6,3,6,3,7,4,3,3,13,11,6,6,3,12,2,3,10,6,3,4,3,4,3,2,6,6,11,4,5,4,3,3,2,7,9,3,8,0,2,3,7,2,6,10,11,2,4,6,6,6,8,1,2,2,12,3,3,2,4,5,13,10,4],\"x0\":\" \",\"xaxis\":\"x\",\"y\":[58138.0,46344.0,71613.0,26646.0,58293.0,62513.0,55635.0,33454.0,30351.0,5648.0,52247.25135379061,7500.0,63033.0,59354.0,17323.0,82800.0,41850.0,37760.0,76995.0,33812.0,37040.0,2447.0,58607.0,65324.0,40689.0,18589.0,53359.0,52247.25135379061,38360.0,84618.0,10979.0,38620.0,40548.0,46610.0,68657.0,49389.0,67353.0,23718.0,42429.0,48948.0,80011.0,20559.0,21994.0,52247.25135379061,7500.0,79941.0,7500.0,41728.0,52247.25135379061,72550.0,65486.0,79143.0,35790.0,82582.0,66373.0,82384.0,70287.0,27938.0,52247.25135379061,55954.0,75777.0,66653.0,61823.0,67680.0,70666.0,25721.0,32474.0,88194.0,69096.0,74854.0,66991.0,52247.25135379061,65031.0,60631.0,28332.0,40246.0,75251.0,75825.0,26326.0,56046.0,29760.0,26304.0,23559.0,38620.0,81361.0,29440.0,36138.0,50388.0,79593.0,54178.0,52247.25135379061,52247.25135379061,52247.25135379061,42394.0,23626.0,30096.0,47916.0,51813.0,78497.0,50150.0,47823.0,34554.0,85693.0,65846.0,87195.0,24594.0,49096.0,52413.0,38557.0,89058.0,77298.0,68126.0,57288.0,86037.0,43974.0,50785.0,90765.0,36550.0,30753.0,21918.0,56129.0,32557.0,19510.0,30992.0,101970.0,71488.0,79607.0,54348.0,52247.25135379061,77376.0,62998.0,61331.0,73448.0,52247.25135379061,41551.0,62981.0,9548.0,33762.0,35860.0,36921.0,92859.0,65104.0,86111.0,68352.0,41883.0,59809.0,23957.0,38547.0,35688.0,49605.0,59354.0,65747.0,46344.0,34176.0,61010.0,69372.0,49967.0,60199.0,55375.0,80317.0,30523.0,70356.0,23228.0,74165.0,157243.0,43482.0,62551.0,52332.0,66951.0,26091.0,33456.0,28718.0,50447.0,53537.0,52074.0,80427.0,83837.0,38853.0,38285.0,78497.0,51650.0,16248.0,66835.0,30477.0,28249.0,25271.0,32303.0,61286.0,74068.0,45759.0,24882.0,66973.0,36640.0,38872.0,51148.0,31353.0,69661.0,80067.0,86718.0,46854.0,69142.0,75922.0,63693.0,102160.0,40637.0,18890.0,29604.0,48721.0,44794.0,64497.0,46097.0,77972.0,44377.0,46014.0,70951.0,41443.0,52195.0,83790.0,44551.0,69508.0,45204.0,72460.0,77622.0,30732.0,63887.0,42011.0,51369.0,51537.0,79930.0,34320.0,37070.0,81975.0,38590.0,15033.0,62745.0,22212.0,23661.0,79761.0,7500.0,60182.0,73455.0,64961.0,22804.0,73687.0,61074.0,31686.0,80134.0,75027.0,67546.0,65176.0,31160.0,29938.0,102692.0,26490.0,75702.0,30899.0,63342.0,45989.0,18701.0,40737.0,15287.0,69674.0,44159.0,37717.0,43776.0,38179.0,80124.0,38097.0,72940.0,22070.0,69267.0,31788.0,61905.0,29315.0,33378.0,66313.0,60714.0,77882.0,69867.0,63841.0,24480.0,51369.0,37760.0,65640.0,44319.0,30631.0,75278.0,50898.0,79946.0,35416.0,32414.0,38361.0,82497.0,16626.0,29672.0,55951.0,35388.0,42386.0,68627.0,57912.0,35246.0,58821.0,46377.0,39747.0,23976.0,80950.0,27038.0,77457.0,64100.0,42670.0,12571.0,22574.0,52247.25135379061,70893.0,54198.0,28839.0,40321.0,66503.0,30833.0,52247.25135379061,64795.0,34421.0,47025.0,64325.0,40464.0,62187.0,14849.0,27255.0,54432.0,29999.0,24072.0,33996.0,66334.0,35178.0,22010.0,62204.0,75693.0,30675.0,83003.0,83532.0,68655.0,41411.0,55212.0,59292.0,27190.0,82623.0,44300.0,84835.0,30372.0,33181.0,71113.0,71952.0,69759.0,72099.0,60000.0,38643.0,50737.0,68462.0,65073.0,46681.0,78618.0,62187.0,28442.0,37717.0,51479.0,54803.0,79530.0,31615.0,72025.0,52614.0,35684.0,48178.0,29548.0,63810.0,38578.0,46098.0,22585.0,30279.0,66426.0,30822.0,33581.0,19986.0,27421.0,35688.0,36143.0,10245.0,43795.0,63381.0,38823.0,83664.0,90300.0,62499.0,74293.0,51012.0,70777.0,68682.0,43824.0,15345.0,23442.0,14515.0,31395.0,75276.0,42373.0,30507.0,55521.0,48006.0,27213.0,65808.0,30351.0,50437.0,23616.0,53858.0,66465.0,46923.0,75072.0,75865.0,19789.0,80134.0,91065.0,49505.0,37401.0,30096.0,18492.0,82584.0,93027.0,48686.0,92910.0,75433.0,10404.0,61314.0,84865.0,42387.0,67309.0,75236.0,30015.0,50943.0,67272.0,51529.0,32011.0,7500.0,28691.0,56223.0,18100.0,30279.0,20130.0,23295.0,42618.0,81246.0,24027.0,55707.0,57959.0,56796.0,36230.0,70829.0,65991.0,38988.0,89572.0,42207.0,50300.0,66664.0,60597.0,70165.0,50520.0,80124.0,33183.0,66582.0,75261.0,31880.0,53790.0,49269.0,61456.0,37406.0,56937.0,38415.0,20518.0,62503.0,41644.0,55842.0,62010.0,41124.0,38961.0,37760.0,32233.0,43057.0,83151.0,78825.0,65104.0,60093.0,14045.0,28457.0,78952.0,46310.0,76005.0,58308.0,55614.0,59432.0,55563.0,78642.0,67911.0,65275.0,27203.0,48330.0,24279.0,64355.0,50943.0,53653.0,65665.0,81217.0,34935.0,61250.0,39665.0,60152.0,48920.0,89120.0,44124.0,81169.0,36443.0,26095.0,71367.0,80184.0,30630.0,73454.0,42691.0,70503.0,25545.0,32880.0,77863.0,50353.0,61839.0,49154.0,47682.0,72679.0,57954.0,65316.0,28567.0,47352.0,44931.0,76982.0,57247.0,22944.0,25315.0,43638.0,42710.0,84169.0,54058.0,24683.0,85620.0,47850.0,19514.0,27159.0,39548.0,21474.0,60504.0,22419.0,81698.0,43462.0,54880.0,79908.0,15315.0,87771.0,33039.0,81741.0,71499.0,62466.0,48799.0,52157.0,66565.0,29298.0,47691.0,38200.0,44989.0,38443.0,38593.0,64413.0,36959.0,61996.0,51287.0,13260.0,47472.0,54603.0,45207.0,40689.0,47821.0,27450.0,39453.0,26850.0,79800.0,61794.0,53863.0,24221.0,39684.0,92163.0,69882.0,33178.0,59973.0,17459.0,23910.0,42169.0,26224.0,31089.0,30081.0,62807.0,72906.0,61467.0,49618.0,21888.0,42429.0,26150.0,30801.0,81168.0,26877.0,45006.0,18978.0,22574.0,48240.0,45837.0,35791.0,162397.0,54162.0,30522.0,54456.0,31632.0,72298.0,36975.0,72635.0,13624.0,84196.0,70971.0,34487.0,28769.0,69084.0,65488.0,62466.0,32218.0,83917.0,46102.0,84574.0,56181.0,63120.0,73691.0,63381.0,76140.0,62859.0,45906.0,77632.0,46463.0,105471.0,55282.0,78710.0,66886.0,98777.0,29103.0,67445.0,50616.0,49431.0,153924.0,61278.0,26490.0,73059.0,46734.0,56253.0,19986.0,58330.0,25965.0,14661.0,18690.0,45068.0,21063.0,29187.0,54690.0,59304.0,59247.0,66731.0,77353.0,52614.0,26751.0,81300.0,70337.0,36145.0,65295.0,68118.0,68743.0,41039.0,38946.0,65777.0,66476.0,86857.0,160803.0,77845.0,69476.0,50611.0,61209.0,42315.0,13084.0,47570.0,61923.0,34824.0,26518.0,45938.0,78468.0,78901.0,71427.0,71022.0,90247.0,41335.0,71952.0,35682.0,43185.0,66375.0,35178.0,25252.0,55250.0,33249.0,58398.0,50272.0,76618.0,87305.0,25851.0,58710.0,45160.0,74806.0,59111.0,18988.0,72190.0,7500.0,44794.0,80395.0,75012.0,56962.0,89891.0,35946.0,53593.0,66373.0,45072.0,89694.0,72025.0,67432.0,70545.0,17487.0,62882.0,64108.0,34941.0,48767.0,38702.0,82224.0,83844.0,17003.0,71163.0,33697.0,63564.0,83443.0,51518.0,58330.0,80952.0,75507.0,63855.0,62220.0,58512.0,40662.0,38829.0,35523.0,79146.0,78285.0,31626.0,75127.0,48726.0,74985.0,67430.0,46891.0,62058.0,72063.0,78939.0,42720.0,33622.0,6835.0,41452.0,40760.0,74250.0,51124.0,72258.0,71466.0,36283.0,20587.0,30467.0,31590.0,20425.0,17144.0,42564.0,43783.0,40780.0,62847.0,82017.0,16813.0,51267.0,46524.0,45183.0,70421.0,60161.0,73926.0,19329.0,61872.0,46984.0,34838.0,82716.0,48192.0,49681.0,56850.0,55267.0,59666.0,72504.0,26872.0,21359.0,73170.0,52750.0,91820.0,65968.0,30772.0,22507.0,65685.0,25804.0,76412.0,22063.0,57091.0,22419.0,87771.0,78353.0,93404.0,37859.0,80995.0,16529.0,55412.0,48789.0,56575.0,25130.0,35441.0,71391.0,49494.0,81702.0,45889.0,56628.0,34026.0,40049.0,34176.0,19419.0,82504.0,81205.0,61618.0,55284.0,49980.0,15072.0,49166.0,65324.0,82347.0,30843.0,46374.0,60474.0,38576.0,55357.0,37758.0,85710.0,23228.0,44602.0,7500.0,38683.0,49514.0,57906.0,43456.0,19485.0,53172.0,30545.0,70123.0,62450.0,21675.0,42395.0,61346.0,80812.0,42835.0,39922.0,86424.0,17117.0,24762.0,35797.0,36627.0,51111.0,86857.0,82072.0,46231.0,42243.0,51195.0,68092.0,31814.0,51390.0,76630.0,26868.0,48948.0,55260.0,64090.0,78331.0,37087.0,21846.0,81320.0,54137.0,66825.0,57100.0,58917.0,85072.0,86429.0,45684.0,47889.0,45921.0,78420.0,75114.0,52278.0,35641.0,95529.0,62820.0,73113.0,84169.0,42607.0,74637.0,46015.0,72354.0,39858.0,34469.0,83033.0,24401.0,77583.0,74116.0,74293.0,68397.0,79632.0,46107.0,64950.0,25443.0,75127.0,32892.0,71796.0,67536.0,55239.0,60554.0,64831.0,56067.0,82025.0,94384.0,14906.0,51563.0,57937.0,68274.0,39771.0,67893.0,27922.0,52190.0,44051.0,42767.0,46106.0,16927.0,59754.0,53700.0,59041.0,54237.0,70647.0,52597.0,41021.0,40233.0,50183.0,54753.0,92955.0,33471.0,34596.0,44010.0,84219.0,40706.0,15716.0,59052.0,80573.0,83715.0,82576.0,56962.0,35704.0,53103.0,46779.0,4861.0,33462.0,63693.0,80763.0,65352.0,82170.0,75759.0,79689.0,35340.0,85683.0,24884.0,42021.0,64449.0,64587.0,34824.0,75437.0,26091.0,52845.0,46086.0,78028.0,95169.0,56337.0,22434.0,36930.0,36130.0,65569.0,83844.0,19514.0,36736.0,77568.0,49187.0,30168.0,34053.0,38196.0,59412.0,70924.0,54165.0,32300.0,20180.0,34961.0,28440.0,64504.0,33564.0,17345.0,56320.0,28647.0,15038.0,32173.0,68316.0,74538.0,91700.0,68695.0,31056.0,79593.0,28071.0,37334.0,46423.0,37126.0,47703.0,61180.0,38998.0,8028.0,76081.0,34728.0,33168.0,33585.0,77037.0,35196.0,44529.0,70924.0,28764.0,69098.0,25959.0,27100.0,70596.0,42557.0,53312.0,72228.0,67605.0,62845.0,65196.0,42000.0,35860.0,65526.0,16860.0,83528.0,64176.0,22304.0,67023.0,32892.0,70713.0,59925.0,39722.0,46610.0,88347.0,87171.0,26907.0,50014.0,41014.0,66294.0,36715.0,79456.0,40479.0,75345.0,54233.0,24163.0,84460.0,43776.0,71691.0,85844.0,39190.0,71367.0,38578.0,57236.0,61825.0,79803.0,80910.0,27590.0,56775.0,83829.0,54210.0,38508.0,53187.0,30023.0,76045.0,50870.0,15315.0,65463.0,66480.0,76773.0,81698.0,54466.0,98777.0,16269.0,71819.0,33569.0,36262.0,22634.0,47025.0,70566.0,31605.0,52034.0,48526.0,46734.0,39552.0,86358.0,46931.0,16581.0,63998.0,67381.0,25930.0,42693.0,85606.0,72903.0,49669.0,36778.0,85696.0,10979.0,49678.0,56129.0,37155.0,21282.0,33419.0,63285.0,21255.0,42162.0,54450.0,57744.0,26576.0,57513.0,68142.0,7500.0,83145.0,54197.0,23091.0,46049.0,56715.0,79410.0,57304.0,44375.0,54450.0,59594.0,80685.0,40344.0,62710.0,48985.0,35322.0,77142.0,81657.0,14421.0,20130.0,74214.0,66726.0,23724.0,47353.0,33444.0,54386.0,28510.0,90638.0,48070.0,43140.0,54959.0,15056.0,26954.0,22327.0,44393.0,62000.0,31497.0,45894.0,78579.0,67369.0,58401.0,62307.0,43641.0,63841.0,46891.0,70091.0,78075.0,59184.0,54809.0,58113.0,51412.0,15287.0,66636.0,50965.0,84618.0,18351.0,40451.0,36317.0,42213.0,65748.0,77044.0,74918.0,56721.0,42160.0,61559.0,33629.0,68682.0,34377.0,8940.0,26228.0,77297.0,40211.0,33438.0,75032.0,61284.0,22518.0,54730.0,38452.0,44421.0,38197.0,41986.0,28427.0,37395.0,64722.0,55249.0,84906.0,28691.0,44213.0,25707.0,59062.0,76624.0,66000.0,27683.0,1730.0,7500.0,40521.0,20427.0,65106.0,69969.0,67433.0,77766.0,74716.0,68118.0,55158.0,62972.0,74190.0,39356.0,76653.0,35860.0,90687.0,73450.0,31454.0,47139.0,83829.0,53378.0,19656.0,45579.0,85485.0,55956.0,64191.0,38808.0,57183.0,23748.0,66303.0,37368.0,40800.0,71847.0,46149.0,78687.0,49118.0,37633.0,39767.0,26997.0,33986.0,57091.0,46831.0,83151.0,52531.0,15759.0,22804.0,43050.0,42997.0,48918.0,60033.0,34043.0,57811.0,78569.0,7500.0,157733.0,94384.0,23148.0,44267.0,71626.0,60894.0,50200.0,81051.0,65169.0,59868.0,65695.0,64857.0,45143.0,74805.0,59060.0,27238.0,47009.0,46094.0,40321.0,37235.0,81843.0,46692.0,77382.0,37774.0,18393.0,72828.0,24711.0,45503.0,6560.0,71604.0,27244.0,48752.0,71434.0,90842.0,88097.0,51948.0,71853.0,35876.0,40049.0,39660.0,50127.0,43263.0,62845.0,18929.0,24367.0,33249.0,26887.0,50150.0,62061.0,85696.0,76542.0,70515.0,18227.0,69139.0,69109.0,69627.0,38136.0,62159.0,80695.0,33316.0,58554.0,17256.0,53034.0,52203.0,59601.0,75154.0,47025.0,37971.0,41335.0,67267.0,57338.0,50523.0,35791.0,50611.0,56242.0,48904.0,56243.0,21355.0,57420.0,52247.25135379061,46390.0,54342.0,52247.25135379061,52247.25135379061,20895.0,92344.0,52247.25135379061,26907.0,44964.0,75507.0,53761.0,22682.0,38887.0,41658.0,29791.0,63915.0,39996.0,26759.0,63841.0,51039.0,60544.0,65685.0,37716.0,36864.0,44511.0,36947.0,47352.0,67087.0,57045.0,36957.0,69389.0,80134.0,43142.0,80589.0,34412.0,57537.0,22634.0,51315.0,36026.0,24639.0,34578.0,65704.0,63810.0,54132.0,18690.0,28164.0,34596.0,43269.0,38741.0,31907.0,27100.0,31163.0,92533.0,34853.0,70844.0,31086.0,60544.0,20491.0,42523.0,39922.0,33402.0,36408.0,21645.0,78427.0,82657.0,51876.0,78041.0,52852.0,70038.0,69401.0,46053.0,77343.0,73892.0,40304.0,32727.0,68695.0,43300.0,26290.0,93790.0,38410.0,64866.0,57957.0,46015.0,16531.0,28072.0,49476.0,50725.0,83844.0,41145.0,67419.0,23162.0,34380.0,34704.0,94871.0,65148.0,39898.0,64857.0,59892.0,41020.0,57072.0,60474.0,62807.0,19414.0,19107.0,75484.0,70379.0,79419.0,64014.0,76998.0,49854.0,60585.0,42873.0,87679.0,57867.0,35765.0,65492.0,32952.0,53374.0,71706.0,68487.0,53253.0,31163.0,42014.0,54108.0,49667.0,63206.0,57136.0,46772.0,78931.0,53977.0,84219.0,46098.0,73538.0,79529.0,20981.0,51766.0,55759.0,33039.0,37787.0,27242.0,87188.0,69930.0,37697.0,37401.0,3502.0,58597.0,82032.0,28087.0,74004.0,19740.0,57036.0,53083.0,69283.0,46098.0,23331.0,23331.0,9255.0,67786.0,71969.0,59235.0,31928.0,74881.0,65819.0,51411.0,51983.0,42386.0,30390.0,30983.0,66033.0,37284.0,57530.0,76800.0,63943.0,76081.0,67445.0,37054.0,47175.0,31859.0,27215.0,70179.0,39922.0,49681.0,24645.0,79865.0,44322.0,47958.0,63972.0,75315.0,55517.0,75283.0,82800.0,38998.0,90638.0,27161.0,42014.0,38201.0,45203.0,81574.0,34935.0,60482.0,34633.0,78093.0,82460.0,45903.0,81361.0,35860.0,40442.0,61482.0,34968.0,75794.0,31497.0,74268.0,13724.0,45143.0,52569.0,48432.0,17144.0,36108.0,76445.0,36663.0,53843.0,90226.0,70638.0,44512.0,27116.0,54072.0,71855.0,51250.0,60432.0,65526.0,68655.0,12393.0,64509.0,33955.0,31353.0,55434.0,28359.0,57100.0,69139.0,52973.0,51717.0,18793.0,66664.0,50664.0,54414.0,54549.0,47111.0,41003.0,19444.0,36301.0,73059.0,42731.0,52854.0,22775.0,46681.0,59821.0,50002.0,69755.0,44078.0,30560.0,35924.0,64140.0,56386.0,24594.0,75774.0,39228.0,58494.0,58684.0,57136.0,56551.0,22448.0,82014.0,34213.0,157146.0,25358.0,35544.0,36634.0,62670.0,50334.0,72066.0,50729.0,34916.0,64892.0,43602.0,33996.0,41473.0,63246.0,36732.0,69084.0,77766.0,37929.0,86610.0,80141.0,72635.0,69016.0,20193.0,27573.0,15862.0,49544.0,33228.0,70440.0,38232.0,22554.0,23536.0,49413.0,42231.0,78789.0,56534.0,58350.0,81217.0,49090.0,61787.0,18169.0,24336.0,18222.0,62335.0,42033.0,86580.0,41437.0,73705.0,61064.0,38452.0,18358.0,55012.0,9722.0,38175.0,58656.0,52117.0,64813.0,54222.0,83512.0,77520.0,41154.0,80398.0,18746.0,35196.0,60230.0,22108.0,44392.0,55424.0,17688.0,92491.0,90273.0,82571.0,38513.0,16653.0,42586.0,23529.0,74881.0,71107.0,46910.0,18690.0,37244.0,82427.0,75342.0,70044.0,79146.0,77437.0,54984.0,42403.0,55761.0,37292.0,45576.0,70321.0,58086.0,81795.0,28389.0,66835.0,69901.0,80360.0,63342.0,44989.0,31859.0,51569.0,30372.0,16014.0,41120.0,39763.0,38725.0,77981.0,62905.0,13533.0,59481.0,72117.0,21955.0,67131.0,36802.0,71853.0,28249.0,47808.0,25509.0,51012.0,70596.0,85431.0,42664.0,42586.0,29760.0,28973.0,39435.0,65370.0,20194.0,42473.0,64590.0,71232.0,34600.0,46904.0,49094.0,36075.0,60839.0,77298.0,34026.0,48918.0,82122.0,37697.0,34074.0,28520.0,62535.0,36273.0,63404.0,75774.0,78416.0,75702.0,59385.0,37070.0,44689.0,53977.0,7144.0,18701.0,90369.0,63159.0,37758.0,46757.0,79734.0,63207.0,72071.0,21840.0,58582.0,72282.0,50387.0,32583.0,62568.0,44635.0,33316.0,63967.0,52513.0,25293.0,54111.0,78394.0,80739.0,22669.0,29236.0,44911.0,54693.0,48186.0,54809.0,41580.0,80336.0,47743.0,62972.0,57333.0,32313.0,84953.0,27071.0,68148.0,65735.0,86836.0,4023.0,30093.0,57705.0,25008.0,83257.0,22280.0,72159.0,64260.0,82733.0,74290.0,58217.0,21024.0,70116.0,54006.0,69063.0,11448.0,61825.0,70886.0,69109.0,60208.0,32889.0,34738.0,30538.0,82326.0,26642.0,69932.0,44503.0,60200.0,49638.0,23830.0,33051.0,72905.0,69702.0,70300.0,70643.0,30396.0,50616.0,62772.0,30298.0,52413.0,44155.0,86979.0,76532.0,42081.0,67546.0,88420.0,31158.0,61671.0,69719.0,49160.0,24882.0,90933.0,113734.0,59292.0,45759.0,22148.0,73395.0,29819.0,45688.0,62820.0,60491.0,33235.0,35701.0,31535.0,92556.0,67384.0,80573.0,77870.0,52278.0,57107.0,18929.0,36038.0,20180.0,34230.0,31878.0,70932.0,91249.0,77598.0,80982.0,22701.0,55212.0,70617.0,64849.0,62694.0,61917.0,67472.0,21059.0,29543.0,75903.0,34984.0,54998.0,54356.0,34242.0,25410.0,73356.0,28320.0,23763.0,72570.0,34529.0,70792.0,63211.0,83891.0,36065.0,39898.0,51141.0,56939.0,80872.0,72335.0,61798.0,76842.0,29478.0,46998.0,96843.0,56551.0,70053.0,71670.0,44359.0,40887.0,48877.0,74485.0,64474.0,77226.0,72643.0,85738.0,55686.0,39062.0,34600.0,40794.0,54690.0,4428.0,32632.0,38236.0,36781.0,31385.0,24570.0,25509.0,94642.0,58646.0,53201.0,21994.0,57113.0,51373.0,23477.0,58116.0,72968.0,39791.0,91712.0,94472.0,13672.0,96547.0,79205.0,56559.0,32644.0,67506.0,24206.0,28420.0,22979.0,33279.0,46423.0,30368.0,63684.0,41638.0,68805.0,65814.0,71964.0,39146.0,96876.0,34445.0,68281.0,37284.0,36790.0,27943.0,22263.0,30261.0,28587.0,43815.0,48195.0,77027.0,71322.0,32765.0,29672.0,23272.0,49912.0,7500.0,68117.0,67225.0,17649.0,55914.0,40059.0,60905.0,75330.0,60689.0,38680.0,61416.0,49767.0,83273.0,29009.0,45057.0,37150.0,43020.0,53154.0,65308.0,76467.0,81044.0,32871.0,55801.0,76320.0,36927.0,48794.0,23478.0,71128.0,70179.0,59462.0,52247.25135379061,38361.0,52247.25135379061,70038.0,42554.0,67445.0,67046.0,42192.0,77610.0,31761.0,34350.0,54591.0,71866.0,25293.0,42000.0,69520.0,64713.0,27889.0,22123.0,52247.25135379061,52247.25135379061,27803.0,52247.25135379061,51651.0,68487.0,52247.25135379061,56796.0,87000.0,79823.0,30828.0,34109.0,53367.0,22390.0,71322.0,79244.0,49912.0,48699.0,80144.0,54252.0,81929.0,76068.0,53204.0,67911.0,14796.0,78128.0,14188.0,20425.0,58646.0,72967.0,48150.0,82332.0,58275.0,44953.0,34587.0,43018.0,45736.0,66476.0,27733.0,69805.0,72217.0,25818.0,37509.0,25176.0,43586.0,53230.0,50116.0,84906.0,61286.0,82333.0,65220.0,33590.0,30992.0,72309.0,156924.0,16005.0,65487.0,58692.0,40590.0,20587.0,62637.0,29435.0,19346.0,35788.0,36997.0,23539.0,65333.0,78499.0,29732.0,41275.0,63516.0,42769.0,49572.0,69209.0,17148.0,40590.0,30560.0,32146.0,41713.0,34176.0,58482.0,59686.0,60896.0,62994.0,47320.0,74859.0,15253.0,31560.0,72071.0,91172.0,90000.0,41967.0,69263.0,65706.0,60934.0,71965.0,65210.0,79174.0,81380.0,48432.0,52914.0,38946.0,26067.0,44325.0,42523.0,26487.0,53233.0,67716.0,76234.0,84117.0,65487.0,25224.0,89616.0,40851.0,27469.0,82347.0,73803.0,8820.0,43322.0,55593.0,50501.0,37085.0,16185.0,57731.0,48432.0,73807.0,18929.0,35893.0,61014.0,32144.0,14918.0,45146.0,41769.0,88325.0,38054.0,80617.0,5305.0,36807.0,28427.0,82032.0,22775.0,40101.0,58025.0,75777.0,7500.0,33562.0,57642.0,58554.0,63777.0,57967.0,52247.25135379061,24434.0,11012.0,44802.0,26816.0,666666.0,34421.0,61223.0,64014.0,56981.0,69245.0,52869.0],\"y0\":\" \",\"yaxis\":\"y\",\"type\":\"box\"}],                        {\"template\":{\"data\":{\"histogram2dcontour\":[{\"type\":\"histogram2dcontour\",\"colorbar\":{\"outlinewidth\":0,\"ticks\":\"\"},\"colorscale\":[[0.0,\"#0d0887\"],[0.1111111111111111,\"#46039f\"],[0.2222222222222222,\"#7201a8\"],[0.3333333333333333,\"#9c179e\"],[0.4444444444444444,\"#bd3786\"],[0.5555555555555556,\"#d8576b\"],[0.6666666666666666,\"#ed7953\"],[0.7777777777777778,\"#fb9f3a\"],[0.8888888888888888,\"#fdca26\"],[1.0,\"#f0f921\"]]}],\"choropleth\":[{\"type\":\"choropleth\",\"colorbar\":{\"outlinewidth\":0,\"ticks\":\"\"}}],\"histogram2d\":[{\"type\":\"histogram2d\",\"colorbar\":{\"outlinewidth\":0,\"ticks\":\"\"},\"colorscale\":[[0.0,\"#0d0887\"],[0.1111111111111111,\"#46039f\"],[0.2222222222222222,\"#7201a8\"],[0.3333333333333333,\"#9c179e\"],[0.4444444444444444,\"#bd3786\"],[0.5555555555555556,\"#d8576b\"],[0.6666666666666666,\"#ed7953\"],[0.7777777777777778,\"#fb9f3a\"],[0.8888888888888888,\"#fdca26\"],[1.0,\"#f0f921\"]]}],\"heatmap\":[{\"type\":\"heatmap\",\"colorbar\":{\"outlinewidth\":0,\"ticks\":\"\"},\"colorscale\":[[0.0,\"#0d0887\"],[0.1111111111111111,\"#46039f\"],[0.2222222222222222,\"#7201a8\"],[0.3333333333333333,\"#9c179e\"],[0.4444444444444444,\"#bd3786\"],[0.5555555555555556,\"#d8576b\"],[0.6666666666666666,\"#ed7953\"],[0.7777777777777778,\"#fb9f3a\"],[0.8888888888888888,\"#fdca26\"],[1.0,\"#f0f921\"]]}],\"heatmapgl\":[{\"type\":\"heatmapgl\",\"colorbar\":{\"outlinewidth\":0,\"ticks\":\"\"},\"colorscale\":[[0.0,\"#0d0887\"],[0.1111111111111111,\"#46039f\"],[0.2222222222222222,\"#7201a8\"],[0.3333333333333333,\"#9c179e\"],[0.4444444444444444,\"#bd3786\"],[0.5555555555555556,\"#d8576b\"],[0.6666666666666666,\"#ed7953\"],[0.7777777777777778,\"#fb9f3a\"],[0.8888888888888888,\"#fdca26\"],[1.0,\"#f0f921\"]]}],\"contourcarpet\":[{\"type\":\"contourcarpet\",\"colorbar\":{\"outlinewidth\":0,\"ticks\":\"\"}}],\"contour\":[{\"type\":\"contour\",\"colorbar\":{\"outlinewidth\":0,\"ticks\":\"\"},\"colorscale\":[[0.0,\"#0d0887\"],[0.1111111111111111,\"#46039f\"],[0.2222222222222222,\"#7201a8\"],[0.3333333333333333,\"#9c179e\"],[0.4444444444444444,\"#bd3786\"],[0.5555555555555556,\"#d8576b\"],[0.6666666666666666,\"#ed7953\"],[0.7777777777777778,\"#fb9f3a\"],[0.8888888888888888,\"#fdca26\"],[1.0,\"#f0f921\"]]}],\"surface\":[{\"type\":\"surface\",\"colorbar\":{\"outlinewidth\":0,\"ticks\":\"\"},\"colorscale\":[[0.0,\"#0d0887\"],[0.1111111111111111,\"#46039f\"],[0.2222222222222222,\"#7201a8\"],[0.3333333333333333,\"#9c179e\"],[0.4444444444444444,\"#bd3786\"],[0.5555555555555556,\"#d8576b\"],[0.6666666666666666,\"#ed7953\"],[0.7777777777777778,\"#fb9f3a\"],[0.8888888888888888,\"#fdca26\"],[1.0,\"#f0f921\"]]}],\"mesh3d\":[{\"type\":\"mesh3d\",\"colorbar\":{\"outlinewidth\":0,\"ticks\":\"\"}}],\"scatter\":[{\"fillpattern\":{\"fillmode\":\"overlay\",\"size\":10,\"solidity\":0.2},\"type\":\"scatter\"}],\"parcoords\":[{\"type\":\"parcoords\",\"line\":{\"colorbar\":{\"outlinewidth\":0,\"ticks\":\"\"}}}],\"scatterpolargl\":[{\"type\":\"scatterpolargl\",\"marker\":{\"colorbar\":{\"outlinewidth\":0,\"ticks\":\"\"}}}],\"bar\":[{\"error_x\":{\"color\":\"#2a3f5f\"},\"error_y\":{\"color\":\"#2a3f5f\"},\"marker\":{\"line\":{\"color\":\"#E5ECF6\",\"width\":0.5},\"pattern\":{\"fillmode\":\"overlay\",\"size\":10,\"solidity\":0.2}},\"type\":\"bar\"}],\"scattergeo\":[{\"type\":\"scattergeo\",\"marker\":{\"colorbar\":{\"outlinewidth\":0,\"ticks\":\"\"}}}],\"scatterpolar\":[{\"type\":\"scatterpolar\",\"marker\":{\"colorbar\":{\"outlinewidth\":0,\"ticks\":\"\"}}}],\"histogram\":[{\"marker\":{\"pattern\":{\"fillmode\":\"overlay\",\"size\":10,\"solidity\":0.2}},\"type\":\"histogram\"}],\"scattergl\":[{\"type\":\"scattergl\",\"marker\":{\"colorbar\":{\"outlinewidth\":0,\"ticks\":\"\"}}}],\"scatter3d\":[{\"type\":\"scatter3d\",\"line\":{\"colorbar\":{\"outlinewidth\":0,\"ticks\":\"\"}},\"marker\":{\"colorbar\":{\"outlinewidth\":0,\"ticks\":\"\"}}}],\"scattermapbox\":[{\"type\":\"scattermapbox\",\"marker\":{\"colorbar\":{\"outlinewidth\":0,\"ticks\":\"\"}}}],\"scatterternary\":[{\"type\":\"scatterternary\",\"marker\":{\"colorbar\":{\"outlinewidth\":0,\"ticks\":\"\"}}}],\"scattercarpet\":[{\"type\":\"scattercarpet\",\"marker\":{\"colorbar\":{\"outlinewidth\":0,\"ticks\":\"\"}}}],\"carpet\":[{\"aaxis\":{\"endlinecolor\":\"#2a3f5f\",\"gridcolor\":\"white\",\"linecolor\":\"white\",\"minorgridcolor\":\"white\",\"startlinecolor\":\"#2a3f5f\"},\"baxis\":{\"endlinecolor\":\"#2a3f5f\",\"gridcolor\":\"white\",\"linecolor\":\"white\",\"minorgridcolor\":\"white\",\"startlinecolor\":\"#2a3f5f\"},\"type\":\"carpet\"}],\"table\":[{\"cells\":{\"fill\":{\"color\":\"#EBF0F8\"},\"line\":{\"color\":\"white\"}},\"header\":{\"fill\":{\"color\":\"#C8D4E3\"},\"line\":{\"color\":\"white\"}},\"type\":\"table\"}],\"barpolar\":[{\"marker\":{\"line\":{\"color\":\"#E5ECF6\",\"width\":0.5},\"pattern\":{\"fillmode\":\"overlay\",\"size\":10,\"solidity\":0.2}},\"type\":\"barpolar\"}],\"pie\":[{\"automargin\":true,\"type\":\"pie\"}]},\"layout\":{\"autotypenumbers\":\"strict\",\"colorway\":[\"#636efa\",\"#EF553B\",\"#00cc96\",\"#ab63fa\",\"#FFA15A\",\"#19d3f3\",\"#FF6692\",\"#B6E880\",\"#FF97FF\",\"#FECB52\"],\"font\":{\"color\":\"#2a3f5f\"},\"hovermode\":\"closest\",\"hoverlabel\":{\"align\":\"left\"},\"paper_bgcolor\":\"white\",\"plot_bgcolor\":\"#E5ECF6\",\"polar\":{\"bgcolor\":\"#E5ECF6\",\"angularaxis\":{\"gridcolor\":\"white\",\"linecolor\":\"white\",\"ticks\":\"\"},\"radialaxis\":{\"gridcolor\":\"white\",\"linecolor\":\"white\",\"ticks\":\"\"}},\"ternary\":{\"bgcolor\":\"#E5ECF6\",\"aaxis\":{\"gridcolor\":\"white\",\"linecolor\":\"white\",\"ticks\":\"\"},\"baxis\":{\"gridcolor\":\"white\",\"linecolor\":\"white\",\"ticks\":\"\"},\"caxis\":{\"gridcolor\":\"white\",\"linecolor\":\"white\",\"ticks\":\"\"}},\"coloraxis\":{\"colorbar\":{\"outlinewidth\":0,\"ticks\":\"\"}},\"colorscale\":{\"sequential\":[[0.0,\"#0d0887\"],[0.1111111111111111,\"#46039f\"],[0.2222222222222222,\"#7201a8\"],[0.3333333333333333,\"#9c179e\"],[0.4444444444444444,\"#bd3786\"],[0.5555555555555556,\"#d8576b\"],[0.6666666666666666,\"#ed7953\"],[0.7777777777777778,\"#fb9f3a\"],[0.8888888888888888,\"#fdca26\"],[1.0,\"#f0f921\"]],\"sequentialminus\":[[0.0,\"#0d0887\"],[0.1111111111111111,\"#46039f\"],[0.2222222222222222,\"#7201a8\"],[0.3333333333333333,\"#9c179e\"],[0.4444444444444444,\"#bd3786\"],[0.5555555555555556,\"#d8576b\"],[0.6666666666666666,\"#ed7953\"],[0.7777777777777778,\"#fb9f3a\"],[0.8888888888888888,\"#fdca26\"],[1.0,\"#f0f921\"]],\"diverging\":[[0,\"#8e0152\"],[0.1,\"#c51b7d\"],[0.2,\"#de77ae\"],[0.3,\"#f1b6da\"],[0.4,\"#fde0ef\"],[0.5,\"#f7f7f7\"],[0.6,\"#e6f5d0\"],[0.7,\"#b8e186\"],[0.8,\"#7fbc41\"],[0.9,\"#4d9221\"],[1,\"#276419\"]]},\"xaxis\":{\"gridcolor\":\"white\",\"linecolor\":\"white\",\"ticks\":\"\",\"title\":{\"standoff\":15},\"zerolinecolor\":\"white\",\"automargin\":true,\"zerolinewidth\":2},\"yaxis\":{\"gridcolor\":\"white\",\"linecolor\":\"white\",\"ticks\":\"\",\"title\":{\"standoff\":15},\"zerolinecolor\":\"white\",\"automargin\":true,\"zerolinewidth\":2},\"scene\":{\"xaxis\":{\"backgroundcolor\":\"#E5ECF6\",\"gridcolor\":\"white\",\"linecolor\":\"white\",\"showbackground\":true,\"ticks\":\"\",\"zerolinecolor\":\"white\",\"gridwidth\":2},\"yaxis\":{\"backgroundcolor\":\"#E5ECF6\",\"gridcolor\":\"white\",\"linecolor\":\"white\",\"showbackground\":true,\"ticks\":\"\",\"zerolinecolor\":\"white\",\"gridwidth\":2},\"zaxis\":{\"backgroundcolor\":\"#E5ECF6\",\"gridcolor\":\"white\",\"linecolor\":\"white\",\"showbackground\":true,\"ticks\":\"\",\"zerolinecolor\":\"white\",\"gridwidth\":2}},\"shapedefaults\":{\"line\":{\"color\":\"#2a3f5f\"}},\"annotationdefaults\":{\"arrowcolor\":\"#2a3f5f\",\"arrowhead\":0,\"arrowwidth\":1},\"geo\":{\"bgcolor\":\"white\",\"landcolor\":\"#E5ECF6\",\"subunitcolor\":\"white\",\"showland\":true,\"showlakes\":true,\"lakecolor\":\"white\"},\"title\":{\"x\":0.05},\"mapbox\":{\"style\":\"light\"}}},\"xaxis\":{\"anchor\":\"y\",\"domain\":[0.0,1.0],\"title\":{\"text\":\"NumStorePurchases\"}},\"yaxis\":{\"anchor\":\"x\",\"domain\":[0.0,1.0],\"title\":{\"text\":\"Income\"}},\"legend\":{\"tracegroupgap\":0},\"margin\":{\"t\":60},\"boxmode\":\"group\",\"title\":{\"text\":\"Purchase Frequency by Income\"}},                        {\"responsive\": true}                    ).then(function(){\n",
              "                            \n",
              "var gd = document.getElementById('7718462f-0d8f-4ba2-8936-4dc9e30afd5c');\n",
              "var x = new MutationObserver(function (mutations, observer) {{\n",
              "        var display = window.getComputedStyle(gd).display;\n",
              "        if (!display || display === 'none') {{\n",
              "            console.log([gd, 'removed!']);\n",
              "            Plotly.purge(gd);\n",
              "            observer.disconnect();\n",
              "        }}\n",
              "}});\n",
              "\n",
              "// Listen for the removal of the full notebook cells\n",
              "var notebookContainer = gd.closest('#notebook-container');\n",
              "if (notebookContainer) {{\n",
              "    x.observe(notebookContainer, {childList: true});\n",
              "}}\n",
              "\n",
              "// Listen for the clearing of the current output cell\n",
              "var outputEl = gd.closest('.output');\n",
              "if (outputEl) {{\n",
              "    x.observe(outputEl, {childList: true});\n",
              "}}\n",
              "\n",
              "                        })                };                            </script>        </div>\n",
              "</body>\n",
              "</html>"
            ]
          },
          "metadata": {}
        }
      ]
    },
    {
      "cell_type": "code",
      "source": [
        "# Logistic regression to predict response rate with significant factors and coefficients\n",
        "X = df[['Age', 'Income', 'NumCatalogPurchases', 'NumStorePurchases', 'Kidhome', 'Recency']]\n",
        "X = X.fillna(X.mean())\n",
        "y = df['Response_actual']\n",
        "\n",
        "model = LogisticRegression()\n",
        "model.fit(X, y)\n",
        "\n",
        "print('Predicted response rate:', model.predict(X).mean())"
      ],
      "metadata": {
        "colab": {
          "base_uri": "https://localhost:8080/"
        },
        "id": "S30oFYoz7oJL",
        "outputId": "e051bc52-fac9-4fe7-89a6-913549f58ba5"
      },
      "execution_count": 12,
      "outputs": [
        {
          "output_type": "stream",
          "name": "stdout",
          "text": [
            "Predicted response rate: 0.060267857142857144\n"
          ]
        }
      ]
    },
    {
      "cell_type": "code",
      "source": [
        "# Print important coefficients and their significance\n",
        "print('Logistic Regression Coefficients:')\n",
        "for name, coef in zip(X.columns, model.coef_.flatten()):  # Flatten the array\n",
        "    print(f'{name}: {coef:.4f}')\n",
        "\n",
        "\n",
        "# Age:  A slightly negative coefficient (-0.0330) suggests a weak negative relationship between age and response.\n",
        "#       As age increases, the model might predict a slightly lower probability of responding.\n",
        "\n",
        "# Income: A zero coefficient (0.0000) indicates no statistically significant relationship between income and response according to this model.\n",
        "\n",
        "# NumCatalogPurchases:  A positive coefficient (0.2248) suggests a positive relationship between the number of catalog purchases and response.\n",
        "#                       As the number of catalog purchases increases, the model predicts a higher probability of responding.\n",
        "#                       This might indicate that customers who purchase from catalogs are more likely to respond to marketing campaigns.\n",
        "\n",
        "# NumStorePurchases:  A negative coefficient (-0.0380) suggests a weak negative relationship between the number of store purchases and response.\n",
        "#                     This could be due to various reasons, such as store purchases already fulfilling customer needs, or a different customer segment frequenting stores compared to those who respond to campaigns.\n",
        "\n",
        "# Kidhome:  A negative coefficient (-0.0774) suggests a weak negative relationship between having children at home and response.\n",
        "#           However, the magnitude is small, so the interpretation might not be very strong.\n",
        "\n",
        "# Recency:  A negative coefficient (-0.0066) suggests a weak negative relationship between the recency of a customer's purchase and response."
      ],
      "metadata": {
        "colab": {
          "base_uri": "https://localhost:8080/"
        },
        "id": "KjyeAZBhNR3S",
        "outputId": "1927e744-ee48-4726-b48c-cf217bb59ff5"
      },
      "execution_count": 13,
      "outputs": [
        {
          "output_type": "stream",
          "name": "stdout",
          "text": [
            "Logistic Regression Coefficients:\n",
            "Age: -0.0330\n",
            "Income: 0.0000\n",
            "NumCatalogPurchases: 0.2248\n",
            "NumStorePurchases: -0.0380\n",
            "Kidhome: -0.0774\n",
            "Recency: -0.0066\n"
          ]
        }
      ]
    },
    {
      "cell_type": "code",
      "source": [
        "# Print overall model performance\n",
        "y_pred = model.predict(X)\n",
        "print(f'Accuracy: {accuracy_score(y, y_pred):.4f}')\n",
        "print(f'F1 Score: {f1_score(y, y_pred):.4f}')\n",
        "print(f'Confusion Matrix:\\n{confusion_matrix(y, y_pred)}')"
      ],
      "metadata": {
        "colab": {
          "base_uri": "https://localhost:8080/"
        },
        "id": "8VzCa6-2NUe7",
        "outputId": "3bef93bf-05b3-4c67-f42c-90868a7e9b8d"
      },
      "execution_count": 14,
      "outputs": [
        {
          "output_type": "stream",
          "name": "stdout",
          "text": [
            "Accuracy: 0.7875\n",
            "F1 Score: 0.2040\n",
            "Confusion Matrix:\n",
            "[[1703   74]\n",
            " [ 402   61]]\n"
          ]
        }
      ]
    },
    {
      "cell_type": "code",
      "source": [
        "# Prediction Model: Campaign Conversions (average conversions per cluster)\n",
        "\n",
        "from sklearn.preprocessing import StandardScaler\n",
        "scaler = StandardScaler()\n",
        "\n",
        "X = df[['Age', 'Income', 'NumCatalogPurchases']]\n",
        "X = X.fillna(X.mean())\n",
        "X_scaled = scaler.fit_transform(X)\n",
        "y = df['Response_actual']\n",
        "\n",
        "# Retrain the model with scaled features\n",
        "model.fit(X_scaled, y)\n",
        "\n",
        "model = LogisticRegression()\n",
        "model.fit(X, y)\n",
        "print('Expected campaigns till conversion:', 1/model.predict_proba(X)[:,1].mean())"
      ],
      "metadata": {
        "colab": {
          "base_uri": "https://localhost:8080/"
        },
        "id": "Okp6JICTNX_U",
        "outputId": "0112e659-3d54-4f29-b018-6ce5f5279a55"
      },
      "execution_count": 15,
      "outputs": [
        {
          "output_type": "stream",
          "name": "stdout",
          "text": [
            "Expected campaigns till conversion: 4.441816682978153\n"
          ]
        }
      ]
    },
    {
      "cell_type": "code",
      "source": [
        "# Predict conversion probability for each customer on an average\n",
        "y_proba = model.predict_proba(X)[:, 1]  # Probability of responding (positive class)\n",
        "print(y_proba.mean())"
      ],
      "metadata": {
        "colab": {
          "base_uri": "https://localhost:8080/"
        },
        "id": "U6xyk7vkNhpc",
        "outputId": "06c2bda5-f37a-44d2-b4b5-044c09cdee01"
      },
      "execution_count": 16,
      "outputs": [
        {
          "output_type": "stream",
          "name": "stdout",
          "text": [
            "0.22513310912451234\n"
          ]
        }
      ]
    },
    {
      "cell_type": "code",
      "source": [
        "# Cluster customers\n",
        "kmeans = KMeans(n_clusters=5).fit(X)\n",
        "df['segment'] = kmeans.labels_"
      ],
      "metadata": {
        "colab": {
          "base_uri": "https://localhost:8080/"
        },
        "id": "Ci6HrPJ3NpyY",
        "outputId": "a0fb978c-18b0-4de1-ce5c-eee58b02b2f5"
      },
      "execution_count": 17,
      "outputs": [
        {
          "output_type": "stream",
          "name": "stderr",
          "text": [
            "/usr/local/lib/python3.10/dist-packages/sklearn/cluster/_kmeans.py:870: FutureWarning:\n",
            "\n",
            "The default value of `n_init` will change from 10 to 'auto' in 1.4. Set the value of `n_init` explicitly to suppress the warning\n",
            "\n"
          ]
        }
      ]
    },
    {
      "cell_type": "code",
      "source": [
        "# Average expected campaigns till conversion for each cluster\n",
        "df['expected_conversions'] = 1 / y_proba\n",
        "print(df.groupby('segment')['expected_conversions'].mean())"
      ],
      "metadata": {
        "colab": {
          "base_uri": "https://localhost:8080/"
        },
        "id": "2vCqCtwyNs5s",
        "outputId": "78b37792-4567-44e8-8b11-a5d4090b6b9a"
      },
      "execution_count": 18,
      "outputs": [
        {
          "output_type": "stream",
          "name": "stdout",
          "text": [
            "segment\n",
            "0    5.004614\n",
            "1    7.514805\n",
            "2    1.000002\n",
            "3    3.481833\n",
            "4    6.622456\n",
            "Name: expected_conversions, dtype: float64\n"
          ]
        }
      ]
    },
    {
      "cell_type": "code",
      "source": [
        "# Response prediction model performance using cross-validation\n",
        "from sklearn.model_selection import cross_validate\n",
        "scores = cross_validate(model, X, y, scoring=['accuracy', 'precision', 'recall', 'f1'])"
      ],
      "metadata": {
        "id": "Otlsuw0LNvjF"
      },
      "execution_count": 19,
      "outputs": []
    },
    {
      "cell_type": "code",
      "source": [
        "# Print average scores\n",
        "print('Average Cross Validation Scores:')\n",
        "print(f'Accuracy: {scores[\"test_accuracy\"].mean():.4f}')\n",
        "print(f'Precision: {scores[\"test_precision\"].mean():.4f}')\n",
        "print(f'Recall: {scores[\"test_recall\"].mean():.4f}')\n",
        "print(f'F1 Score: {scores[\"test_f1\"].mean():.4f}')"
      ],
      "metadata": {
        "colab": {
          "base_uri": "https://localhost:8080/"
        },
        "id": "3kH2u-L0N07F",
        "outputId": "17320cfa-cdc3-4194-e908-5e90d297dcf7"
      },
      "execution_count": 20,
      "outputs": [
        {
          "output_type": "stream",
          "name": "stdout",
          "text": [
            "Average Cross Validation Scores:\n",
            "Accuracy: 0.7951\n",
            "Precision: 0.5357\n",
            "Recall: 0.1037\n",
            "F1 Score: 0.1730\n"
          ]
        }
      ]
    },
    {
      "cell_type": "code",
      "source": [
        "# Cluster visualization\n",
        "import matplotlib.pyplot as plt\n",
        "import seaborn as sns\n",
        "\n",
        "sns.scatterplot(\n",
        "    x=\"Age\",\n",
        "    y=\"Income\",\n",
        "    hue=\"segment\",\n",
        "    palette=\"Set2\",\n",
        "    data=df,\n",
        ")\n",
        "plt.title('Customer Segments by Age and Income')\n",
        "plt.show()\n"
      ],
      "metadata": {
        "colab": {
          "base_uri": "https://localhost:8080/",
          "height": 472
        },
        "id": "43FtHuxpNzg5",
        "outputId": "3fad2583-b1aa-41aa-f5e7-b6f9320a071e"
      },
      "execution_count": 21,
      "outputs": [
        {
          "output_type": "display_data",
          "data": {
            "text/plain": [
              "<Figure size 640x480 with 1 Axes>"
            ],
            "image/png": "[encoded data removed]"
          },
          "metadata": {}
        }
      ]
    },
    {
      "cell_type": "code",
      "source": [
        "# Applying Random Forest as Logistic Regression cannot handle all features to identify cluster-wise segmentation\n",
        "\n",
        "from sklearn.ensemble import RandomForestClassifier\n",
        "\n",
        "# Loop through clusters and build models\n",
        "cluster_models = {}\n",
        "for cluster in df['segment'].unique():\n",
        "  cluster_data = df[df['segment'] == cluster]\n",
        "  X_cluster = cluster_data[['Age', 'Income', 'NumCatalogPurchases']]  # Assuming these features\n",
        "  y_cluster = cluster_data['Response_actual']\n",
        "\n",
        "  # Create and fit a Random Forest model\n",
        "  model = RandomForestClassifier()\n",
        "  model.fit(X_cluster, y_cluster)\n",
        "\n",
        "  # Store the model for the current cluster\n",
        "  cluster_models[cluster] = model\n",
        "\n",
        "# for example, print feature importances for cluster 1 model:\n",
        "print(cluster_models[1].feature_importances_)\n",
        "\n",
        "# Predicting with Cluster Models (assuming new data with cluster assignments)\n",
        "new_data = pd.DataFrame({'Age': [85], 'Income': [80000], 'NumCatalogPurchases': [10]})  # Example data\n",
        "cluster = 3  # Assuming assigned cluster\n",
        "\n",
        "# Use the model for the assigned cluster to predict\n",
        "predicted_response = cluster_models[cluster].predict(new_data)[0]\n",
        "\n",
        "print(f\"Predicted response for new data (cluster {cluster}): {predicted_response}\")"
      ],
      "metadata": {
        "colab": {
          "base_uri": "https://localhost:8080/"
        },
        "id": "OxdMuwKeWEYl",
        "outputId": "575c0b8e-fc55-41cb-9fe9-df2bf2c92a21"
      },
      "execution_count": 22,
      "outputs": [
        {
          "output_type": "stream",
          "name": "stdout",
          "text": [
            "[0.33036133 0.58887068 0.080768  ]\n",
            "Predicted response for new data (cluster 3): 1\n"
          ]
        }
      ]
    }
  ]
}